{
 "cells": [
  {
   "cell_type": "markdown",
   "id": "4c130410",
   "metadata": {},
   "source": [
    "# Math"
   ]
  },
  {
   "cell_type": "code",
   "execution_count": 3,
   "id": "f274b11f",
   "metadata": {},
   "outputs": [
    {
     "name": "stdout",
     "output_type": "stream",
     "text": [
      "8.0\n",
      "2.0\n",
      "3\n",
      "2\n",
      "2\n",
      "5.0\n"
     ]
    }
   ],
   "source": [
    "import math\n",
    "\n",
    "print(math.pow(2,3))\n",
    "print(math.sqrt(4))\n",
    "print(math.ceil(2.5))\n",
    "print(math.floor(2.5))\n",
    "print(math.trunc(2.5))\n",
    "print(math.fabs(-5))   # absolute of float"
   ]
  },
  {
   "cell_type": "code",
   "execution_count": 2,
   "id": "f87a60d2",
   "metadata": {},
   "outputs": [
    {
     "data": {
      "text/plain": [
       "8.0"
      ]
     },
     "execution_count": 2,
     "metadata": {},
     "output_type": "execute_result"
    }
   ],
   "source": [
    "from math import pow\n",
    "\n",
    "pow(2,3)"
   ]
  },
  {
   "cell_type": "code",
   "execution_count": 3,
   "id": "d5683c6e",
   "metadata": {},
   "outputs": [
    {
     "data": {
      "text/plain": [
       "1.5707963267948966"
      ]
     },
     "execution_count": 3,
     "metadata": {},
     "output_type": "execute_result"
    }
   ],
   "source": [
    "math.pi/2"
   ]
  },
  {
   "cell_type": "code",
   "execution_count": 4,
   "id": "91aa9ae8",
   "metadata": {},
   "outputs": [
    {
     "data": {
      "text/plain": [
       "1.0"
      ]
     },
     "execution_count": 4,
     "metadata": {},
     "output_type": "execute_result"
    }
   ],
   "source": [
    "math.sin(1.5707963267948966)"
   ]
  },
  {
   "cell_type": "code",
   "execution_count": 5,
   "id": "e1bd27e1",
   "metadata": {},
   "outputs": [
    {
     "data": {
      "text/plain": [
       "0.8939966636005579"
      ]
     },
     "execution_count": 5,
     "metadata": {},
     "output_type": "execute_result"
    }
   ],
   "source": [
    "math.sin(90)"
   ]
  },
  {
   "cell_type": "code",
   "execution_count": 5,
   "id": "19dce897",
   "metadata": {},
   "outputs": [],
   "source": [
    "# Trignometry Functon"
   ]
  },
  {
   "cell_type": "code",
   "execution_count": 6,
   "id": "03269f92",
   "metadata": {},
   "outputs": [
    {
     "name": "stdout",
     "output_type": "stream",
     "text": [
      "1.0\n",
      "6.123233995736766e-17\n",
      "1.633123935319537e+16\n",
      "3.141592653589793\n",
      "90.0\n",
      "5.0\n"
     ]
    }
   ],
   "source": [
    "print(math.sin(math.pi/2))\n",
    "print(math.cos(math.pi/2))\n",
    "print(math.tan(math.pi/2))\n",
    "print(math.radians(180))\n",
    "print(math.degrees(math.pi/2))\n",
    "print(math.hypot(3,4))"
   ]
  },
  {
   "cell_type": "code",
   "execution_count": 7,
   "id": "c03313d2",
   "metadata": {},
   "outputs": [
    {
     "data": {
      "text/plain": [
       "1.0"
      ]
     },
     "execution_count": 7,
     "metadata": {},
     "output_type": "execute_result"
    }
   ],
   "source": [
    "(math.sin(math.radians(180/2)))"
   ]
  },
  {
   "cell_type": "code",
   "execution_count": 8,
   "id": "22daa186",
   "metadata": {},
   "outputs": [],
   "source": [
    "# Constant value"
   ]
  },
  {
   "cell_type": "code",
   "execution_count": 9,
   "id": "05a9d7ad",
   "metadata": {},
   "outputs": [
    {
     "name": "stdout",
     "output_type": "stream",
     "text": [
      "3.141592653589793\n",
      "6.283185307179586\n",
      "2.718281828459045\n",
      "inf\n",
      "nan\n"
     ]
    }
   ],
   "source": [
    "print(math.pi)\n",
    "print(math.tau)\n",
    "print(math.e)\n",
    "print(math.inf)\n",
    "print(math.nan)\n"
   ]
  },
  {
   "cell_type": "code",
   "execution_count": 6,
   "id": "9b02754a",
   "metadata": {},
   "outputs": [
    {
     "data": {
      "text/plain": [
       "nan"
      ]
     },
     "execution_count": 6,
     "metadata": {},
     "output_type": "execute_result"
    }
   ],
   "source": [
    "math.inf-math.nan"
   ]
  },
  {
   "cell_type": "code",
   "execution_count": 8,
   "id": "d7703833",
   "metadata": {},
   "outputs": [
    {
     "name": "stdout",
     "output_type": "stream",
     "text": [
      "120\n",
      "10\n",
      "20\n",
      "24.0\n",
      "0.5204998778130465\n",
      "5.196152422706632\n",
      "4\n",
      "True\n"
     ]
    }
   ],
   "source": [
    "print(math.factorial(5))\n",
    "print(math.comb(5,2))\n",
    "print(math.perm(5,2))\n",
    "print(math.gamma(5))\n",
    "print(math.erf(0.5))\n",
    "p=(1,2,3)\n",
    "q=(4,5,6)\n",
    "print(math.dist(p,q))\n",
    "print(math.isqrt(16)) ##trauncate and sqrt\n",
    "print(math.isclose(0.1+0.2,0.3))"
   ]
  },
  {
   "cell_type": "code",
   "execution_count": 9,
   "id": "aed9bb8e",
   "metadata": {},
   "outputs": [],
   "source": [
    "# OS Module"
   ]
  },
  {
   "cell_type": "code",
   "execution_count": 12,
   "id": "10c150cb",
   "metadata": {},
   "outputs": [],
   "source": [
    "# Random Module"
   ]
  },
  {
   "cell_type": "markdown",
   "id": "97b952b0",
   "metadata": {},
   "source": [
    "# Exceptional Handling / Error Handling\n",
    "(For User comfort and save from hacker)"
   ]
  },
  {
   "cell_type": "code",
   "execution_count": 13,
   "id": "35a32352",
   "metadata": {},
   "outputs": [
    {
     "name": "stdout",
     "output_type": "stream",
     "text": [
      "enter a number: l\n"
     ]
    },
    {
     "ename": "ValueError",
     "evalue": "invalid literal for int() with base 10: 'l'",
     "output_type": "error",
     "traceback": [
      "\u001b[1;31m---------------------------------------------------------------------------\u001b[0m",
      "\u001b[1;31mValueError\u001b[0m                                Traceback (most recent call last)",
      "Cell \u001b[1;32mIn[13], line 1\u001b[0m\n\u001b[1;32m----> 1\u001b[0m inp \u001b[38;5;241m=\u001b[39m \u001b[38;5;28;43mint\u001b[39;49m\u001b[43m(\u001b[49m\u001b[38;5;28;43minput\u001b[39;49m\u001b[43m(\u001b[49m\u001b[38;5;124;43m\"\u001b[39;49m\u001b[38;5;124;43menter a number: \u001b[39;49m\u001b[38;5;124;43m\"\u001b[39;49m\u001b[43m)\u001b[49m\u001b[43m)\u001b[49m\n\u001b[0;32m      2\u001b[0m \u001b[38;5;28mprint\u001b[39m(inp)\n",
      "\u001b[1;31mValueError\u001b[0m: invalid literal for int() with base 10: 'l'"
     ]
    }
   ],
   "source": [
    "inp = int(input(\"enter a number: \"))\n",
    "print(inp)"
   ]
  },
  {
   "cell_type": "code",
   "execution_count": 14,
   "id": "b147e823",
   "metadata": {},
   "outputs": [
    {
     "name": "stdout",
     "output_type": "stream",
     "text": [
      "enter numberl\n",
      "Invalid Input\n"
     ]
    }
   ],
   "source": [
    "try:\n",
    "    num=int(input(\"enter number\"))\n",
    "    print(num)\n",
    "except ValueError:\n",
    "    print(\"Invalid Input\")"
   ]
  },
  {
   "cell_type": "code",
   "execution_count": 15,
   "id": "41535549",
   "metadata": {},
   "outputs": [
    {
     "name": "stdout",
     "output_type": "stream",
     "text": [
      "enter number2\n",
      "enter another number0\n"
     ]
    },
    {
     "ename": "ZeroDivisionError",
     "evalue": "division by zero",
     "output_type": "error",
     "traceback": [
      "\u001b[1;31m---------------------------------------------------------------------------\u001b[0m",
      "\u001b[1;31mZeroDivisionError\u001b[0m                         Traceback (most recent call last)",
      "Cell \u001b[1;32mIn[15], line 4\u001b[0m\n\u001b[0;32m      2\u001b[0m     num1\u001b[38;5;241m=\u001b[39m\u001b[38;5;28mint\u001b[39m(\u001b[38;5;28minput\u001b[39m(\u001b[38;5;124m\"\u001b[39m\u001b[38;5;124menter number\u001b[39m\u001b[38;5;124m\"\u001b[39m))\n\u001b[0;32m      3\u001b[0m     num2\u001b[38;5;241m=\u001b[39m\u001b[38;5;28mint\u001b[39m(\u001b[38;5;28minput\u001b[39m(\u001b[38;5;124m\"\u001b[39m\u001b[38;5;124menter another number\u001b[39m\u001b[38;5;124m\"\u001b[39m))\n\u001b[1;32m----> 4\u001b[0m     \u001b[38;5;28mprint\u001b[39m(\u001b[43mnum1\u001b[49m\u001b[38;5;241;43m/\u001b[39;49m\u001b[43mnum2\u001b[49m)\n\u001b[0;32m      5\u001b[0m \u001b[38;5;28;01mexcept\u001b[39;00m \u001b[38;5;167;01mValueError\u001b[39;00m:\n\u001b[0;32m      6\u001b[0m     \u001b[38;5;28mprint\u001b[39m(\u001b[38;5;124m\"\u001b[39m\u001b[38;5;124mInvalid Input\u001b[39m\u001b[38;5;124m\"\u001b[39m)\n",
      "\u001b[1;31mZeroDivisionError\u001b[0m: division by zero"
     ]
    }
   ],
   "source": [
    "try:\n",
    "    num1=int(input(\"enter number\"))\n",
    "    num2=int(input(\"enter another number\"))\n",
    "    print(num1/num2)\n",
    "except ValueError:\n",
    "    print(\"Invalid Input\")"
   ]
  },
  {
   "cell_type": "code",
   "execution_count": 17,
   "id": "76d8f054",
   "metadata": {},
   "outputs": [
    {
     "name": "stdout",
     "output_type": "stream",
     "text": [
      "enter number2\n",
      "enter another number0\n",
      "Cannot be divided by zero\n"
     ]
    }
   ],
   "source": [
    "try:\n",
    "    num1=int(input(\"enter number\"))\n",
    "    num2=int(input(\"enter another number\"))\n",
    "    print(num1/num2)\n",
    "except ValueError:\n",
    "    print(\"Invalid Input\")\n",
    "except ZeroDivisionError:\n",
    "    print(\"Cannot be divided by zero\")"
   ]
  },
  {
   "cell_type": "code",
   "execution_count": 18,
   "id": "f02b1cc5",
   "metadata": {},
   "outputs": [
    {
     "name": "stdout",
     "output_type": "stream",
     "text": [
      "helo there\n"
     ]
    }
   ],
   "source": [
    "print(\"helo there\")"
   ]
  },
  {
   "cell_type": "code",
   "execution_count": 12,
   "id": "bf111b06",
   "metadata": {},
   "outputs": [
    {
     "name": "stdout",
     "output_type": "stream",
     "text": [
      "Cannot be done\n"
     ]
    }
   ],
   "source": [
    "num=\"abc\"\n",
    "try:\n",
    "    numm=int(num)\n",
    "    print(num)\n",
    "except (ValueError,TypeError):\n",
    "    print(\"Cannot be done\")"
   ]
  },
  {
   "cell_type": "code",
   "execution_count": null,
   "id": "ce012f16",
   "metadata": {},
   "outputs": [],
   "source": []
  },
  {
   "cell_type": "code",
   "execution_count": 14,
   "id": "743f40a4",
   "metadata": {},
   "outputs": [
    {
     "name": "stdout",
     "output_type": "stream",
     "text": [
      "done\n"
     ]
    }
   ],
   "source": [
    "word=\"abcdef\"\n",
    "try:\n",
    "    e=int(word)\n",
    "    print(e)\n",
    "except (TypeError, ValueError):\n",
    "    print(\"done\")"
   ]
  },
  {
   "cell_type": "code",
   "execution_count": 20,
   "id": "0a135f37",
   "metadata": {},
   "outputs": [
    {
     "name": "stdout",
     "output_type": "stream",
     "text": [
      "Cannot be done\n"
     ]
    }
   ],
   "source": [
    "num=\"abc\"\n",
    "try:\n",
    "    numm=int(num)\n",
    "    print(num)\n",
    "except Exception:\n",
    "    print(\"Cannot be done\")"
   ]
  },
  {
   "cell_type": "code",
   "execution_count": 21,
   "id": "a76af475",
   "metadata": {},
   "outputs": [
    {
     "name": "stdout",
     "output_type": "stream",
     "text": [
      "invalid literal for int() with base 10: 'abc'\n"
     ]
    }
   ],
   "source": [
    "num=\"abc\"\n",
    "try:\n",
    "    numm=int(num)\n",
    "    print(num)\n",
    "except Exception as e:\n",
    "    print(e)"
   ]
  },
  {
   "cell_type": "code",
   "execution_count": 16,
   "id": "26325de2",
   "metadata": {},
   "outputs": [
    {
     "name": "stdout",
     "output_type": "stream",
     "text": [
      "enter number2\n",
      "enter another number2\n",
      "1.0\n"
     ]
    }
   ],
   "source": [
    "try:\n",
    "    num1=int(input(\"enter number\"))\n",
    "    num2=int(input(\"enter another number\"))\n",
    "except ValueError:\n",
    "    print(\"Invalid Input\")\n",
    "except ZeroDivisionError:\n",
    "    print(\"Cannot be divided by zero\")\n",
    "else:\n",
    "    print(num1/num2)\n"
   ]
  },
  {
   "cell_type": "code",
   "execution_count": 20,
   "id": "7a231f06",
   "metadata": {},
   "outputs": [
    {
     "name": "stdout",
     "output_type": "stream",
     "text": [
      "enter number2\n",
      "enter another number.\n",
      "Invalid Input\n"
     ]
    }
   ],
   "source": [
    "try:\n",
    "    num1=int(input(\"enter number\"))\n",
    "    num2=int(input(\"enter another number\"))\n",
    "    print(num1/num2)\n",
    "except ValueError:\n",
    "    print(\"Invalid Input\")\n",
    "except ZeroDivisionError:\n",
    "    print(\"Cannot be divided by zero\")\n",
    "else:\n",
    "    print(\"out\")"
   ]
  },
  {
   "cell_type": "code",
   "execution_count": null,
   "id": "3199b82f",
   "metadata": {},
   "outputs": [],
   "source": []
  },
  {
   "cell_type": "code",
   "execution_count": null,
   "id": "2d2b99a7",
   "metadata": {},
   "outputs": [],
   "source": [
    "# Finally Block"
   ]
  },
  {
   "cell_type": "code",
   "execution_count": 23,
   "id": "298bf783",
   "metadata": {},
   "outputs": [
    {
     "name": "stdout",
     "output_type": "stream",
     "text": [
      "enter number2\n",
      "enter another number0\n",
      "Cannot be divided by zero\n",
      "all set\n"
     ]
    }
   ],
   "source": [
    "try:\n",
    "    num1=int(input(\"enter number\"))\n",
    "    num2=int(input(\"enter another number\"))\n",
    "    z=num1/num2\n",
    "except ValueError:\n",
    "    print(\"Invalid Input\")\n",
    "except ZeroDivisionError:\n",
    "    print(\"Cannot be divided by zero\")\n",
    "else:\n",
    "    print (z)\n",
    "finally:\n",
    "    print(\"all set\") # Signature"
   ]
  },
  {
   "cell_type": "markdown",
   "id": "c076b337",
   "metadata": {},
   "source": [
    "# Raise Error\n",
    "generate error"
   ]
  },
  {
   "cell_type": "code",
   "execution_count": 21,
   "id": "f2c682a7",
   "metadata": {},
   "outputs": [
    {
     "ename": "ValueError",
     "evalue": "x cannot be greater than 5",
     "output_type": "error",
     "traceback": [
      "\u001b[1;31m---------------------------------------------------------------------------\u001b[0m",
      "\u001b[1;31mValueError\u001b[0m                                Traceback (most recent call last)",
      "Cell \u001b[1;32mIn[21], line 1\u001b[0m\n\u001b[1;32m----> 1\u001b[0m \u001b[38;5;28;01mraise\u001b[39;00m \u001b[38;5;167;01mValueError\u001b[39;00m(\u001b[38;5;124m\"\u001b[39m\u001b[38;5;124mx cannot be greater than 5\u001b[39m\u001b[38;5;124m\"\u001b[39m)\n",
      "\u001b[1;31mValueError\u001b[0m: x cannot be greater than 5"
     ]
    }
   ],
   "source": [
    "raise ValueError(\"x cannot be greater than 5\")"
   ]
  },
  {
   "cell_type": "code",
   "execution_count": 28,
   "id": "df93946b",
   "metadata": {},
   "outputs": [
    {
     "ename": "ValueError",
     "evalue": "x cannot be greater than 5",
     "output_type": "error",
     "traceback": [
      "\u001b[1;31m---------------------------------------------------------------------------\u001b[0m",
      "\u001b[1;31mValueError\u001b[0m                                Traceback (most recent call last)",
      "Cell \u001b[1;32mIn[28], line 3\u001b[0m\n\u001b[0;32m      1\u001b[0m x\u001b[38;5;241m=\u001b[39m\u001b[38;5;241m10\u001b[39m\n\u001b[0;32m      2\u001b[0m \u001b[38;5;28;01mif\u001b[39;00m x\u001b[38;5;241m>\u001b[39m\u001b[38;5;241m5\u001b[39m:\n\u001b[1;32m----> 3\u001b[0m     \u001b[38;5;28;01mraise\u001b[39;00m \u001b[38;5;167;01mValueError\u001b[39;00m(\u001b[38;5;124m\"\u001b[39m\u001b[38;5;124mx cannot be greater than 5\u001b[39m\u001b[38;5;124m\"\u001b[39m)\n\u001b[0;32m      4\u001b[0m     \u001b[38;5;28;01mraise\u001b[39;00m \u001b[38;5;167;01mValueError\u001b[39;00m\n",
      "\u001b[1;31mValueError\u001b[0m: x cannot be greater than 5"
     ]
    }
   ],
   "source": [
    "x=10\n",
    "if x>5:\n",
    "    raise ValueError(\"x cannot be greater than 5\")"
   ]
  },
  {
   "cell_type": "code",
   "execution_count": 29,
   "id": "6d0d3764",
   "metadata": {},
   "outputs": [
    {
     "ename": "ValueError",
     "evalue": "",
     "output_type": "error",
     "traceback": [
      "\u001b[1;31m---------------------------------------------------------------------------\u001b[0m",
      "\u001b[1;31mValueError\u001b[0m                                Traceback (most recent call last)",
      "Cell \u001b[1;32mIn[29], line 3\u001b[0m\n\u001b[0;32m      1\u001b[0m x\u001b[38;5;241m=\u001b[39m\u001b[38;5;241m10\u001b[39m\n\u001b[0;32m      2\u001b[0m \u001b[38;5;28;01mif\u001b[39;00m x\u001b[38;5;241m>\u001b[39m\u001b[38;5;241m5\u001b[39m:\n\u001b[1;32m----> 3\u001b[0m     \u001b[38;5;28;01mraise\u001b[39;00m \u001b[38;5;167;01mValueError\u001b[39;00m\n",
      "\u001b[1;31mValueError\u001b[0m: "
     ]
    }
   ],
   "source": [
    "x=10\n",
    "if x>5:\n",
    "    raise ValueError"
   ]
  },
  {
   "cell_type": "code",
   "execution_count": 28,
   "id": "bcc6943c",
   "metadata": {
    "scrolled": true
   },
   "outputs": [
    {
     "ename": "NameError",
     "evalue": "name 'MyException' is not defined",
     "output_type": "error",
     "traceback": [
      "\u001b[1;31m---------------------------------------------------------------------------\u001b[0m",
      "\u001b[1;31mNameError\u001b[0m                                 Traceback (most recent call last)",
      "Cell \u001b[1;32mIn[28], line 3\u001b[0m\n\u001b[0;32m      1\u001b[0m \u001b[38;5;28;01mclass\u001b[39;00m \u001b[38;5;21;01mabc\u001b[39;00m (\u001b[38;5;167;01mException\u001b[39;00m):\n\u001b[0;32m      2\u001b[0m     \u001b[38;5;28;01mpass\u001b[39;00m\n\u001b[1;32m----> 3\u001b[0m \u001b[38;5;28;01mraise\u001b[39;00m \u001b[43mMyException\u001b[49m(\u001b[38;5;124m\"\u001b[39m\u001b[38;5;124mcustom exception\u001b[39m\u001b[38;5;124m\"\u001b[39m)\n",
      "\u001b[1;31mNameError\u001b[0m: name 'MyException' is not defined"
     ]
    }
   ],
   "source": [
    "class abc (Exception):\n",
    "    pass\n",
    "raise MyException(\"custom exception\")"
   ]
  },
  {
   "cell_type": "code",
   "execution_count": 22,
   "id": "20f7aeed",
   "metadata": {},
   "outputs": [
    {
     "name": "stdout",
     "output_type": "stream",
     "text": [
      "done\n"
     ]
    }
   ],
   "source": [
    "try:\n",
    "    raise ValueError(\"error is generated\")\n",
    "except ValueError:\n",
    "    print(f\"done\")"
   ]
  },
  {
   "cell_type": "code",
   "execution_count": 23,
   "id": "2e0103f4",
   "metadata": {},
   "outputs": [
    {
     "name": "stdout",
     "output_type": "stream",
     "text": [
      "done\n"
     ]
    }
   ],
   "source": [
    "try:\n",
    "    raise ValueError(\"error is generated\")\n",
    "except Exception:\n",
    "    print(f\"done\")"
   ]
  },
  {
   "cell_type": "code",
   "execution_count": 3,
   "id": "0a2c2c61",
   "metadata": {},
   "outputs": [
    {
     "name": "stdout",
     "output_type": "stream",
     "text": [
      "done:error is generated\n",
      "done: error is generated\n"
     ]
    }
   ],
   "source": [
    "try:\n",
    "    raise ValueError(\"error is generated\")\n",
    "except Exception as e:\n",
    "    print(f\"done:{e}\")\n",
    "    print(\"done:\",e)"
   ]
  },
  {
   "cell_type": "code",
   "execution_count": null,
   "id": "4140043c",
   "metadata": {},
   "outputs": [],
   "source": []
  }
 ],
 "metadata": {
  "kernelspec": {
   "display_name": "Python 3 (ipykernel)",
   "language": "python",
   "name": "python3"
  },
  "language_info": {
   "codemirror_mode": {
    "name": "ipython",
    "version": 3
   },
   "file_extension": ".py",
   "mimetype": "text/x-python",
   "name": "python",
   "nbconvert_exporter": "python",
   "pygments_lexer": "ipython3",
   "version": "3.11.2"
  }
 },
 "nbformat": 4,
 "nbformat_minor": 5
}
