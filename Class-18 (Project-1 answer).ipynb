{
 "cells": [
  {
   "cell_type": "code",
   "execution_count": 1,
   "id": "fdc64692",
   "metadata": {},
   "outputs": [],
   "source": [
    "class Product:\n",
    "    def __init__(self,name,price):\n",
    "        self.name=name\n",
    "        self.price=price"
   ]
  },
  {
   "cell_type": "code",
   "execution_count": 2,
   "id": "dc02cc6c",
   "metadata": {},
   "outputs": [],
   "source": [
    "class User:\n",
    "    lists=[]      #class variable to store all created users\n",
    "    \n",
    "    def __init__(self,name):\n",
    "        self.name=self.validate_name(name)\n",
    "        self._is_premium=False\n",
    "        self._is_admin=False\n",
    "        self.cart=ShoppingCart()\n",
    "        User.lists.append(self)    # add the user to the list of users\n",
    "        if self.name=='admin':\n",
    "            self.__is_premium=True\n",
    "            self.__is_admin=True\n",
    "            \n",
    "    @staticmethod\n",
    "    def validate_name(name):\n",
    "        if any(i.name==name for i in User.lists):\n",
    "            print(f\"user {name} already exists, enter new name\")\n",
    "            unique_name=input(\"enter new name: \")\n",
    "            return User.validate_name(unique_name)  # recursively validate the unique name\n",
    "        return name\n",
    "    \n",
    "    @property\n",
    "    def is_admin(self):\n",
    "        return self.__is_admin\n",
    "    \n",
    "    @property\n",
    "    def is_premium(self):\n",
    "        return self.__is_premium\n",
    "    \n",
    "    def make_admin(self,admin_user):\n",
    "        if self.is_admin:\n",
    "            admin_user.__is_admin=True\n",
    "            admin_user.__is_premium=True\n",
    "            \n",
    "    def make_premium(self,user):\n",
    "        if self.is_admin:\n",
    "            user.__is_premium=True\n",
    " \n",
    "    def remove_admin(self,admin_user):\n",
    "        if self.is_admin:\n",
    "            admin_user.__is_admin=False\n",
    "            \n",
    "    def remove_premium(self,admin_user):\n",
    "        if self.is_admin:\n",
    "            admin_user.__is_premium=False"
   ]
  },
  {
   "cell_type": "code",
   "execution_count": 3,
   "id": "1376a5f0",
   "metadata": {},
   "outputs": [],
   "source": [
    "def discount10(func):\n",
    "    def wrapper(self):            \n",
    "        total=func(self)\n",
    "        discounted=total*0.9\n",
    "        return discounted\n",
    "    return wrapper"
   ]
  },
  {
   "cell_type": "code",
   "execution_count": 4,
   "id": "d3f078f5",
   "metadata": {},
   "outputs": [],
   "source": [
    "class ShoppingCart:\n",
    "    def __init__(self):\n",
    "        self.products=[]\n",
    "        \n",
    "    def addproduct(self,product):         # product is passed as value (instance value)\n",
    "        self.products.append(product)\n",
    "    \n",
    "    def removeproduct(self,product):\n",
    "        self.products.remove(product)\n",
    "    \n",
    "    def totalcost(self):\n",
    "        total=sum(product.price for product in self.products)    # product.price cannot be assecced because it is inside list eg pro1,pro2\n",
    "        return total\n",
    "    \n",
    "    @discount10\n",
    "    def discountedcost(self):\n",
    "        total=sum(product.price for product in self.products)\n",
    "        return total\n",
    "    \n",
    "    def invoice(self,user):                # user is passed as value(instance vaue) eg: u1\n",
    "        invo=f\"Invoice for {user.name}:\\n\"   # u1.name\n",
    "        invo+=\"------------------------\\n\"\n",
    "        for product in self.products:          # (not here) for i in list of product: for j in i: --->j.name and j.price\n",
    "            invo+=f\"{product.name}: ${product.price}\\n\"   # (here) for i in list (counted as number) already saved in getproducts\n",
    "        total=self.totalcost()\n",
    "        if user.is_premium:\n",
    "            invo+=\"---------------\\n\"\n",
    "            invo+=f\"sub-total: ${total}\\n\"\n",
    "            finalcost=self.discountedcost()\n",
    "            invo+=f\"discount(10%): ${total-finalcost}\\n\"\n",
    "            total=finalcost\n",
    "        invo+=\"------------------\\n\"\n",
    "        invo+=f\"total: ${total}\"\n",
    "        return invo\n",
    "    \n",
    "#     def getproducts(self):              # separate list ( product1, product2)\n",
    "#         yield from self.products\n",
    "#         #for product in self.products:\n",
    "#             # yeild product\n",
    "        "
   ]
  },
  {
   "cell_type": "code",
   "execution_count": 5,
   "id": "d8b921d9",
   "metadata": {},
   "outputs": [],
   "source": [
    "# create some products\n",
    "product1=Product(\"shirt\",20)\n",
    "product2=Product(\"pants\",30)\n",
    "product3=Product(\"shoes\",50)\n",
    "\n",
    "# #create a shopping cart\n",
    "# cart=ShoppingCart()\n",
    "\n",
    "# #add products\n",
    "# cart.addproduct(product1)\n",
    "# cart.addproduct(product2)\n",
    "\n",
    "# #use the generator to iterate over the products\n",
    "# for product in cart.getproducts():         # separate individual product (product1 ---> product.name,product.price)\n",
    "#     print(f\"Product: {product.name}, Price: {product.price}\")"
   ]
  },
  {
   "cell_type": "code",
   "execution_count": 6,
   "id": "b5e9c8d0",
   "metadata": {},
   "outputs": [],
   "source": [
    "u1=User('admin')"
   ]
  },
  {
   "cell_type": "code",
   "execution_count": 7,
   "id": "857d1868",
   "metadata": {},
   "outputs": [
    {
     "data": {
      "text/plain": [
       "True"
      ]
     },
     "execution_count": 7,
     "metadata": {},
     "output_type": "execute_result"
    }
   ],
   "source": [
    "u1.is_admin"
   ]
  },
  {
   "cell_type": "code",
   "execution_count": 8,
   "id": "b2e03ae3",
   "metadata": {},
   "outputs": [],
   "source": [
    "# print(cart.invoice(u1))"
   ]
  },
  {
   "cell_type": "code",
   "execution_count": 9,
   "id": "dea13c82",
   "metadata": {},
   "outputs": [],
   "source": [
    "u1.cart.addproduct(product1)\n",
    "u1.cart.addproduct(product3)"
   ]
  },
  {
   "cell_type": "code",
   "execution_count": 10,
   "id": "50eaec9a",
   "metadata": {},
   "outputs": [],
   "source": [
    "invoice1=u1.cart.invoice(u1)"
   ]
  },
  {
   "cell_type": "code",
   "execution_count": 11,
   "id": "2df11574",
   "metadata": {},
   "outputs": [
    {
     "name": "stdout",
     "output_type": "stream",
     "text": [
      "Invoice for admin:\n",
      "------------------------\n",
      "shirt: $20\n",
      "shoes: $50\n",
      "---------------\n",
      "sub-total: $70\n",
      "discount(10%): $7.0\n",
      "------------------\n",
      "total: $63.0\n"
     ]
    }
   ],
   "source": [
    "print(invoice1)"
   ]
  },
  {
   "cell_type": "code",
   "execution_count": 12,
   "id": "1dea83b1",
   "metadata": {},
   "outputs": [],
   "source": [
    "u2=User('rita')"
   ]
  },
  {
   "cell_type": "code",
   "execution_count": 17,
   "id": "e5f72038",
   "metadata": {},
   "outputs": [
    {
     "data": {
      "text/plain": [
       "True"
      ]
     },
     "execution_count": 17,
     "metadata": {},
     "output_type": "execute_result"
    }
   ],
   "source": [
    "u1.make_admin(u2)\n",
    "u2.is_admin"
   ]
  },
  {
   "cell_type": "code",
   "execution_count": 19,
   "id": "bd5e00fd",
   "metadata": {},
   "outputs": [],
   "source": [
    "u2.cart.addproduct(product2)\n",
    "u2.cart.addproduct(product1)"
   ]
  },
  {
   "cell_type": "code",
   "execution_count": 20,
   "id": "8a4a07a6",
   "metadata": {},
   "outputs": [
    {
     "name": "stdout",
     "output_type": "stream",
     "text": [
      "Invoice for rita:\n",
      "------------------------\n",
      "pants: $30\n",
      "pants: $30\n",
      "shirt: $20\n",
      "---------------\n",
      "sub-total: $80\n",
      "discount(10%): $8.0\n",
      "------------------\n",
      "total: $72.0\n"
     ]
    }
   ],
   "source": [
    "invoice1=u2.cart.invoice(u2)\n",
    "print(invoice1)"
   ]
  },
  {
   "cell_type": "code",
   "execution_count": 21,
   "id": "9a0ac73e",
   "metadata": {},
   "outputs": [],
   "source": [
    "u3=User(\"gita\")"
   ]
  },
  {
   "cell_type": "code",
   "execution_count": 22,
   "id": "94a09b8b",
   "metadata": {},
   "outputs": [],
   "source": [
    "u1.make_premium(u3)"
   ]
  },
  {
   "cell_type": "code",
   "execution_count": 23,
   "id": "d802d6e6",
   "metadata": {},
   "outputs": [
    {
     "data": {
      "text/plain": [
       "True"
      ]
     },
     "execution_count": 23,
     "metadata": {},
     "output_type": "execute_result"
    }
   ],
   "source": [
    "u3.is_premium"
   ]
  },
  {
   "cell_type": "code",
   "execution_count": null,
   "id": "3b2dc7ae",
   "metadata": {},
   "outputs": [],
   "source": []
  }
 ],
 "metadata": {
  "kernelspec": {
   "display_name": "Python 3 (ipykernel)",
   "language": "python",
   "name": "python3"
  },
  "language_info": {
   "codemirror_mode": {
    "name": "ipython",
    "version": 3
   },
   "file_extension": ".py",
   "mimetype": "text/x-python",
   "name": "python",
   "nbconvert_exporter": "python",
   "pygments_lexer": "ipython3",
   "version": "3.11.2"
  }
 },
 "nbformat": 4,
 "nbformat_minor": 5
}
