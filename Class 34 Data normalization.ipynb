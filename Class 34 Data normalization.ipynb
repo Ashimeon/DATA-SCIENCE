{
 "cells": [
  {
   "cell_type": "markdown",
   "id": "9b21e857",
   "metadata": {},
   "source": [
    "# Handling data normalization\n",
    "for easy comparison\n",
    "1. Min-Max normalization"
   ]
  },
  {
   "cell_type": "code",
   "execution_count": 1,
   "id": "76df8a7b",
   "metadata": {},
   "outputs": [],
   "source": [
    "import pandas as pd\n",
    "import numpy as np"
   ]
  },
  {
   "cell_type": "code",
   "execution_count": 2,
   "id": "38ede008",
   "metadata": {},
   "outputs": [],
   "source": [
    "# Create a dummy dataset\n",
    "data = pd.DataFrame({\n",
    "    'id': [1, 2, 3, 4, 5],\n",
    "    'value': [10, 20, 30, 40, 50]\n",
    "})"
   ]
  },
  {
   "cell_type": "code",
   "execution_count": 3,
   "id": "83fc55a9",
   "metadata": {},
   "outputs": [],
   "source": [
    "# Perform min-max normalization\n",
    "data['value_norm_minmax'] = (data['value'] - data['value'].min()) / (data['value'].max() - data['value'].min())"
   ]
  },
  {
   "cell_type": "code",
   "execution_count": 4,
   "id": "7bd1357a",
   "metadata": {},
   "outputs": [],
   "source": [
    "# Perform z-score normalization\n",
    "data['value_norm_zscore'] = (data['value'] - data['value'].mean()) / data['value'].std()"
   ]
  },
  {
   "cell_type": "code",
   "execution_count": 5,
   "id": "b1e5f7c8",
   "metadata": {},
   "outputs": [],
   "source": [
    "# Perform log normalization\n",
    "data['value_norm_log'] = np.log(data['value'])"
   ]
  },
  {
   "cell_type": "code",
   "execution_count": 6,
   "id": "f3a085e0",
   "metadata": {},
   "outputs": [
    {
     "name": "stdout",
     "output_type": "stream",
     "text": [
      "   id  value  value_norm_minmax  value_norm_zscore  value_norm_log   \n",
      "0   1     10               0.00          -1.264911        2.302585  \\\n",
      "1   2     20               0.25          -0.632456        2.995732   \n",
      "2   3     30               0.50           0.000000        3.401197   \n",
      "3   4     40               0.75           0.632456        3.688879   \n",
      "4   5     50               1.00           1.264911        3.912023   \n",
      "\n",
      "   value_norm_power  \n",
      "0          3.162278  \n",
      "1          4.472136  \n",
      "2          5.477226  \n",
      "3          6.324555  \n",
      "4          7.071068  \n"
     ]
    }
   ],
   "source": [
    "# Perform power normalization with a = 0.5\n",
    "data['value_norm_power'] = np.sign(data['value']) * np.power(np.abs(data['value']), 0.5)\n",
    "\n",
    "# Print the resulting dataframe\n",
    "print(data)"
   ]
  },
  {
   "cell_type": "markdown",
   "id": "29c40956",
   "metadata": {},
   "source": [
    "# Deletion"
   ]
  },
  {
   "cell_type": "code",
   "execution_count": 7,
   "id": "57345312",
   "metadata": {},
   "outputs": [
    {
     "name": "stdout",
     "output_type": "stream",
     "text": [
      "Original data: \n",
      "    col1  col2  col3\n",
      "0   1.0   6.0  11.0\n",
      "1   2.0   NaN  12.0\n",
      "2   NaN   8.0  13.0\n",
      "3   4.0   9.0   NaN\n",
      "4   5.0  10.0  15.0\n",
      "\n",
      " DataFrame after listwise deletion: \n",
      "    col1  col2  col3\n",
      "0   1.0   6.0  11.0\n",
      "4   5.0  10.0  15.0\n",
      "\n",
      " Dataframe after pairwise deletion: \n",
      "    col1  col2  col3\n",
      "0   1.0   6.0  11.0\n",
      "3   4.0   9.0   NaN\n",
      "4   5.0  10.0  15.0\n",
      "\n",
      "DataFrame after columnwise deletion: \n",
      " Empty DataFrame\n",
      "Columns: []\n",
      "Index: [0, 1, 2, 3, 4]\n",
      "\n",
      " DataFrame after mywise deletion: \n",
      " 0    1.0\n",
      "4    5.0\n",
      "Name: col1, dtype: float64\n"
     ]
    }
   ],
   "source": [
    "# create a dataframe with missing values\n",
    "df =pd.DataFrame({\n",
    "    'col1':[1,2,np.nan,4,5],\n",
    "    'col2':[6, np.nan,8,9,10],\n",
    "    'col3':[11,12,13,np.nan,15]\n",
    "})\n",
    "# display the dataframe\n",
    "print(\"Original data: \\n\", df)\n",
    "\n",
    "# list-wise deletion\n",
    "new_df=df.dropna()\n",
    "print('\\n DataFrame after listwise deletion: \\n',new_df)\n",
    "\n",
    "# Pair-wise deletion \n",
    "new_df=df.dropna(axis=0,subset=['col1','col2'])\n",
    "print('\\n Dataframe after pairwise deletion: \\n', new_df)\n",
    "\n",
    "# Column -wise deletion\n",
    "new_df=df.dropna(axis=1)\n",
    "print('\\nDataFrame after columnwise deletion: \\n',new_df)\n",
    "\n",
    "# My-wise deletion\n",
    "new_df=df.dropna()['col1']\n",
    "print('\\n DataFrame after mywise deletion: \\n',new_df)"
   ]
  },
  {
   "cell_type": "markdown",
   "id": "c827ccc3",
   "metadata": {},
   "source": [
    "# Imputation (Fillup)\n",
    "Mode is used to fillup the category value"
   ]
  },
  {
   "cell_type": "code",
   "execution_count": 8,
   "id": "997fd571",
   "metadata": {},
   "outputs": [
    {
     "name": "stdout",
     "output_type": "stream",
     "text": [
      "Original data:\n",
      "    col1  col2  col3\n",
      "0   1.0   6.0  11.0\n",
      "1   2.0   NaN  12.0\n",
      "2   NaN   8.0  13.0\n",
      "3   4.0   9.0   NaN\n",
      "4   5.0  10.0  15.0\n",
      "\n",
      "Mean Imputation:\n",
      "    col1  col2  col3\n",
      "0   1.0   6.0  11.0\n",
      "1   2.0   NaN  12.0\n",
      "2   3.0   8.0  13.0\n",
      "3   4.0   9.0   NaN\n",
      "4   5.0  10.0  15.0\n",
      "\n",
      "Median Imputation:\n",
      "    col1  col2  col3\n",
      "0   1.0   6.0  11.0\n",
      "1   2.0   NaN  12.0\n",
      "2   3.0   8.0  13.0\n",
      "3   4.0   9.0   NaN\n",
      "4   5.0  10.0  15.0\n",
      "\n",
      "Mode Imputation:\n",
      "    col1  col2  col3\n",
      "0   1.0   6.0  11.0\n",
      "1   2.0   NaN  12.0\n",
      "2   1.0   8.0  13.0\n",
      "3   4.0   9.0   NaN\n",
      "4   5.0  10.0  15.0\n"
     ]
    }
   ],
   "source": [
    "import numpy as np\n",
    "import pandas as pd\n",
    "from sklearn.impute import KNNImputer\n",
    "from sklearn.linear_model import LinearRegression\n",
    "\n",
    "# create a dataframe with missing values\n",
    "df = pd.DataFrame({\n",
    "    'col1': [1, 2, np.nan, 4, 5],\n",
    "    'col2': [6, np.nan, 8, 9, 10],\n",
    "    'col3': [11, 12, 13, np.nan, 15]\n",
    "})\n",
    "\n",
    "# display the dataframe\n",
    "print(\"Original data:\\n\", df)\n",
    "\n",
    "# Mean Imputation\n",
    "new_df = df.copy()\n",
    "mean_value = new_df['col1'].mean()\n",
    "new_df['col1'].fillna(value=mean_value, inplace=True)\n",
    "print(\"\\nMean Imputation:\\n\", new_df)\n",
    "\n",
    "# Median Imputation\n",
    "new_df = df.copy()\n",
    "median_value = new_df['col1'].median()\n",
    "new_df['col1'].fillna(value=median_value, inplace=True)\n",
    "print(\"\\nMedian Imputation:\\n\", new_df)\n",
    "\n",
    "# Mode Imputation\n",
    "new_df = df.copy()\n",
    "mode_value = new_df['col1'].mode()[0]\n",
    "new_df['col1'].fillna(value=mode_value, inplace=True)\n",
    "print(\"\\nMode Imputation:\\n\", new_df)"
   ]
  },
  {
   "cell_type": "code",
   "execution_count": 9,
   "id": "3eb6eb47",
   "metadata": {},
   "outputs": [
    {
     "name": "stdout",
     "output_type": "stream",
     "text": [
      "Original data:\n",
      "    col1  col2  col3\n",
      "0   1.0   6.0  11.0\n",
      "1   2.0   NaN  12.0\n",
      "2   NaN   8.0  13.0\n",
      "3   4.0   9.0   NaN\n",
      "4   5.0  10.0  15.0\n",
      "-------\n",
      "   col2  col3\n",
      "0   6.0  11.0\n",
      "4  10.0  15.0\n",
      "--------\n",
      "0    1.0\n",
      "4    5.0\n",
      "Name: col1, dtype: float64\n",
      "--------\n",
      "0    False\n",
      "1    False\n",
      "2     True\n",
      "3    False\n",
      "4    False\n",
      "Name: col1, dtype: bool\n",
      "-------\n",
      "------\n",
      "   col1  col2  col3\n",
      "2   NaN   8.0  13.0\n",
      "--------\n",
      "   col2  col3\n",
      "2   8.0  13.0\n"
     ]
    }
   ],
   "source": [
    "# Regression Imputation\n",
    "new_df = df.copy()\n",
    "model = LinearRegression()\n",
    "x_train = new_df.dropna()[['col2', 'col3']]  # data points without missing values\n",
    "y_train = new_df.dropna()['col1']  # target variable without missing values\n",
    "print(\"Original data:\\n\", df)\n",
    "print(\"-------\")\n",
    "print(x_train)\n",
    "print(\"--------\")\n",
    "print(y_train)\n",
    "print(\"--------\")\n",
    "model.fit(x_train, y_train)\n",
    "print(new_df['col1'].isna())\n",
    "print(\"-------\")\n",
    "print(\"------\")\n",
    "print(new_df[new_df['col1'].isna()])\n",
    "x_test = new_df[new_df['col1'].isna()][['col2', 'col3']]  # data points with missing values\n",
    "print(\"--------\")\n",
    "print(x_test)"
   ]
  },
  {
   "cell_type": "code",
   "execution_count": 10,
   "id": "e9272cef",
   "metadata": {},
   "outputs": [
    {
     "name": "stdout",
     "output_type": "stream",
     "text": [
      "0    False\n",
      "1    False\n",
      "2     True\n",
      "3    False\n",
      "4    False\n",
      "Name: col1, dtype: bool\n",
      "****\n",
      "   col1  col2  col3\n",
      "2   NaN   8.0  13.0\n",
      "----\n",
      "2   NaN\n",
      "Name: col1, dtype: float64\n",
      "+++++\n",
      "\n",
      "Regression Imputation:\n",
      "    col1  col2  col3\n",
      "0   1.0   6.0  11.0\n",
      "1   2.0   NaN  12.0\n",
      "2   3.0   8.0  13.0\n",
      "3   4.0   9.0   NaN\n",
      "4   5.0  10.0  15.0\n"
     ]
    }
   ],
   "source": [
    "print(df['col1'].isnull())\n",
    "print(\"****\")\n",
    "print(new_df.loc[df['col1'].isnull()])\n",
    "print(\"----\")\n",
    "print(new_df.loc[df['col1'].isnull(), 'col1'])\n",
    "print(\"+++++\")\n",
    "new_df.loc[df['col1'].isnull(), 'col1'] = model.predict(x_test)\n",
    "print(\"\\nRegression Imputation:\\n\", new_df)"
   ]
  },
  {
   "cell_type": "code",
   "execution_count": 11,
   "id": "d237810c",
   "metadata": {},
   "outputs": [
    {
     "name": "stdout",
     "output_type": "stream",
     "text": [
      "0    False\n",
      "1    False\n",
      "2     True\n",
      "3    False\n",
      "4    False\n",
      "Name: col1, dtype: bool\n",
      "-----\n",
      "[2]\n",
      "-------\n",
      "\n",
      "Hot-Deck Imputation:\n",
      "    col1  col2  col3\n",
      "0   1.0   6.0  11.0\n",
      "1   2.0   NaN  12.0\n",
      "2   2.0   8.0  13.0\n",
      "3   4.0   9.0   NaN\n",
      "4   5.0  10.0  15.0\n",
      "\n",
      "K-Nearest Neighbors (KNN) imputation:\n",
      "    col1  col2  col3\n",
      "0   1.0   6.0  11.0\n",
      "1   2.0   7.0  12.0\n",
      "2   3.0   8.0  13.0\n",
      "3   4.0   9.0  14.0\n",
      "4   5.0  10.0  15.0\n"
     ]
    }
   ],
   "source": [
    "# Hot-Deck Imputation\n",
    "new_df = df.copy()\n",
    "print(new_df['col1'].isnull())\n",
    "print(\"-----\")\n",
    "print(np.where(new_df['col1'].isnull())[0])\n",
    "print(\"-------\")\n",
    "missing_index = np.where(new_df['col1'].isnull())[0]\n",
    "for i in missing_index:\n",
    "    new_df.iloc[i, 0] = new_df.iloc[i-1, 0]  # fill missing values with value of the previous observation\n",
    "print(\"\\nHot-Deck Imputation:\\n\", new_df)\n",
    "\n",
    "# K-Nearest Neighbors (KNN) imputation\n",
    "imputer = KNNImputer(n_neighbors=2)\n",
    "df_impute_knn = pd.DataFrame(imputer.fit_transform(df), columns=df.columns) \n",
    "# fit transform means fit then predict then transform\n",
    "print(\"\\nK-Nearest Neighbors (KNN) imputation:\\n\", df_impute_knn) # New dataframe"
   ]
  },
  {
   "cell_type": "markdown",
   "id": "b40b8945",
   "metadata": {},
   "source": [
    "# Prediction"
   ]
  },
  {
   "cell_type": "code",
   "execution_count": 12,
   "id": "7c365d30",
   "metadata": {},
   "outputs": [
    {
     "name": "stdout",
     "output_type": "stream",
     "text": [
      "Original data:\n",
      "    col1  col2  col3\n",
      "0   1.0   6.0  11.0\n",
      "1   2.0   NaN  12.0\n",
      "2   NaN   8.0  13.0\n",
      "3   4.0   9.0   NaN\n",
      "4   5.0  10.0  15.0\n",
      "\n",
      "Data after handling missing values:\n",
      "    col1  col2  col3\n",
      "0   1.0   6.0  11.0\n",
      "1   2.0   NaN  12.0\n",
      "2   3.0   8.0  13.0\n",
      "3   4.0   9.0   NaN\n",
      "4   5.0  10.0  15.0\n"
     ]
    }
   ],
   "source": [
    "import pandas as pd\n",
    "from sklearn.linear_model import LinearRegression\n",
    "\n",
    "# create a dataframe with missing values\n",
    "df = pd.DataFrame({\n",
    "    'col1': [1, 2, np.nan, 4, 5],\n",
    "    'col2': [6, np.nan, 8, 9, 10],\n",
    "    'col3': [11, 12, 13, np.nan, 15]\n",
    "})\n",
    "print(\"Original data:\\n\", df)\n",
    "\n",
    "model = LinearRegression()\n",
    "x_train = df.dropna()[['col2', 'col3']]  # data points without missing values\n",
    "y_train = df.dropna()['col1']  # target variable without missing values\n",
    "model.fit(x_train, y_train)\n",
    "x_test = df[df['col1'].isnull()][['col2', 'col3']]  # data points with missing values\n",
    "df.loc[df['col1'].isnull(), 'col1'] = model.predict(x_test)  # fill missing values with predicted values\n",
    "print(\"\\nData after handling missing values:\\n\", df)"
   ]
  },
  {
   "cell_type": "markdown",
   "id": "86e497ed",
   "metadata": {},
   "source": [
    "# Interpolation"
   ]
  },
  {
   "cell_type": "code",
   "execution_count": 13,
   "id": "5461f7f1",
   "metadata": {},
   "outputs": [
    {
     "name": "stdout",
     "output_type": "stream",
     "text": [
      "Original data:\n",
      "    col1  col2  col3\n",
      "0   1.0   6.0  11.0\n",
      "1   2.0   NaN  12.0\n",
      "2   NaN   8.0  13.0\n",
      "3   4.0   9.0   NaN\n",
      "4   5.0  10.0  15.0\n",
      "\n",
      "Data after Interpolation:\n",
      "    col1  col2  col3\n",
      "0   1.0   6.0  11.0\n",
      "1   2.0   7.0  12.0\n",
      "2   3.0   8.0  13.0\n",
      "3   4.0   9.0  14.0\n",
      "4   5.0  10.0  15.0\n"
     ]
    }
   ],
   "source": [
    "import pandas as pd\n",
    "from scipy import interpolate\n",
    "\n",
    "# create a dataframe with missing values\n",
    "df = pd.DataFrame({\n",
    "    'col1': [1, 2, np.nan, 4, 5],\n",
    "    'col2': [6, np.nan, 8, 9, 10],\n",
    "    'col3': [11, 12, 13, np.nan, 15]\n",
    "})\n",
    "print(\"Original data:\\n\", df)\n",
    "\n",
    "df.interpolate(inplace=True)  # linear interpolation\n",
    "print(\"\\nData after Interpolation:\\n\", df)"
   ]
  },
  {
   "cell_type": "code",
   "execution_count": null,
   "id": "e86485e6",
   "metadata": {},
   "outputs": [],
   "source": []
  }
 ],
 "metadata": {
  "kernelspec": {
   "display_name": "Python 3 (ipykernel)",
   "language": "python",
   "name": "python3"
  },
  "language_info": {
   "codemirror_mode": {
    "name": "ipython",
    "version": 3
   },
   "file_extension": ".py",
   "mimetype": "text/x-python",
   "name": "python",
   "nbconvert_exporter": "python",
   "pygments_lexer": "ipython3",
   "version": "3.11.2"
  }
 },
 "nbformat": 4,
 "nbformat_minor": 5
}
