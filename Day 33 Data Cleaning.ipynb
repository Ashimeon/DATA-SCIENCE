{
 "cells": [
  {
   "cell_type": "markdown",
   "id": "1214b484",
   "metadata": {},
   "source": [
    "# Handling Duplicates\n",
    "data series or data column lai ki condition diney ki function apply garney"
   ]
  },
  {
   "cell_type": "code",
   "execution_count": 1,
   "id": "b1900288",
   "metadata": {},
   "outputs": [
    {
     "name": "stdout",
     "output_type": "stream",
     "text": [
      "Original dataframe: \n",
      "     A  B   C\n",
      "0  foo  1  10\n",
      "1  bar  2  20\n",
      "2  foo  3  30\n",
      "3  baz  4  40\n",
      "4  qux  5  50\n",
      "5  bar  6  60\n",
      "6  foo  7  70\n"
     ]
    }
   ],
   "source": [
    "import pandas as pd\n",
    "# Create a sample dataset with duplicate values\n",
    "data = {'A':['foo','bar','foo','baz','qux','bar','foo'],\n",
    "       'B':[1,2,3,4,5,6,7],\n",
    "       'C':[10,20,30,40,50,60,70]}\n",
    "df = pd.DataFrame(data)\n",
    "\n",
    "# Print the original dataframe\n",
    "print('Original dataframe: ')\n",
    "print(df)"
   ]
  },
  {
   "cell_type": "code",
   "execution_count": 2,
   "id": "928f0e4b",
   "metadata": {},
   "outputs": [
    {
     "name": "stdout",
     "output_type": "stream",
     "text": [
      "\n",
      "DataFrame after duplicates: \n",
      "     A  B   C\n",
      "0  foo  1  10\n",
      "1  bar  2  20\n",
      "3  baz  4  40\n",
      "4  qux  5  50\n"
     ]
    }
   ],
   "source": [
    "# Drop duplicates\n",
    "gh=df.drop_duplicates(subset=['A']) # inplace=False\n",
    "print('\\nDataFrame after duplicates: ')\n",
    "print(gh)"
   ]
  },
  {
   "cell_type": "code",
   "execution_count": 3,
   "id": "db57f97f",
   "metadata": {},
   "outputs": [
    {
     "data": {
      "text/html": [
       "<div>\n",
       "<style scoped>\n",
       "    .dataframe tbody tr th:only-of-type {\n",
       "        vertical-align: middle;\n",
       "    }\n",
       "\n",
       "    .dataframe tbody tr th {\n",
       "        vertical-align: top;\n",
       "    }\n",
       "\n",
       "    .dataframe thead th {\n",
       "        text-align: right;\n",
       "    }\n",
       "</style>\n",
       "<table border=\"1\" class=\"dataframe\">\n",
       "  <thead>\n",
       "    <tr style=\"text-align: right;\">\n",
       "      <th></th>\n",
       "      <th>A</th>\n",
       "      <th>B</th>\n",
       "      <th>C</th>\n",
       "    </tr>\n",
       "  </thead>\n",
       "  <tbody>\n",
       "    <tr>\n",
       "      <th>0</th>\n",
       "      <td>foo</td>\n",
       "      <td>1</td>\n",
       "      <td>10</td>\n",
       "    </tr>\n",
       "    <tr>\n",
       "      <th>1</th>\n",
       "      <td>bar</td>\n",
       "      <td>2</td>\n",
       "      <td>20</td>\n",
       "    </tr>\n",
       "    <tr>\n",
       "      <th>2</th>\n",
       "      <td>foo</td>\n",
       "      <td>3</td>\n",
       "      <td>30</td>\n",
       "    </tr>\n",
       "    <tr>\n",
       "      <th>3</th>\n",
       "      <td>baz</td>\n",
       "      <td>4</td>\n",
       "      <td>40</td>\n",
       "    </tr>\n",
       "    <tr>\n",
       "      <th>4</th>\n",
       "      <td>qux</td>\n",
       "      <td>5</td>\n",
       "      <td>50</td>\n",
       "    </tr>\n",
       "    <tr>\n",
       "      <th>5</th>\n",
       "      <td>bar</td>\n",
       "      <td>6</td>\n",
       "      <td>60</td>\n",
       "    </tr>\n",
       "    <tr>\n",
       "      <th>6</th>\n",
       "      <td>foo</td>\n",
       "      <td>7</td>\n",
       "      <td>70</td>\n",
       "    </tr>\n",
       "  </tbody>\n",
       "</table>\n",
       "</div>"
      ],
      "text/plain": [
       "     A  B   C\n",
       "0  foo  1  10\n",
       "1  bar  2  20\n",
       "2  foo  3  30\n",
       "3  baz  4  40\n",
       "4  qux  5  50\n",
       "5  bar  6  60\n",
       "6  foo  7  70"
      ]
     },
     "execution_count": 3,
     "metadata": {},
     "output_type": "execute_result"
    }
   ],
   "source": [
    "df"
   ]
  },
  {
   "cell_type": "code",
   "execution_count": 4,
   "id": "0027953c",
   "metadata": {},
   "outputs": [
    {
     "name": "stdout",
     "output_type": "stream",
     "text": [
      "\n",
      "Dataframe after aggregation duplicates\n",
      "            B          C\n",
      "A                       \n",
      "bar  4.000000  40.000000\n",
      "baz  4.000000  40.000000\n",
      "foo  3.666667  36.666667\n",
      "qux  5.000000  50.000000\n"
     ]
    }
   ],
   "source": [
    "# Aggregate duplicates\n",
    "agg_df=df.groupby(['A']).mean()\n",
    "print(\"\\nDataframe after aggregation duplicates\")\n",
    "print(agg_df)"
   ]
  },
  {
   "cell_type": "code",
   "execution_count": 5,
   "id": "90b98719",
   "metadata": {},
   "outputs": [
    {
     "name": "stdout",
     "output_type": "stream",
     "text": [
      "\n",
      "DataFrame after keeping the first occurance\n",
      "     A  B   C\n",
      "0  foo  1  10\n",
      "1  bar  2  20\n",
      "3  baz  4  40\n",
      "4  qux  5  50\n"
     ]
    }
   ],
   "source": [
    "# Keep the first occurance\n",
    "first_df=df.drop_duplicates(subset=['A'], keep='first')\n",
    "print('\\nDataFrame after keeping the first occurance')\n",
    "print(first_df)"
   ]
  },
  {
   "cell_type": "code",
   "execution_count": 6,
   "id": "8dc6887f",
   "metadata": {},
   "outputs": [
    {
     "name": "stdout",
     "output_type": "stream",
     "text": [
      "\n",
      "DataFrame after keeping the last occurance\n",
      "     A  B   C\n",
      "3  baz  4  40\n",
      "4  qux  5  50\n",
      "5  bar  6  60\n",
      "6  foo  7  70\n"
     ]
    }
   ],
   "source": [
    "# Keep the last occurance\n",
    "last_df=df.drop_duplicates(subset=['A'], keep='last')\n",
    "print('\\nDataFrame after keeping the last occurance')\n",
    "print(last_df)"
   ]
  },
  {
   "cell_type": "code",
   "execution_count": 7,
   "id": "307d9eba",
   "metadata": {},
   "outputs": [
    {
     "name": "stdout",
     "output_type": "stream",
     "text": [
      "\n",
      "Dataframe after making duplicates: \n",
      "     A  B   C  duplicate\n",
      "0  foo  1  10      False\n",
      "1  bar  2  20      False\n",
      "2  foo  3  30       True\n",
      "3  baz  4  40      False\n",
      "4  qux  5  50      False\n",
      "5  bar  6  60       True\n",
      "6  foo  7  70       True\n"
     ]
    }
   ],
   "source": [
    "# Mark duplicates\n",
    "df['duplicate']=df.duplicated(subset=['A'])\n",
    "print('\\nDataframe after making duplicates: ')\n",
    "print(df)"
   ]
  },
  {
   "cell_type": "markdown",
   "id": "3b2a18a9",
   "metadata": {},
   "source": [
    "# Handling incorrect data\n",
    "data series or data column lai ki condition diney ki function apply garney"
   ]
  },
  {
   "cell_type": "code",
   "execution_count": 8,
   "id": "b778548a",
   "metadata": {
    "scrolled": true
   },
   "outputs": [
    {
     "name": "stdout",
     "output_type": "stream",
     "text": [
      "Dataset before Handling Incorrect values\n",
      "   id   name  age gender   income\n",
      "0   1   john   25      M    50000\n",
      "1   2   jane  -35      F    52223\n",
      "2   3   bane   42      F      NaN\n",
      "3   4  alice   19      F    30000\n",
      "4   5  david   37      Z  6556565\n"
     ]
    }
   ],
   "source": [
    "# Create a dummy dataset\n",
    "import numpy as np\n",
    "data=pd.DataFrame({\n",
    "    'id':[1,2,3,4,5],\n",
    "    'name': ['john','jane','bane','alice','david'],\n",
    "    'age':[25,-35,42,19,37],\n",
    "    'gender':['M','F','F','F','Z'],\n",
    "    'income':[50000,52223,np.nan,'30000',6556565]\n",
    "})\n",
    "print(\"Dataset before Handling Incorrect values\")\n",
    "print(data)"
   ]
  },
  {
   "cell_type": "code",
   "execution_count": 9,
   "id": "f29b9efe",
   "metadata": {},
   "outputs": [
    {
     "name": "stdout",
     "output_type": "stream",
     "text": [
      "<class 'pandas.core.frame.DataFrame'>\n",
      "<class 'pandas.core.frame.DataFrame'>\n",
      "\n",
      "Dataset after handling incorrect age: \n",
      "    id   name  age gender   income\n",
      "0   1   john   25      M    50000\n",
      "2   3   bane   42      F      NaN\n",
      "3   4  alice   19      F    30000\n",
      "4   5  david   37      Z  6556565\n",
      "\n",
      "Dataset after handling incorrect gender: \n",
      "    id   name  age gender income\n",
      "0   1   john   25      M  50000\n",
      "2   3   bane   42      F    NaN\n",
      "3   4  alice   19      F  30000\n",
      "\n",
      "Dataset after handling incorrect income: \n",
      "    id  name  age gender income\n",
      "0   1  john   25      M  50000\n",
      "2   3  bane   42      F    NaN\n",
      "\n",
      "Dataset after handling incorrect values\n",
      "   id  name  age gender income\n",
      "0   1  john   25      M  50000\n",
      "2   3  bane   42      F    NaN\n"
     ]
    }
   ],
   "source": [
    "# Identify incorrect data\n",
    "incorrect_age=data[(data['age']<=0 | (data['age']>100))] #condition\n",
    "# print(data[(25)])\n",
    "print(type(incorrect_age))\n",
    "incorrect_gender=data[~data['gender'].isin(['M','F'])] # ~ only if result is in boolean and make opposite can be made ~data[data]\n",
    "incorrect_income=data[~data['income'].apply(lambda x: isinstance(x,(int,float)))]\n",
    "print(type(incorrect_income))\n",
    "# telda: if both incorrect then throws error, cuz one is already deleted and second one also wants to delete\n",
    "# but there is nothing on that location so throws error\n",
    "\n",
    "# Delete incorrect data row\n",
    "data=data.drop(incorrect_age.index)\n",
    "print('\\nDataset after handling incorrect age: \\n',data)\n",
    "data=data.drop(incorrect_gender.index)\n",
    "print('\\nDataset after handling incorrect gender: \\n',data)\n",
    "data=data.drop(incorrect_income.index)\n",
    "print('\\nDataset after handling incorrect income: \\n',data)\n",
    "\n",
    "# Display the cleaned dataset\n",
    "print('\\nDataset after handling incorrect values')\n",
    "print(data)"
   ]
  },
  {
   "cell_type": "markdown",
   "id": "902934a5",
   "metadata": {},
   "source": [
    "## Handling Inconsistent Data (format bigreyko)\n",
    "data series or data column lai ki condition diney ki function apply garney"
   ]
  },
  {
   "cell_type": "code",
   "execution_count": 10,
   "id": "b8fd729a",
   "metadata": {},
   "outputs": [
    {
     "name": "stdout",
     "output_type": "stream",
     "text": [
      "Inconsistent Data\n",
      "   id        country        date\n",
      "0   1            USA  2021-01-01\n",
      "1   2         U.S.A.  01/01/2021\n",
      "2   3  United States  2021-01-01\n",
      "3   4         Canada  2021-01-01\n",
      "4   5         Mexico  01-01-2021\n",
      "here\n",
      "0    2021-01-01\n",
      "1    2021-01-01\n",
      "2    2021-01-01\n",
      "3    2021-01-01\n",
      "4    01-01-2021\n",
      "Name: date, dtype: object\n",
      "\n",
      "Consistent Data\n",
      "   id country        date\n",
      "0   1      US  2021-01-01\n",
      "1   2      US  2021-01-01\n",
      "2   3      US  2021-01-01\n",
      "3   4      CA  2021-01-01\n",
      "4   5      MX  01-01-2021\n"
     ]
    }
   ],
   "source": [
    "# Create a dummy dataset\n",
    "data = pd.DataFrame({\n",
    "    'id': [1, 2, 3, 4, 5],\n",
    "    'country': ['USA', 'U.S.A.', 'United States', 'Canada', 'Mexico'],\n",
    "    'date': ['2021-01-01', '01/01/2021', '2021-01-01', '2021-01-01', '01-01-2021']\n",
    "})\n",
    "\n",
    "# Define rules for resolving inconsistencies\n",
    "country_codes = {\n",
    "    'USA': 'US',\n",
    "    'U.S.A.': 'US',\n",
    "    'United States': 'US',\n",
    "    'Canada': 'CA',\n",
    "    'Mexico': 'MX'\n",
    "}\n",
    "print(\"Inconsistent Data\")\n",
    "print(data)\n",
    "\n",
    "def parse_date(date_str):\n",
    "    if '-' in date_str:\n",
    "        return date_str\n",
    "    elif '/' in date_str:\n",
    "        parts = date_str.split('/')\n",
    "        return f'{parts[2]}-{parts[0]}-{parts[1]}'\n",
    "    else:\n",
    "        parts = date_str.split('-')\n",
    "        return f'{parts[2]}-{parts[1]}-{parts[0]}'\n",
    "\n",
    "# Apply rules to the data\n",
    "data['country'] = data['country'].apply(lambda x: country_codes.get(x)) # give value from key\n",
    "data['date'] = data['date'].apply(parse_date)\n",
    "print(\"here\")\n",
    "print(data['date'].apply(parse_date))\n",
    "\n",
    "# Verify the results\n",
    "print(\"\\nConsistent Data\")\n",
    "print(data)"
   ]
  },
  {
   "cell_type": "markdown",
   "id": "53fc9320",
   "metadata": {},
   "source": [
    "# Assignment"
   ]
  },
  {
   "cell_type": "code",
   "execution_count": 11,
   "id": "692cb136",
   "metadata": {},
   "outputs": [
    {
     "name": "stdout",
     "output_type": "stream",
     "text": [
      "Inconsistent Data\n",
      "   id        country        date\n",
      "0   1            USA  2021-01-01\n",
      "1   2         U.S.A.  01/01/2021\n",
      "2   3  United States  2021-01-01\n",
      "3   4         Canada  2021-01-01\n",
      "4   5         Mexico  01-01-2021\n",
      "\n",
      "Consistent Data\n",
      "   id country        date\n",
      "0   1      US  2021-01-01\n",
      "1   2      US  2021-01-01\n",
      "2   3      US  2021-01-01\n",
      "3   4      CA  2021-01-01\n",
      "4   5      MX  2021-01-01\n"
     ]
    }
   ],
   "source": [
    "# Create a dummy dataset\n",
    "data = pd.DataFrame({\n",
    "    'id': [1, 2, 3, 4, 5],\n",
    "    'country': ['USA', 'U.S.A.', 'United States', 'Canada', 'Mexico'],\n",
    "    'date': ['2021-01-01', '01/01/2021', '2021-01-01', '2021-01-01', '01-01-2021']\n",
    "})\n",
    "\n",
    "# Define rules for resolving inconsistencies\n",
    "country_codes = {\n",
    "    'USA': 'US',\n",
    "    'U.S.A.': 'US',\n",
    "    'United States': 'US',\n",
    "    'Canada': 'CA',\n",
    "    'Mexico': 'MX'\n",
    "}\n",
    "print(\"Inconsistent Data\")\n",
    "print(data)\n",
    "\n",
    "def parse_date(date_str):\n",
    "    if '-' in date_str:\n",
    "        parts = date_str.split('-')\n",
    "        if len(parts[0]) != 4:\n",
    "            year=max(parts)\n",
    "            return f'{year}-{parts[1]}-{parts[0]}'\n",
    "        else:\n",
    "            return date_str\n",
    "    elif '/' in date_str:\n",
    "        parts = date_str.split('/')\n",
    "        return f'{parts[2]}-{parts[0]}-{parts[1]}'\n",
    "\n",
    "# Apply rules to the data\n",
    "data['country'] = data['country'].apply(lambda x: country_codes.get(x))\n",
    "data['date'] = data['date'].apply(parse_date)\n",
    "\n",
    "# Verify the results\n",
    "print(\"\\nConsistent Data\")\n",
    "print(data)"
   ]
  }
 ],
 "metadata": {
  "kernelspec": {
   "display_name": "Python 3 (ipykernel)",
   "language": "python",
   "name": "python3"
  },
  "language_info": {
   "codemirror_mode": {
    "name": "ipython",
    "version": 3
   },
   "file_extension": ".py",
   "mimetype": "text/x-python",
   "name": "python",
   "nbconvert_exporter": "python",
   "pygments_lexer": "ipython3",
   "version": "3.11.2"
  }
 },
 "nbformat": 4,
 "nbformat_minor": 5
}
