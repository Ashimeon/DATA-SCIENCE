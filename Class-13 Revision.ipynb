{
 "cells": [
  {
   "cell_type": "code",
   "execution_count": 3,
   "id": "4b5fe140",
   "metadata": {},
   "outputs": [
    {
     "name": "stdout",
     "output_type": "stream",
     "text": [
      "5+7i\n"
     ]
    }
   ],
   "source": [
    "class comu:\n",
    "    def __init__(self,x,y):\n",
    "        self.x=x\n",
    "        self.y=y\n",
    "    def __add__(self,other):\n",
    "        x=self.x+other.x\n",
    "        y=self.y+other.y\n",
    "        return comu(x,y)\n",
    "#         return x,y\n",
    "    def __repr__(self):\n",
    "        return f\"{self.x}+{self.y}i\"\n",
    "x1=comu(1,2)\n",
    "x2=comu(4,5)\n",
    "print(x1+x2)"
   ]
  },
  {
   "cell_type": "code",
   "execution_count": 4,
   "id": "7c3187c5",
   "metadata": {},
   "outputs": [
    {
     "data": {
      "text/plain": [
       "(4+6j)"
      ]
     },
     "execution_count": 4,
     "metadata": {},
     "output_type": "execute_result"
    }
   ],
   "source": [
    "x=complex(1,2)\n",
    "y=complex(3,4)\n",
    "x+y"
   ]
  },
  {
   "cell_type": "code",
   "execution_count": 5,
   "id": "acd87d91",
   "metadata": {},
   "outputs": [],
   "source": [
    "# for: sequence (range)\n",
    "# while: condition"
   ]
  },
  {
   "cell_type": "code",
   "execution_count": null,
   "id": "7d90e001",
   "metadata": {},
   "outputs": [],
   "source": [
    "# List Comprehension"
   ]
  },
  {
   "cell_type": "code",
   "execution_count": 8,
   "id": "130c25aa",
   "metadata": {},
   "outputs": [
    {
     "name": "stdout",
     "output_type": "stream",
     "text": [
      "1\n",
      "3\n",
      "5\n"
     ]
    }
   ],
   "source": [
    "a=[1,2,3,4,5,6]\n",
    "for i in a:\n",
    "    if i%2 != 0:\n",
    "        print(i)"
   ]
  },
  {
   "cell_type": "code",
   "execution_count": 9,
   "id": "83d69a01",
   "metadata": {},
   "outputs": [
    {
     "data": {
      "text/plain": [
       "[1, 3, 5]"
      ]
     },
     "execution_count": 9,
     "metadata": {},
     "output_type": "execute_result"
    }
   ],
   "source": [
    "a=[i for i in a if i%2!=0]\n",
    "a"
   ]
  },
  {
   "cell_type": "code",
   "execution_count": 10,
   "id": "88b85ba4",
   "metadata": {},
   "outputs": [
    {
     "data": {
      "text/plain": [
       "[1, 9, 25]"
      ]
     },
     "execution_count": 10,
     "metadata": {},
     "output_type": "execute_result"
    }
   ],
   "source": [
    "b=[i**2 for i in a if i%2!=0] #list comprehension\n",
    "b"
   ]
  },
  {
   "cell_type": "code",
   "execution_count": 13,
   "id": "283fbb24",
   "metadata": {},
   "outputs": [
    {
     "data": {
      "text/plain": [
       "[1, 9, 25]"
      ]
     },
     "execution_count": 13,
     "metadata": {},
     "output_type": "execute_result"
    }
   ],
   "source": [
    "b=[1,3,5]\n",
    "b=[i**2 for i in a]\n",
    "b"
   ]
  },
  {
   "cell_type": "code",
   "execution_count": 14,
   "id": "e2e97ce2",
   "metadata": {},
   "outputs": [
    {
     "data": {
      "text/plain": [
       "[1, 9, 25]"
      ]
     },
     "execution_count": 14,
     "metadata": {},
     "output_type": "execute_result"
    }
   ],
   "source": [
    "b=[1,3,5]\n",
    "list(map(lambda i:i**2,b)) #map method"
   ]
  },
  {
   "cell_type": "code",
   "execution_count": 15,
   "id": "78e74989",
   "metadata": {},
   "outputs": [
    {
     "data": {
      "text/plain": [
       "{1, 9, 25}"
      ]
     },
     "execution_count": 15,
     "metadata": {},
     "output_type": "execute_result"
    }
   ],
   "source": [
    "b=[1,3,5]\n",
    "set(map(lambda i:i**2,b)) #map method"
   ]
  },
  {
   "cell_type": "code",
   "execution_count": 16,
   "id": "6ad996f2",
   "metadata": {},
   "outputs": [
    {
     "data": {
      "text/plain": [
       "{1, 9, 25}"
      ]
     },
     "execution_count": 16,
     "metadata": {},
     "output_type": "execute_result"
    }
   ],
   "source": [
    "b={i**2 for i in a if i%2!=0}\n",
    "b"
   ]
  },
  {
   "cell_type": "code",
   "execution_count": 17,
   "id": "77713580",
   "metadata": {},
   "outputs": [
    {
     "data": {
      "text/plain": [
       "{1: 1, 3: 9, 5: 25}"
      ]
     },
     "execution_count": 17,
     "metadata": {},
     "output_type": "execute_result"
    }
   ],
   "source": [
    "b={i:i**2 for i in a if i%2!=0}\n",
    "b"
   ]
  },
  {
   "cell_type": "code",
   "execution_count": 20,
   "id": "c5b89367",
   "metadata": {},
   "outputs": [
    {
     "data": {
      "text/plain": [
       "[('a', 1),\n",
       " ('a', 2),\n",
       " ('a', 3),\n",
       " ('b', 1),\n",
       " ('b', 2),\n",
       " ('b', 3),\n",
       " ('c', 1),\n",
       " ('c', 2),\n",
       " ('c', 3)]"
      ]
     },
     "execution_count": 20,
     "metadata": {},
     "output_type": "execute_result"
    }
   ],
   "source": [
    "a=['a','b','c']\n",
    "b=[1,2,3]\n",
    "li=[(i,j) for i in a for j in b]\n",
    "li"
   ]
  },
  {
   "cell_type": "code",
   "execution_count": 19,
   "id": "8f4091ca",
   "metadata": {},
   "outputs": [],
   "source": [
    "# Lambda input:output"
   ]
  },
  {
   "cell_type": "code",
   "execution_count": 25,
   "id": "3b9a5cf8",
   "metadata": {},
   "outputs": [],
   "source": [
    "a=2\n",
    "b=4"
   ]
  },
  {
   "cell_type": "code",
   "execution_count": 27,
   "id": "cb11495e",
   "metadata": {},
   "outputs": [
    {
     "name": "stdout",
     "output_type": "stream",
     "text": [
      "6\n"
     ]
    }
   ],
   "source": [
    "summ=(lambda a,b: a+b) #self return\n",
    "print(summ(2,4))"
   ]
  },
  {
   "cell_type": "code",
   "execution_count": 21,
   "id": "e0878365",
   "metadata": {},
   "outputs": [
    {
     "name": "stdout",
     "output_type": "stream",
     "text": [
      "6\n"
     ]
    }
   ],
   "source": [
    "k=lambda x,y,z:x*y*z\n",
    "print(k(1,2,3))"
   ]
  },
  {
   "cell_type": "code",
   "execution_count": 28,
   "id": "7fb06f99",
   "metadata": {},
   "outputs": [
    {
     "name": "stdout",
     "output_type": "stream",
     "text": [
      "a b\n"
     ]
    }
   ],
   "source": [
    "print(\"a\",\"b\")"
   ]
  },
  {
   "cell_type": "code",
   "execution_count": 31,
   "id": "06e96862",
   "metadata": {},
   "outputs": [],
   "source": [
    "# print(\"x\",file=myfile) #command print on file"
   ]
  },
  {
   "cell_type": "code",
   "execution_count": 26,
   "id": "b87beced",
   "metadata": {},
   "outputs": [
    {
     "name": "stdout",
     "output_type": "stream",
     "text": [
      "[(1, 4), (2, 5), (3, 6)]\n"
     ]
    }
   ],
   "source": [
    "a=[1,2,3]\n",
    "b=[4,5,6]\n",
    "print(list(zip(a,b)))"
   ]
  },
  {
   "cell_type": "code",
   "execution_count": 42,
   "id": "b0d6411a",
   "metadata": {},
   "outputs": [
    {
     "name": "stdout",
     "output_type": "stream",
     "text": [
      "(1, 4)\n",
      "(2, 5)\n",
      "(3, 6)\n"
     ]
    }
   ],
   "source": [
    "a=[1,2,3]\n",
    "b=[4,5,6]\n",
    "z=zip(a,b)\n",
    "for i in z:\n",
    "    print (i)"
   ]
  },
  {
   "cell_type": "code",
   "execution_count": 39,
   "id": "dd562fa6",
   "metadata": {},
   "outputs": [
    {
     "name": "stdout",
     "output_type": "stream",
     "text": [
      "0 1\n",
      "1\n",
      "1 2\n",
      "2\n",
      "2 3\n",
      "3\n"
     ]
    }
   ],
   "source": [
    "a=[1,2,3]\n",
    "for i,j in enumerate(a):\n",
    "    print(i,j)\n",
    "    print(j)"
   ]
  },
  {
   "cell_type": "code",
   "execution_count": 47,
   "id": "07a29ae5",
   "metadata": {},
   "outputs": [
    {
     "data": {
      "text/plain": [
       "[1, 9, 25]"
      ]
     },
     "execution_count": 47,
     "metadata": {},
     "output_type": "execute_result"
    }
   ],
   "source": [
    "b=[1,3,5]\n",
    "list(map(lambda i:i**2,b)) #map method"
   ]
  },
  {
   "cell_type": "code",
   "execution_count": 48,
   "id": "651ccd2f",
   "metadata": {},
   "outputs": [
    {
     "data": {
      "text/plain": [
       "[2, 4]"
      ]
     },
     "execution_count": 48,
     "metadata": {},
     "output_type": "execute_result"
    }
   ],
   "source": [
    "b=[1,2,3,4,5]\n",
    "list(filter(lambda i:i%2==0,b)) #filter method"
   ]
  },
  {
   "cell_type": "code",
   "execution_count": 50,
   "id": "25d444da",
   "metadata": {},
   "outputs": [
    {
     "data": {
      "text/plain": [
       "9"
      ]
     },
     "execution_count": 50,
     "metadata": {},
     "output_type": "execute_result"
    }
   ],
   "source": [
    "from functools import reduce\n",
    "b=[1,3,5]\n",
    "reduce(lambda x,y:x+y,b) #reduce method"
   ]
  },
  {
   "cell_type": "code",
   "execution_count": 29,
   "id": "3af60cf8",
   "metadata": {},
   "outputs": [
    {
     "data": {
      "text/plain": [
       "25"
      ]
     },
     "execution_count": 29,
     "metadata": {},
     "output_type": "execute_result"
    }
   ],
   "source": [
    "from functools import reduce\n",
    "k=[7,8,9,1]\n",
    "reduce(lambda x,y:x+y,k)"
   ]
  },
  {
   "cell_type": "code",
   "execution_count": 51,
   "id": "30372379",
   "metadata": {},
   "outputs": [
    {
     "name": "stdout",
     "output_type": "stream",
     "text": [
      "1\n",
      "2\n",
      "3\n"
     ]
    }
   ],
   "source": [
    "# *args **kwargs\n",
    "def abc(*args):\n",
    "    for i in args:\n",
    "        print(i)\n",
    "a=abc(1,2,3)"
   ]
  },
  {
   "cell_type": "code",
   "execution_count": 68,
   "id": "e93b5634",
   "metadata": {},
   "outputs": [
    {
     "name": "stdout",
     "output_type": "stream",
     "text": [
      "dict_values([1, 2, 3])\n"
     ]
    }
   ],
   "source": [
    "def abc(**kwargs):\n",
    "    print(kwargs.values())\n",
    "a=abc(a=1,b=2,c=3)"
   ]
  },
  {
   "cell_type": "code",
   "execution_count": 69,
   "id": "5f688699",
   "metadata": {},
   "outputs": [],
   "source": [
    "# hackerrank"
   ]
  },
  {
   "cell_type": "code",
   "execution_count": 70,
   "id": "5ac96591",
   "metadata": {},
   "outputs": [
    {
     "name": "stdout",
     "output_type": "stream",
     "text": [
      "\n",
      " You are a car.\n",
      "formula1 speed is 45 but speed limit is 50.\n",
      " Activating auto-accelerating mechanism.\n",
      "Increasing speed by: 5\n",
      "45\n",
      "46\n",
      "47\n",
      "48\n",
      "49\n",
      "50\n",
      "Keep on going straight.\n",
      "\n",
      " You are a car.\n",
      "formula2 speed is 52 but speed limit is 50.\n",
      " Activating auto-braking mechanism.\n",
      "Decreasing speed by: 2\n",
      "52\n",
      "51\n",
      "50\n",
      "Your input is 0. Changing direction.\n",
      "Stering activated to turn left\n",
      "\n",
      " You are a bike.\n",
      "R15 speed is 55 but speed limit is 50.\n",
      " Activating auto-braking mechanism.\n",
      "Decreasing speed by: 5\n",
      "55\n",
      "54\n",
      "53\n",
      "52\n",
      "51\n",
      "50\n",
      "Keep on going straight.\n",
      "\n",
      " You are a bike.\n",
      "You are moving under the speed limit. Drive at the same speed.\n",
      "Your input is 1. Changing direction.\n",
      "Handle activated to turn right\n"
     ]
    }
   ],
   "source": [
    "#vehicle speed will change depending on the speed_limit defined and the speed set during object creation\n",
    "#0 means vehicle is to turn right and 1 means to turn left\n",
    "\n",
    "class Vehicle:\n",
    "     speed_limit = 50\n",
    "     def __init__(self,name,speed):\n",
    "          self.name = name\n",
    "          self.speed = speed\n",
    "\n",
    "     @classmethod\n",
    "     def get_speed_limit(cls):\n",
    "          return cls.speed_limit\n",
    "\n",
    "     def __get_speed_change_value(self):\n",
    "          speed_limit = self.get_speed_limit()\n",
    "          return abs(self.speed - speed_limit)\n",
    "\n",
    "     def __change_speed(self,action):\n",
    "          if action == 1:\n",
    "               while(self.speed >= self.get_speed_limit()):\n",
    "                    print(self.speed)\n",
    "                    self.speed -= 1\n",
    "          else:\n",
    "               while(self.speed <= self.get_speed_limit()):\n",
    "                    print(self.speed)\n",
    "                    self.speed += 1\n",
    "\n",
    "     def compare_speed(self):\n",
    "          if(self.speed > self.get_speed_limit()):\n",
    "               print(f\"{self.name} speed is {self.speed} but speed limit is {self.get_speed_limit()}.\\n Activating auto-braking mechanism.\")\n",
    "               print(f\"Decreasing speed by: {self.__get_speed_change_value()}\")\n",
    "               self.__change_speed(1)\n",
    "               \n",
    "          elif (self.speed < self.get_speed_limit()):\n",
    "               print(f\"{self.name} speed is {self.speed} but speed limit is {self.get_speed_limit()}.\\n Activating auto-accelerating mechanism.\")\n",
    "               print(f\"Increasing speed by: {self.__get_speed_change_value()}\")\n",
    "               self.__change_speed(0)\n",
    "          else:\n",
    "               print(\"You are moving under the speed limit. Drive at the same speed.\")\n",
    "\n",
    "class Car(Vehicle):\n",
    "     def __init__(self,name, speed, direction=2):\n",
    "          super().__init__(name,speed)\n",
    "          self.direction = direction\n",
    "     \n",
    "     def speed_control(self):\n",
    "          print(\"\\n You are a car.\")\n",
    "          self.compare_speed()\n",
    "\n",
    "     def direction_control(self):\n",
    "          if(self.direction == 2):\n",
    "               print(\"Keep on going straight.\")\n",
    "          elif (self.direction == 1):\n",
    "               print(f'Your input is {self.direction}. Changing direction.')\n",
    "               print(\"Stering activated to turn right\")\n",
    "          else:\n",
    "               print(f'Your input is {self.direction}. Changing direction.')\n",
    "               print(\"Stering activated to turn left\")\n",
    "\n",
    "class Bike(Vehicle):\n",
    "     def __init__(self,name,speed, direction = 2):\n",
    "          super().__init__(name,speed)\n",
    "          self.direction = direction\n",
    "     \n",
    "     def speed_control(self):\n",
    "          print(\"\\n You are a bike.\")\n",
    "          self.compare_speed()\n",
    "\n",
    "     def direction_control(self):\n",
    "          if(self.direction == 2):\n",
    "               print(\"Keep on going straight.\")\n",
    "          elif (self.direction == 1):\n",
    "               print(f'Your input is {self.direction}. Changing direction.')\n",
    "               print(\"Handle activated to turn right\")\n",
    "          else:\n",
    "               print(f'Your input is {self.direction}. Changing direction.')\n",
    "               print(\"Handle activated to turn left\")\n",
    "\n",
    "#created car object without need for direction change\n",
    "car1 = Car('formula1', 45)\n",
    "car1.speed_control()\n",
    "car1.direction_control()\n",
    "\n",
    "#created car object with need for direction change to left\n",
    "car2 = Car('formula2', 52, 0)\n",
    "car2.speed_control()\n",
    "car2.direction_control()\n",
    "\n",
    "#created bike object without need for direction change\n",
    "bike1 = Bike('R15', 55)\n",
    "bike1.speed_control()\n",
    "bike1.direction_control()\n",
    "\n",
    "#created bike object with need for direction to right\n",
    "bike2 = Bike('MT15', 50, 1)\n",
    "bike2.speed_control()\n",
    "bike2.direction_control()"
   ]
  },
  {
   "cell_type": "code",
   "execution_count": 1,
   "id": "1df482f6",
   "metadata": {},
   "outputs": [],
   "source": [
    "# Not in python \n",
    "# private cannot be access\n",
    "# protected cannot be access by instance method and atributte as well as \n",
    "# cannot be access by indirect relation of multilevel inheritance\n",
    "# public can be access by all (instance (class bahira as well as class vitra)"
   ]
  },
  {
   "cell_type": "code",
   "execution_count": 6,
   "id": "b74e0554",
   "metadata": {},
   "outputs": [
    {
     "name": "stdout",
     "output_type": "stream",
     "text": [
      "[(1, 1), (1, 2), (1, 3), (2, 1), (2, 2), (2, 3), (3, 1), (3, 2), (3, 3)]\n"
     ]
    }
   ],
   "source": [
    "l=[1,2,3]\n",
    "# for i in l:\n",
    "#     for j in l:\n",
    "#         print(i,j)\n",
    "z=[(i,j) for i in l for j in l]\n",
    "print(z)"
   ]
  },
  {
   "cell_type": "code",
   "execution_count": null,
   "id": "dff1f2de",
   "metadata": {},
   "outputs": [],
   "source": []
  }
 ],
 "metadata": {
  "kernelspec": {
   "display_name": "Python 3 (ipykernel)",
   "language": "python",
   "name": "python3"
  },
  "language_info": {
   "codemirror_mode": {
    "name": "ipython",
    "version": 3
   },
   "file_extension": ".py",
   "mimetype": "text/x-python",
   "name": "python",
   "nbconvert_exporter": "python",
   "pygments_lexer": "ipython3",
   "version": "3.11.2"
  }
 },
 "nbformat": 4,
 "nbformat_minor": 5
}
