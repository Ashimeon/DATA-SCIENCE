{
 "cells": [
  {
   "cell_type": "code",
   "execution_count": 18,
   "id": "eeb10e2d",
   "metadata": {},
   "outputs": [],
   "source": [
    "a=[1,2,3]"
   ]
  },
  {
   "cell_type": "code",
   "execution_count": 20,
   "id": "39fb9493",
   "metadata": {},
   "outputs": [
    {
     "data": {
      "text/plain": [
       "{1, 2, 3}"
      ]
     },
     "execution_count": 20,
     "metadata": {},
     "output_type": "execute_result"
    }
   ],
   "source": [
    "a=set(a)\n",
    "a"
   ]
  },
  {
   "cell_type": "code",
   "execution_count": 23,
   "id": "00e6497b",
   "metadata": {},
   "outputs": [],
   "source": [
    "#a[1]=2 cannot be indexed"
   ]
  },
  {
   "cell_type": "code",
   "execution_count": null,
   "id": "b9a1b136",
   "metadata": {},
   "outputs": [],
   "source": []
  },
  {
   "cell_type": "code",
   "execution_count": null,
   "id": "5090147c",
   "metadata": {},
   "outputs": [],
   "source": []
  },
  {
   "cell_type": "code",
   "execution_count": null,
   "id": "9e8b3097",
   "metadata": {},
   "outputs": [],
   "source": []
  },
  {
   "cell_type": "code",
   "execution_count": 5,
   "id": "1cc2a8bb",
   "metadata": {},
   "outputs": [],
   "source": [
    "#set methods"
   ]
  },
  {
   "cell_type": "code",
   "execution_count": 1,
   "id": "a334aa80",
   "metadata": {},
   "outputs": [
    {
     "data": {
      "text/plain": [
       "{1, 2, 3}"
      ]
     },
     "execution_count": 1,
     "metadata": {},
     "output_type": "execute_result"
    }
   ],
   "source": [
    "a={1,2,3,2,2}\n",
    "a"
   ]
  },
  {
   "cell_type": "code",
   "execution_count": 2,
   "id": "d41525a4",
   "metadata": {},
   "outputs": [
    {
     "data": {
      "text/plain": [
       "{1, 2, 3, 4}"
      ]
     },
     "execution_count": 2,
     "metadata": {},
     "output_type": "execute_result"
    }
   ],
   "source": [
    "b={2,4,3}\n",
    "a.union(b)"
   ]
  },
  {
   "cell_type": "code",
   "execution_count": 4,
   "id": "6b7cb869",
   "metadata": {},
   "outputs": [
    {
     "data": {
      "text/plain": [
       "{1}"
      ]
     },
     "execution_count": 4,
     "metadata": {},
     "output_type": "execute_result"
    }
   ],
   "source": [
    "a.difference(b)"
   ]
  },
  {
   "cell_type": "code",
   "execution_count": 6,
   "id": "f9c17d51",
   "metadata": {},
   "outputs": [
    {
     "data": {
      "text/plain": [
       "{2, 3}"
      ]
     },
     "execution_count": 6,
     "metadata": {},
     "output_type": "execute_result"
    }
   ],
   "source": [
    "a.intersection(b)"
   ]
  },
  {
   "cell_type": "code",
   "execution_count": 7,
   "id": "d9400235",
   "metadata": {},
   "outputs": [],
   "source": [
    "#set modify"
   ]
  },
  {
   "cell_type": "code",
   "execution_count": 10,
   "id": "12d4cdd5",
   "metadata": {},
   "outputs": [
    {
     "data": {
      "text/plain": [
       "{2, 3, 4, 5}"
      ]
     },
     "execution_count": 10,
     "metadata": {},
     "output_type": "execute_result"
    }
   ],
   "source": [
    "b.add(5)\n",
    "b"
   ]
  },
  {
   "cell_type": "code",
   "execution_count": 13,
   "id": "a414b622",
   "metadata": {},
   "outputs": [
    {
     "data": {
      "text/plain": [
       "{4, 5}"
      ]
     },
     "execution_count": 13,
     "metadata": {},
     "output_type": "execute_result"
    }
   ],
   "source": [
    "b.remove(3)\n",
    "b"
   ]
  },
  {
   "cell_type": "code",
   "execution_count": 14,
   "id": "4dc822cb",
   "metadata": {},
   "outputs": [],
   "source": [
    "b.add(2)"
   ]
  },
  {
   "cell_type": "code",
   "execution_count": 15,
   "id": "a474e8c4",
   "metadata": {},
   "outputs": [
    {
     "data": {
      "text/plain": [
       "{2, 4, 5}"
      ]
     },
     "execution_count": 15,
     "metadata": {},
     "output_type": "execute_result"
    }
   ],
   "source": [
    "b\n"
   ]
  },
  {
   "cell_type": "code",
   "execution_count": 16,
   "id": "e97d8277",
   "metadata": {},
   "outputs": [],
   "source": [
    "b.remove(2)"
   ]
  },
  {
   "cell_type": "code",
   "execution_count": 17,
   "id": "60400798",
   "metadata": {},
   "outputs": [
    {
     "data": {
      "text/plain": [
       "{4, 5}"
      ]
     },
     "execution_count": 17,
     "metadata": {},
     "output_type": "execute_result"
    }
   ],
   "source": [
    "b"
   ]
  },
  {
   "cell_type": "code",
   "execution_count": null,
   "id": "496c302b",
   "metadata": {},
   "outputs": [],
   "source": [
    "\n"
   ]
  },
  {
   "cell_type": "code",
   "execution_count": 24,
   "id": "e152f6a9",
   "metadata": {},
   "outputs": [
    {
     "data": {
      "text/plain": [
       "0"
      ]
     },
     "execution_count": 24,
     "metadata": {},
     "output_type": "execute_result"
    }
   ],
   "source": [
    "a=[1,2,1,4]\n",
    "a.index(1)"
   ]
  },
  {
   "cell_type": "code",
   "execution_count": 25,
   "id": "ed99aafa",
   "metadata": {},
   "outputs": [
    {
     "data": {
      "text/plain": [
       "2"
      ]
     },
     "execution_count": 25,
     "metadata": {},
     "output_type": "execute_result"
    }
   ],
   "source": [
    "a.index(1,1)"
   ]
  },
  {
   "cell_type": "markdown",
   "id": "3c1e92cb",
   "metadata": {},
   "source": [
    "# Dictionary (Object)\n",
    "{'key':'value','key2':'value2',...}"
   ]
  },
  {
   "cell_type": "code",
   "execution_count": 55,
   "id": "40699bfe",
   "metadata": {},
   "outputs": [
    {
     "data": {
      "text/plain": [
       "2"
      ]
     },
     "execution_count": 55,
     "metadata": {},
     "output_type": "execute_result"
    }
   ],
   "source": [
    "a={'a':1, 'b':2}\n",
    "a['b']"
   ]
  },
  {
   "cell_type": "code",
   "execution_count": 56,
   "id": "d24379f2",
   "metadata": {},
   "outputs": [
    {
     "data": {
      "text/plain": [
       "dict_keys(['a', 'b'])"
      ]
     },
     "execution_count": 56,
     "metadata": {},
     "output_type": "execute_result"
    }
   ],
   "source": [
    "#Methods\n",
    "a.keys()"
   ]
  },
  {
   "cell_type": "code",
   "execution_count": 57,
   "id": "7e00f1a8",
   "metadata": {},
   "outputs": [
    {
     "data": {
      "text/plain": [
       "dict_values([1, 2])"
      ]
     },
     "execution_count": 57,
     "metadata": {},
     "output_type": "execute_result"
    }
   ],
   "source": [
    "a.values()"
   ]
  },
  {
   "cell_type": "code",
   "execution_count": 58,
   "id": "ecfc2fea",
   "metadata": {},
   "outputs": [
    {
     "data": {
      "text/plain": [
       "dict_items([('a', 1), ('b', 2)])"
      ]
     },
     "execution_count": 58,
     "metadata": {},
     "output_type": "execute_result"
    }
   ],
   "source": [
    "a.items()"
   ]
  },
  {
   "cell_type": "code",
   "execution_count": 59,
   "id": "0af967c8",
   "metadata": {},
   "outputs": [
    {
     "data": {
      "text/plain": [
       "1"
      ]
     },
     "execution_count": 59,
     "metadata": {},
     "output_type": "execute_result"
    }
   ],
   "source": [
    "a.get('a') #do not return error like a['a']"
   ]
  },
  {
   "cell_type": "code",
   "execution_count": 60,
   "id": "c27a4cdb",
   "metadata": {},
   "outputs": [],
   "source": [
    "# Modifying Dictionary"
   ]
  },
  {
   "cell_type": "code",
   "execution_count": 61,
   "id": "8a1560f4",
   "metadata": {},
   "outputs": [],
   "source": [
    "a['a']='hero'"
   ]
  },
  {
   "cell_type": "code",
   "execution_count": 62,
   "id": "cb0ddeee",
   "metadata": {},
   "outputs": [
    {
     "data": {
      "text/plain": [
       "{'a': 'hero', 'b': 2}"
      ]
     },
     "execution_count": 62,
     "metadata": {},
     "output_type": "execute_result"
    }
   ],
   "source": [
    "a"
   ]
  },
  {
   "cell_type": "code",
   "execution_count": 63,
   "id": "95613468",
   "metadata": {},
   "outputs": [],
   "source": [
    "a['d']='abc'"
   ]
  },
  {
   "cell_type": "code",
   "execution_count": 64,
   "id": "4a8d481b",
   "metadata": {},
   "outputs": [
    {
     "data": {
      "text/plain": [
       "{'a': 'hero', 'b': 2, 'd': 'abc'}"
      ]
     },
     "execution_count": 64,
     "metadata": {},
     "output_type": "execute_result"
    }
   ],
   "source": [
    "a"
   ]
  },
  {
   "cell_type": "code",
   "execution_count": 65,
   "id": "db048f8b",
   "metadata": {},
   "outputs": [
    {
     "data": {
      "text/plain": [
       "{'a': 'hero', 'b': 2, 'd': 'abc'}"
      ]
     },
     "execution_count": 65,
     "metadata": {},
     "output_type": "execute_result"
    }
   ],
   "source": [
    "a"
   ]
  },
  {
   "cell_type": "code",
   "execution_count": 67,
   "id": "5eda8b2a",
   "metadata": {},
   "outputs": [
    {
     "data": {
      "text/plain": [
       "['a', 'b', 'd']"
      ]
     },
     "execution_count": 67,
     "metadata": {},
     "output_type": "execute_result"
    }
   ],
   "source": [
    "sorted(a)"
   ]
  },
  {
   "cell_type": "markdown",
   "id": "ade6e50c",
   "metadata": {},
   "source": [
    "# Boolean Datatypes\n",
    "True or False"
   ]
  },
  {
   "cell_type": "code",
   "execution_count": 37,
   "id": "4562d01b",
   "metadata": {},
   "outputs": [],
   "source": [
    "a=10\n",
    "b=5"
   ]
  },
  {
   "cell_type": "code",
   "execution_count": 39,
   "id": "03375da5",
   "metadata": {},
   "outputs": [
    {
     "data": {
      "text/plain": [
       "True"
      ]
     },
     "execution_count": 39,
     "metadata": {},
     "output_type": "execute_result"
    }
   ],
   "source": [
    "a>b"
   ]
  },
  {
   "cell_type": "code",
   "execution_count": 40,
   "id": "fb568df7",
   "metadata": {},
   "outputs": [],
   "source": [
    "c=True\n",
    "d=False\n",
    "e=True"
   ]
  },
  {
   "cell_type": "code",
   "execution_count": 41,
   "id": "c91eedfe",
   "metadata": {},
   "outputs": [
    {
     "data": {
      "text/plain": [
       "False"
      ]
     },
     "execution_count": 41,
     "metadata": {},
     "output_type": "execute_result"
    }
   ],
   "source": [
    "c and d"
   ]
  },
  {
   "cell_type": "code",
   "execution_count": 42,
   "id": "309f02c6",
   "metadata": {},
   "outputs": [
    {
     "data": {
      "text/plain": [
       "True"
      ]
     },
     "execution_count": 42,
     "metadata": {},
     "output_type": "execute_result"
    }
   ],
   "source": [
    "c and e"
   ]
  },
  {
   "cell_type": "code",
   "execution_count": 43,
   "id": "6d68f749",
   "metadata": {},
   "outputs": [
    {
     "data": {
      "text/plain": [
       "True"
      ]
     },
     "execution_count": 43,
     "metadata": {},
     "output_type": "execute_result"
    }
   ],
   "source": [
    "c or d"
   ]
  },
  {
   "cell_type": "code",
   "execution_count": 45,
   "id": "4c071e79",
   "metadata": {},
   "outputs": [
    {
     "data": {
      "text/plain": [
       "False"
      ]
     },
     "execution_count": 45,
     "metadata": {},
     "output_type": "execute_result"
    }
   ],
   "source": [
    "not c"
   ]
  },
  {
   "cell_type": "code",
   "execution_count": 46,
   "id": "e8737faa",
   "metadata": {},
   "outputs": [
    {
     "data": {
      "text/plain": [
       "True"
      ]
     },
     "execution_count": 46,
     "metadata": {},
     "output_type": "execute_result"
    }
   ],
   "source": [
    "not d"
   ]
  },
  {
   "cell_type": "markdown",
   "id": "78d081b3",
   "metadata": {},
   "source": [
    "# Other Datatypes"
   ]
  },
  {
   "cell_type": "code",
   "execution_count": 47,
   "id": "81868a7d",
   "metadata": {},
   "outputs": [],
   "source": [
    "a=[]\n",
    "b=[1,\"ab\"]\n",
    "c={}\n",
    "d={1,2}\n",
    "e=()\n",
    "f=(3,4)"
   ]
  },
  {
   "cell_type": "code",
   "execution_count": 48,
   "id": "69035b68",
   "metadata": {},
   "outputs": [
    {
     "data": {
      "text/plain": [
       "False"
      ]
     },
     "execution_count": 48,
     "metadata": {},
     "output_type": "execute_result"
    }
   ],
   "source": [
    "bool(a) #false because no value on memory (0)"
   ]
  },
  {
   "cell_type": "code",
   "execution_count": 49,
   "id": "f6a11558",
   "metadata": {},
   "outputs": [
    {
     "data": {
      "text/plain": [
       "True"
      ]
     },
     "execution_count": 49,
     "metadata": {},
     "output_type": "execute_result"
    }
   ],
   "source": [
    "bool(b) #true because some value on memory (1)"
   ]
  },
  {
   "cell_type": "code",
   "execution_count": null,
   "id": "284a4fb4",
   "metadata": {},
   "outputs": [],
   "source": []
  }
 ],
 "metadata": {
  "kernelspec": {
   "display_name": "Python 3 (ipykernel)",
   "language": "python",
   "name": "python3"
  },
  "language_info": {
   "codemirror_mode": {
    "name": "ipython",
    "version": 3
   },
   "file_extension": ".py",
   "mimetype": "text/x-python",
   "name": "python",
   "nbconvert_exporter": "python",
   "pygments_lexer": "ipython3",
   "version": "3.11.2"
  }
 },
 "nbformat": 4,
 "nbformat_minor": 5
}
