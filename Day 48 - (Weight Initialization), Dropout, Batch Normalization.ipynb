{
 "cells": [
  {
   "cell_type": "markdown",
   "id": "c9f69691",
   "metadata": {},
   "source": [
    "# Weight Initialization"
   ]
  },
  {
   "cell_type": "code",
   "execution_count": 1,
   "id": "7005a00d",
   "metadata": {},
   "outputs": [],
   "source": [
    "import numpy as np"
   ]
  },
  {
   "cell_type": "code",
   "execution_count": 19,
   "id": "989eea9a",
   "metadata": {},
   "outputs": [
    {
     "name": "stdout",
     "output_type": "stream",
     "text": [
      "[[0.65812853 0.00545102]\n",
      " [0.6862947  0.85389954]\n",
      " [0.14421876 0.50489621]\n",
      " [0.09314335 0.70847665]]\n",
      "[[0.64343498 0.07536501]\n",
      " [0.78783789 0.79926634]\n",
      " [0.88237086 0.94832781]\n",
      " [0.41434246 0.79713029]]\n"
     ]
    }
   ],
   "source": [
    "a=(4,2)\n",
    "print(np.random.rand(*a))\n",
    "print(np.random.rand(4,2))"
   ]
  },
  {
   "cell_type": "code",
   "execution_count": 11,
   "id": "90044d61",
   "metadata": {},
   "outputs": [],
   "source": [
    "shape = (2, 3)  # Shape of the weight matrix for a given layer\n",
    "\n",
    "def initialize_zeros(shape):   # Zero Initialization\n",
    "    return np.zeros(shape)\n",
    "\n",
    "def initialize_random(shape):  # Random Initialization\n",
    "    print(np.random.randn(shape))\n",
    "    return np.random.randn(*shape)\n",
    "\n",
    "def initialize_xavier(shape):  # Xavier Initialization\n",
    "    fan_in, fan_out = shape[0], shape[1]\n",
    "    variance = np.sqrt(2.0 / (fan_in + fan_out))\n",
    "    return np.random.randn(*shape) * variance\n",
    "\n",
    "def initialize_he(shape):  # He Initialization\n",
    "    fan_in = shape[0]\n",
    "    variance = np.sqrt(2.0 / fan_in)\n",
    "    return np.random.randn(*shape) * variance\n",
    "\n",
    "def initialize_lecun(shape):  # LeCun Initialization\n",
    "    fan_in = shape[0]\n",
    "    variance = np.sqrt(1.0 / fan_in)\n",
    "    return np.random.randn(*shape) * variance"
   ]
  },
  {
   "cell_type": "code",
   "execution_count": 12,
   "id": "357197fd",
   "metadata": {
    "scrolled": true
   },
   "outputs": [
    {
     "name": "stdout",
     "output_type": "stream",
     "text": [
      "Zero Initialization: \n",
      " [[0. 0. 0.]\n",
      " [0. 0. 0.]]\n"
     ]
    },
    {
     "ename": "TypeError",
     "evalue": "'tuple' object cannot be interpreted as an integer",
     "output_type": "error",
     "traceback": [
      "\u001b[1;31m---------------------------------------------------------------------------\u001b[0m",
      "\u001b[1;31mTypeError\u001b[0m                                 Traceback (most recent call last)",
      "Cell \u001b[1;32mIn[12], line 2\u001b[0m\n\u001b[0;32m      1\u001b[0m \u001b[38;5;28mprint\u001b[39m(\u001b[38;5;124m\"\u001b[39m\u001b[38;5;124mZero Initialization: \u001b[39m\u001b[38;5;130;01m\\n\u001b[39;00m\u001b[38;5;124m\"\u001b[39m, initialize_zeros(shape))\n\u001b[1;32m----> 2\u001b[0m \u001b[38;5;28mprint\u001b[39m(\u001b[38;5;124m\"\u001b[39m\u001b[38;5;130;01m\\n\u001b[39;00m\u001b[38;5;124mRandom Initialization: \u001b[39m\u001b[38;5;130;01m\\n\u001b[39;00m\u001b[38;5;124m\"\u001b[39m, \u001b[43minitialize_random\u001b[49m\u001b[43m(\u001b[49m\u001b[43mshape\u001b[49m\u001b[43m)\u001b[49m)\n\u001b[0;32m      3\u001b[0m \u001b[38;5;28mprint\u001b[39m(\u001b[38;5;124m\"\u001b[39m\u001b[38;5;130;01m\\n\u001b[39;00m\u001b[38;5;124mXavier Initialization: \u001b[39m\u001b[38;5;130;01m\\n\u001b[39;00m\u001b[38;5;124m\"\u001b[39m, initialize_xavier(shape))\n\u001b[0;32m      4\u001b[0m \u001b[38;5;28mprint\u001b[39m(\u001b[38;5;124m\"\u001b[39m\u001b[38;5;130;01m\\n\u001b[39;00m\u001b[38;5;124mHe Initialization: \u001b[39m\u001b[38;5;130;01m\\n\u001b[39;00m\u001b[38;5;124m\"\u001b[39m, initialize_he(shape))\n",
      "Cell \u001b[1;32mIn[11], line 7\u001b[0m, in \u001b[0;36minitialize_random\u001b[1;34m(shape)\u001b[0m\n\u001b[0;32m      6\u001b[0m \u001b[38;5;28;01mdef\u001b[39;00m \u001b[38;5;21minitialize_random\u001b[39m(shape):  \u001b[38;5;66;03m# Random Initialization\u001b[39;00m\n\u001b[1;32m----> 7\u001b[0m     \u001b[38;5;28mprint\u001b[39m(\u001b[43mnp\u001b[49m\u001b[38;5;241;43m.\u001b[39;49m\u001b[43mrandom\u001b[49m\u001b[38;5;241;43m.\u001b[39;49m\u001b[43mrandn\u001b[49m\u001b[43m(\u001b[49m\u001b[43mshape\u001b[49m\u001b[43m)\u001b[49m)\n\u001b[0;32m      8\u001b[0m     \u001b[38;5;28;01mreturn\u001b[39;00m np\u001b[38;5;241m.\u001b[39mrandom\u001b[38;5;241m.\u001b[39mrandn(\u001b[38;5;241m*\u001b[39mshape)\n",
      "File \u001b[1;32mmtrand.pyx:1246\u001b[0m, in \u001b[0;36mnumpy.random.mtrand.RandomState.randn\u001b[1;34m()\u001b[0m\n",
      "File \u001b[1;32mmtrand.pyx:1403\u001b[0m, in \u001b[0;36mnumpy.random.mtrand.RandomState.standard_normal\u001b[1;34m()\u001b[0m\n",
      "File \u001b[1;32m_common.pyx:636\u001b[0m, in \u001b[0;36mnumpy.random._common.cont\u001b[1;34m()\u001b[0m\n",
      "\u001b[1;31mTypeError\u001b[0m: 'tuple' object cannot be interpreted as an integer"
     ]
    }
   ],
   "source": [
    "print(\"Zero Initialization: \\n\", initialize_zeros(shape))\n",
    "print(\"\\nRandom Initialization: \\n\", initialize_random(shape))\n",
    "print(\"\\nXavier Initialization: \\n\", initialize_xavier(shape))\n",
    "print(\"\\nHe Initialization: \\n\", initialize_he(shape))\n",
    "print(\"\\nLeCun Initialization: \\n\", initialize_lecun(shape))"
   ]
  },
  {
   "cell_type": "markdown",
   "id": "fe38d8cd",
   "metadata": {},
   "source": [
    "# Dropout"
   ]
  },
  {
   "cell_type": "code",
   "execution_count": 5,
   "id": "ec4ec0e9",
   "metadata": {},
   "outputs": [],
   "source": [
    "def dropout_forward(X, dropout_rate):\n",
    "    mask = np.random.rand(*X.shape) < (1 - dropout_rate)\n",
    "    out = X * mask / (1 - dropout_rate)\n",
    "    cache = (mask, dropout_rate)\n",
    "    return out, cache\n",
    "\n",
    "def dropout_backward(dout, cache):\n",
    "    mask, dropout_rate = cache\n",
    "    dX = dout * mask / (1 - dropout_rate)\n",
    "    return dX"
   ]
  },
  {
   "cell_type": "code",
   "execution_count": 6,
   "id": "b5bd9b6f",
   "metadata": {},
   "outputs": [],
   "source": [
    "# Forward pass with dropout\n",
    "dropout_rate = 0.2\n",
    "X = np.random.randn(4, 5)  # Example hidden layer output\n",
    "out, cache = dropout_forward(X, dropout_rate)"
   ]
  },
  {
   "cell_type": "code",
   "execution_count": 7,
   "id": "ae8bc7c9",
   "metadata": {},
   "outputs": [],
   "source": [
    "# Backward pass with dropout\n",
    "dout = np.random.randn(*out.shape)  # Example gradient from subsequent layer\n",
    "dX = dropout_backward(dout, cache)"
   ]
  },
  {
   "cell_type": "code",
   "execution_count": 8,
   "id": "05e669b9",
   "metadata": {},
   "outputs": [
    {
     "name": "stdout",
     "output_type": "stream",
     "text": [
      "Original X:\n",
      " [[ 0.25201914  0.80854546 -1.34124056  0.86687993  0.46476839]\n",
      " [-0.30579249  0.42610705 -0.45343857  0.74199622 -0.81874628]\n",
      " [ 0.53047232 -0.64510749  1.43688164  0.67406    -1.00536273]\n",
      " [-0.17507648 -0.24368014  1.37282937  0.36368145 -0.20829586]]\n",
      "\n",
      "Output with dropout:\n",
      " [[ 0.31502392  1.01068183 -1.6765507   1.08359991  0.58096049]\n",
      " [-0.          0.53263382 -0.56679821  0.92749528 -1.02343285]\n",
      " [ 0.6630904  -0.80638437  1.79610205  0.842575   -1.25670341]\n",
      " [-0.2188456  -0.30460018  1.71603671  0.45460181 -0.26036982]]\n",
      "\n",
      "Gradient after dropout:\n",
      " [[ 0.98511863 -0.13150842 -2.34711316 -0.17806453  2.09773349]\n",
      " [-0.          0.66754021  0.18147485 -0.40298255  0.8095372 ]\n",
      " [ 0.89662527  0.07915891 -1.62586999 -0.70468984  0.02585771]\n",
      " [ 1.19908708  0.51825097 -0.41474305  0.49836445 -0.56691434]]\n"
     ]
    }
   ],
   "source": [
    "print(\"Original X:\\n\", X)\n",
    "print(\"\\nOutput with dropout:\\n\", out)\n",
    "print(\"\\nGradient after dropout:\\n\", dX)"
   ]
  },
  {
   "cell_type": "markdown",
   "id": "57ba6bf5",
   "metadata": {},
   "source": [
    "# Batch Normalization"
   ]
  },
  {
   "cell_type": "code",
   "execution_count": 9,
   "id": "3efe6e49",
   "metadata": {},
   "outputs": [],
   "source": [
    "class BatchNormalization:\n",
    "    def __init__(self, epsilon=1e-8):\n",
    "        self.epsilon = epsilon\n",
    "        self.gamma = None\n",
    "        self.beta = None\n",
    "        self.mean = None\n",
    "        self.var = None\n",
    "        self.x_normalized = None\n",
    "\n",
    "    def forward(self, x, training=True):\n",
    "        if self.mean is None:\n",
    "            self.mean = np.mean(x, axis=0)\n",
    "            self.var = np.var(x, axis=0)\n",
    "\n",
    "        if training:\n",
    "            x_normalized = (x - self.mean) / np.sqrt(self.var + self.epsilon)\n",
    "            self.x_normalized = x_normalized\n",
    "\n",
    "            if self.gamma is None:\n",
    "                self.gamma = np.ones_like(x[0])\n",
    "                self.beta = np.zeros_like(x[0])\n",
    "\n",
    "            out = self.gamma * x_normalized + self.beta\n",
    "        else:\n",
    "            x_normalized = (x - self.mean) / np.sqrt(self.var + self.epsilon)\n",
    "            out = self.gamma * x_normalized + self.beta\n",
    "\n",
    "        return out\n",
    "\n",
    "    def backward(self, dout):\n",
    "        dx_normalized = dout * self.gamma\n",
    "        dx = (1.0 / len(dout)) * (1.0 / np.sqrt(self.var + self.epsilon)) * (\n",
    "                len(dout) * dx_normalized - np.sum(dx_normalized, axis=0)\n",
    "                - self.x_normalized * np.sum(dx_normalized * self.x_normalized, axis=0))\n",
    "        dgamma = np.sum(dout * self.x_normalized, axis=0)\n",
    "        dbeta = np.sum(dout, axis=0)\n",
    "\n",
    "        self.gamma -= dgamma\n",
    "        self.beta -= dbeta\n",
    "\n",
    "        return dx"
   ]
  },
  {
   "cell_type": "code",
   "execution_count": 10,
   "id": "43ad72bd",
   "metadata": {},
   "outputs": [],
   "source": [
    "# Create an instance of BatchNormalization\n",
    "bn = BatchNormalization()\n",
    "\n",
    "# Assume we have an input tensor x and its gradient dout\n",
    "x = np.random.randn(100, 10)  # Example input\n",
    "dout = np.random.randn(100, 10)  # Example gradient from subsequent layer\n",
    "\n",
    "# Forward pass\n",
    "out = bn.forward(x, training=True)\n",
    "\n",
    "# Backward pass\n",
    "dx = bn.backward(dout)"
   ]
  }
 ],
 "metadata": {
  "kernelspec": {
   "display_name": "Python 3 (ipykernel)",
   "language": "python",
   "name": "python3"
  },
  "language_info": {
   "codemirror_mode": {
    "name": "ipython",
    "version": 3
   },
   "file_extension": ".py",
   "mimetype": "text/x-python",
   "name": "python",
   "nbconvert_exporter": "python",
   "pygments_lexer": "ipython3",
   "version": "3.11.2"
  }
 },
 "nbformat": 4,
 "nbformat_minor": 5
}
