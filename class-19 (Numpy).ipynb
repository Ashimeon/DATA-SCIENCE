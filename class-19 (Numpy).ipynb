{
 "cells": [
  {
   "cell_type": "code",
   "execution_count": 1,
   "id": "b6c88372",
   "metadata": {},
   "outputs": [],
   "source": [
    "import numpy as np"
   ]
  },
  {
   "cell_type": "markdown",
   "id": "ec9cbd0c",
   "metadata": {},
   "source": [
    "# Create array"
   ]
  },
  {
   "cell_type": "markdown",
   "id": "0c8f35d2",
   "metadata": {},
   "source": [
    "## 1D array"
   ]
  },
  {
   "cell_type": "code",
   "execution_count": 2,
   "id": "b6a9332d",
   "metadata": {},
   "outputs": [
    {
     "data": {
      "text/plain": [
       "array(['1', '2', 'abc'], dtype='<U11')"
      ]
     },
     "execution_count": 2,
     "metadata": {},
     "output_type": "execute_result"
    }
   ],
   "source": [
    "list=[1,2,'abc']\n",
    "arr1=np.array(list) #use same datatype for array conversion\n",
    "arr1"
   ]
  },
  {
   "cell_type": "markdown",
   "id": "ce2460a8",
   "metadata": {},
   "source": [
    "# np.arange()\n",
    "(range(start,stop, step)) -----> one and only single dimension"
   ]
  },
  {
   "cell_type": "code",
   "execution_count": 3,
   "id": "9d7704a0",
   "metadata": {},
   "outputs": [
    {
     "data": {
      "text/plain": [
       "array([0, 1, 2, 3, 4])"
      ]
     },
     "execution_count": 3,
     "metadata": {},
     "output_type": "execute_result"
    }
   ],
   "source": [
    "arr2=np.arange(5)\n",
    "arr2"
   ]
  },
  {
   "cell_type": "code",
   "execution_count": 4,
   "id": "1ea777d1",
   "metadata": {},
   "outputs": [
    {
     "data": {
      "text/plain": [
       "array([ 5,  6,  7,  8,  9, 10, 11, 12, 13])"
      ]
     },
     "execution_count": 4,
     "metadata": {},
     "output_type": "execute_result"
    }
   ],
   "source": [
    "arr2=np.arange(5,14)\n",
    "arr2"
   ]
  },
  {
   "cell_type": "code",
   "execution_count": 5,
   "id": "df1678e0",
   "metadata": {},
   "outputs": [
    {
     "data": {
      "text/plain": [
       "array([ 5,  8, 11])"
      ]
     },
     "execution_count": 5,
     "metadata": {},
     "output_type": "execute_result"
    }
   ],
   "source": [
    "arr2=np.arange(5,14,3)\n",
    "arr2"
   ]
  },
  {
   "cell_type": "markdown",
   "id": "1b5f7d24",
   "metadata": {},
   "source": [
    "# np.zeros()"
   ]
  },
  {
   "cell_type": "code",
   "execution_count": 6,
   "id": "157cc1ad",
   "metadata": {},
   "outputs": [
    {
     "data": {
      "text/plain": [
       "array([0., 0., 0., 0., 0.])"
      ]
     },
     "execution_count": 6,
     "metadata": {},
     "output_type": "execute_result"
    }
   ],
   "source": [
    "np.zeros(5)"
   ]
  },
  {
   "cell_type": "markdown",
   "id": "92172a82",
   "metadata": {},
   "source": [
    "# np.ones()"
   ]
  },
  {
   "cell_type": "code",
   "execution_count": 7,
   "id": "af05ee10",
   "metadata": {},
   "outputs": [
    {
     "data": {
      "text/plain": [
       "array([1., 1., 1., 1.])"
      ]
     },
     "execution_count": 7,
     "metadata": {},
     "output_type": "execute_result"
    }
   ],
   "source": [
    "np.ones(4)"
   ]
  },
  {
   "cell_type": "markdown",
   "id": "78a6a733",
   "metadata": {},
   "source": [
    "# np.full()"
   ]
  },
  {
   "cell_type": "code",
   "execution_count": 8,
   "id": "dabd8489",
   "metadata": {},
   "outputs": [
    {
     "data": {
      "text/plain": [
       "array([3, 3, 3, 3])"
      ]
     },
     "execution_count": 8,
     "metadata": {},
     "output_type": "execute_result"
    }
   ],
   "source": [
    "np.full(4,3)"
   ]
  },
  {
   "cell_type": "markdown",
   "id": "0876d94a",
   "metadata": {},
   "source": [
    "# np.linspace()\n",
    "np.linspace(start,stop, total number of elements)"
   ]
  },
  {
   "cell_type": "code",
   "execution_count": 9,
   "id": "86ce9375",
   "metadata": {},
   "outputs": [
    {
     "data": {
      "text/plain": [
       "array([ 1.,  2.,  3.,  4.,  5.,  6.,  7.,  8.,  9., 10.])"
      ]
     },
     "execution_count": 9,
     "metadata": {},
     "output_type": "execute_result"
    }
   ],
   "source": [
    "np.linspace(1,10,10)"
   ]
  },
  {
   "cell_type": "markdown",
   "id": "330247fa",
   "metadata": {},
   "source": [
    "# np.random.rand()\n",
    "value between 0 and 1"
   ]
  },
  {
   "cell_type": "code",
   "execution_count": 10,
   "id": "960f9fa5",
   "metadata": {},
   "outputs": [
    {
     "data": {
      "text/plain": [
       "array([0.12215728, 0.27811891, 0.26671829, 0.74061013, 0.0881543 ])"
      ]
     },
     "execution_count": 10,
     "metadata": {},
     "output_type": "execute_result"
    }
   ],
   "source": [
    "np.random.rand(5)"
   ]
  },
  {
   "cell_type": "markdown",
   "id": "f19e1887",
   "metadata": {},
   "source": [
    "# np.random.randint(start,stop,dimension)"
   ]
  },
  {
   "cell_type": "code",
   "execution_count": 11,
   "id": "d48882bf",
   "metadata": {},
   "outputs": [
    {
     "data": {
      "text/plain": [
       "0"
      ]
     },
     "execution_count": 11,
     "metadata": {},
     "output_type": "execute_result"
    }
   ],
   "source": [
    "np.random.randint(5)"
   ]
  },
  {
   "cell_type": "code",
   "execution_count": 12,
   "id": "98d0e5b8",
   "metadata": {},
   "outputs": [
    {
     "data": {
      "text/plain": [
       "6"
      ]
     },
     "execution_count": 12,
     "metadata": {},
     "output_type": "execute_result"
    }
   ],
   "source": [
    "np.random.randint(5,14)"
   ]
  },
  {
   "cell_type": "code",
   "execution_count": 13,
   "id": "eaa1a953",
   "metadata": {},
   "outputs": [
    {
     "data": {
      "text/plain": [
       "array([3, 3, 1, 1, 2])"
      ]
     },
     "execution_count": 13,
     "metadata": {},
     "output_type": "execute_result"
    }
   ],
   "source": [
    "np.random.randint(1,4,5)"
   ]
  },
  {
   "cell_type": "code",
   "execution_count": 14,
   "id": "7aefbc6c",
   "metadata": {},
   "outputs": [
    {
     "data": {
      "text/plain": [
       "array([[ 2,  8,  6],\n",
       "       [ 4, 10,  5],\n",
       "       [10, 10,  5],\n",
       "       [10,  4,  2]])"
      ]
     },
     "execution_count": 14,
     "metadata": {},
     "output_type": "execute_result"
    }
   ],
   "source": [
    "np.random.randint(2,11,size=(4,3))"
   ]
  },
  {
   "cell_type": "markdown",
   "id": "64bf60fb",
   "metadata": {},
   "source": [
    "## 2D array"
   ]
  },
  {
   "cell_type": "code",
   "execution_count": 15,
   "id": "254ae384",
   "metadata": {},
   "outputs": [
    {
     "name": "stdout",
     "output_type": "stream",
     "text": [
      "[[1 2 3]\n",
      " [7 8 9]]\n",
      "<class 'numpy.ndarray'>\n",
      "2\n"
     ]
    }
   ],
   "source": [
    "list=[[1,2,3],[7,8,9]]\n",
    "arr1=np.array(list) \n",
    "print(arr1)\n",
    "print(type(arr1))\n",
    "print(arr1.ndim)"
   ]
  },
  {
   "cell_type": "code",
   "execution_count": 16,
   "id": "1f580d8c",
   "metadata": {},
   "outputs": [
    {
     "data": {
      "text/plain": [
       "array([[0., 0., 0., 0., 0.],\n",
       "       [0., 0., 0., 0., 0.],\n",
       "       [0., 0., 0., 0., 0.],\n",
       "       [0., 0., 0., 0., 0.]])"
      ]
     },
     "execution_count": 16,
     "metadata": {},
     "output_type": "execute_result"
    }
   ],
   "source": [
    "np.zeros((4,5))"
   ]
  },
  {
   "cell_type": "code",
   "execution_count": 17,
   "id": "ac1e1f24",
   "metadata": {},
   "outputs": [
    {
     "data": {
      "text/plain": [
       "array([[1., 1., 1., 1., 1.],\n",
       "       [1., 1., 1., 1., 1.],\n",
       "       [1., 1., 1., 1., 1.],\n",
       "       [1., 1., 1., 1., 1.]])"
      ]
     },
     "execution_count": 17,
     "metadata": {},
     "output_type": "execute_result"
    }
   ],
   "source": [
    "np.ones((4,5))"
   ]
  },
  {
   "cell_type": "code",
   "execution_count": 18,
   "id": "0a2c059c",
   "metadata": {},
   "outputs": [
    {
     "data": {
      "text/plain": [
       "array([[-6, -6, -6],\n",
       "       [-6, -6, -6]])"
      ]
     },
     "execution_count": 18,
     "metadata": {},
     "output_type": "execute_result"
    }
   ],
   "source": [
    "np.full((2,3),-6)"
   ]
  },
  {
   "cell_type": "code",
   "execution_count": 19,
   "id": "d884aede",
   "metadata": {},
   "outputs": [
    {
     "data": {
      "text/plain": [
       "array([[ 1.        , 10.        ],\n",
       "       [ 1.66666667, 10.16666667],\n",
       "       [ 2.33333333, 10.33333333],\n",
       "       [ 3.        , 10.5       ],\n",
       "       [ 3.66666667, 10.66666667],\n",
       "       [ 4.33333333, 10.83333333],\n",
       "       [ 5.        , 11.        ]])"
      ]
     },
     "execution_count": 19,
     "metadata": {},
     "output_type": "execute_result"
    }
   ],
   "source": [
    "np.linspace((1,10),(5,11),7)"
   ]
  },
  {
   "cell_type": "code",
   "execution_count": 20,
   "id": "46d0e3fd",
   "metadata": {},
   "outputs": [
    {
     "data": {
      "text/plain": [
       "array([[ 1.        , 10.        ],\n",
       "       [ 1.66666667, 10.16666667],\n",
       "       [ 2.33333333, 10.33333333],\n",
       "       [ 3.        , 10.5       ],\n",
       "       [ 3.66666667, 10.66666667],\n",
       "       [ 4.33333333, 10.83333333],\n",
       "       [ 5.        , 11.        ]])"
      ]
     },
     "execution_count": 20,
     "metadata": {},
     "output_type": "execute_result"
    }
   ],
   "source": [
    "np.linspace((1,10),(5,11),num=7)      # key can be passed"
   ]
  },
  {
   "cell_type": "markdown",
   "id": "ee8c3123",
   "metadata": {},
   "source": [
    "# np.diag()\n",
    "not for 1D\n",
    "\n",
    "differ in matrix size"
   ]
  },
  {
   "cell_type": "code",
   "execution_count": 21,
   "id": "df820318",
   "metadata": {},
   "outputs": [
    {
     "data": {
      "text/plain": [
       "array([[2, 0],\n",
       "       [0, 3]])"
      ]
     },
     "execution_count": 21,
     "metadata": {},
     "output_type": "execute_result"
    }
   ],
   "source": [
    "np.diag([2,3])"
   ]
  },
  {
   "cell_type": "code",
   "execution_count": 22,
   "id": "87042c74",
   "metadata": {},
   "outputs": [
    {
     "data": {
      "text/plain": [
       "array([[2, 0, 0],\n",
       "       [0, 3, 0],\n",
       "       [0, 0, 5]])"
      ]
     },
     "execution_count": 22,
     "metadata": {},
     "output_type": "execute_result"
    }
   ],
   "source": [
    "np.diag([2,3,5])"
   ]
  },
  {
   "cell_type": "code",
   "execution_count": 23,
   "id": "5beadfb0",
   "metadata": {},
   "outputs": [
    {
     "data": {
      "text/plain": [
       "array([[0, 0, 2, 0, 0],\n",
       "       [0, 0, 0, 3, 0],\n",
       "       [0, 0, 0, 0, 5],\n",
       "       [0, 0, 0, 0, 0],\n",
       "       [0, 0, 0, 0, 0]])"
      ]
     },
     "execution_count": 23,
     "metadata": {},
     "output_type": "execute_result"
    }
   ],
   "source": [
    "np.diag([2,3,5],2)"
   ]
  },
  {
   "cell_type": "code",
   "execution_count": 24,
   "id": "87930e90",
   "metadata": {},
   "outputs": [
    {
     "data": {
      "text/plain": [
       "array([[0, 0, 0, 0, 0],\n",
       "       [0, 0, 0, 0, 0],\n",
       "       [2, 0, 0, 0, 0],\n",
       "       [0, 3, 0, 0, 0],\n",
       "       [0, 0, 5, 0, 0]])"
      ]
     },
     "execution_count": 24,
     "metadata": {},
     "output_type": "execute_result"
    }
   ],
   "source": [
    "np.diag([2,3,5],k=-2)"
   ]
  },
  {
   "cell_type": "markdown",
   "id": "3f1ce799",
   "metadata": {},
   "source": [
    "# np.identity()\n",
    "not for 1D"
   ]
  },
  {
   "cell_type": "code",
   "execution_count": 25,
   "id": "83d2ed85",
   "metadata": {},
   "outputs": [
    {
     "data": {
      "text/plain": [
       "array([[1., 0., 0., 0.],\n",
       "       [0., 1., 0., 0.],\n",
       "       [0., 0., 1., 0.],\n",
       "       [0., 0., 0., 1.]])"
      ]
     },
     "execution_count": 25,
     "metadata": {},
     "output_type": "execute_result"
    }
   ],
   "source": [
    "np.identity(4)"
   ]
  },
  {
   "cell_type": "markdown",
   "id": "b55e98c6",
   "metadata": {},
   "source": [
    "# np.eye()\n",
    "not for 1D\n",
    "\n",
    "same matrix size"
   ]
  },
  {
   "cell_type": "code",
   "execution_count": 26,
   "id": "f61369c3",
   "metadata": {},
   "outputs": [
    {
     "data": {
      "text/plain": [
       "array([[1., 0., 0., 0., 0.],\n",
       "       [0., 1., 0., 0., 0.],\n",
       "       [0., 0., 1., 0., 0.],\n",
       "       [0., 0., 0., 1., 0.],\n",
       "       [0., 0., 0., 0., 1.]])"
      ]
     },
     "execution_count": 26,
     "metadata": {},
     "output_type": "execute_result"
    }
   ],
   "source": [
    "np.eye(5)"
   ]
  },
  {
   "cell_type": "code",
   "execution_count": 27,
   "id": "25a5e785",
   "metadata": {},
   "outputs": [
    {
     "data": {
      "text/plain": [
       "array([[0., 0., 1., 0., 0.],\n",
       "       [0., 0., 0., 1., 0.],\n",
       "       [0., 0., 0., 0., 1.],\n",
       "       [0., 0., 0., 0., 0.],\n",
       "       [0., 0., 0., 0., 0.]])"
      ]
     },
     "execution_count": 27,
     "metadata": {},
     "output_type": "execute_result"
    }
   ],
   "source": [
    "np.eye(5,k=2)   # only k can be used"
   ]
  },
  {
   "cell_type": "code",
   "execution_count": 28,
   "id": "68bd755f",
   "metadata": {},
   "outputs": [
    {
     "data": {
      "text/plain": [
       "array([[0., 0., 0., 0., 0.],\n",
       "       [0., 0., 0., 0., 0.],\n",
       "       [1., 0., 0., 0., 0.],\n",
       "       [0., 1., 0., 0., 0.],\n",
       "       [0., 0., 1., 0., 0.]])"
      ]
     },
     "execution_count": 28,
     "metadata": {},
     "output_type": "execute_result"
    }
   ],
   "source": [
    "np.eye(5,k=-2)"
   ]
  },
  {
   "cell_type": "code",
   "execution_count": 29,
   "id": "33f4cef7",
   "metadata": {},
   "outputs": [
    {
     "data": {
      "text/plain": [
       "array([[0.76044703, 0.03182314, 0.77592125, 0.09539178, 0.05182061],\n",
       "       [0.89084786, 0.61808034, 0.54596838, 0.10977498, 0.79011142],\n",
       "       [0.19039132, 0.86812259, 0.08366629, 0.48677817, 0.52587877],\n",
       "       [0.06633363, 0.99671182, 0.20387256, 0.29427269, 0.02178024]])"
      ]
     },
     "execution_count": 29,
     "metadata": {},
     "output_type": "execute_result"
    }
   ],
   "source": [
    "np.random.rand(4,5)"
   ]
  },
  {
   "cell_type": "code",
   "execution_count": 30,
   "id": "9ddff6f3",
   "metadata": {},
   "outputs": [
    {
     "data": {
      "text/plain": [
       "array([[2, 9, 9],\n",
       "       [2, 6, 2],\n",
       "       [9, 9, 9],\n",
       "       [4, 7, 9]])"
      ]
     },
     "execution_count": 30,
     "metadata": {},
     "output_type": "execute_result"
    }
   ],
   "source": [
    "np.random.randint(2,11,size=(4,3))"
   ]
  },
  {
   "cell_type": "markdown",
   "id": "daacec77",
   "metadata": {},
   "source": [
    "# Multiple dimension"
   ]
  },
  {
   "cell_type": "code",
   "execution_count": 31,
   "id": "b8e69e33",
   "metadata": {},
   "outputs": [
    {
     "data": {
      "text/plain": [
       "array([[[1., 1.],\n",
       "        [1., 1.],\n",
       "        [1., 1.]],\n",
       "\n",
       "       [[1., 1.],\n",
       "        [1., 1.],\n",
       "        [1., 1.]],\n",
       "\n",
       "       [[1., 1.],\n",
       "        [1., 1.],\n",
       "        [1., 1.]],\n",
       "\n",
       "       [[1., 1.],\n",
       "        [1., 1.],\n",
       "        [1., 1.]]])"
      ]
     },
     "execution_count": 31,
     "metadata": {},
     "output_type": "execute_result"
    }
   ],
   "source": [
    "arr1=np.ones((4,3,2))\n",
    "arr1"
   ]
  },
  {
   "cell_type": "code",
   "execution_count": 32,
   "id": "5c2992f1",
   "metadata": {},
   "outputs": [
    {
     "data": {
      "text/plain": [
       "array([[[-8, -8, -8, -8, -8],\n",
       "        [-8, -8, -8, -8, -8],\n",
       "        [-8, -8, -8, -8, -8]],\n",
       "\n",
       "       [[-8, -8, -8, -8, -8],\n",
       "        [-8, -8, -8, -8, -8],\n",
       "        [-8, -8, -8, -8, -8]],\n",
       "\n",
       "       [[-8, -8, -8, -8, -8],\n",
       "        [-8, -8, -8, -8, -8],\n",
       "        [-8, -8, -8, -8, -8]],\n",
       "\n",
       "       [[-8, -8, -8, -8, -8],\n",
       "        [-8, -8, -8, -8, -8],\n",
       "        [-8, -8, -8, -8, -8]]])"
      ]
     },
     "execution_count": 32,
     "metadata": {},
     "output_type": "execute_result"
    }
   ],
   "source": [
    "np.full((4,3,5),-8)"
   ]
  },
  {
   "cell_type": "code",
   "execution_count": 33,
   "id": "07b20ae9",
   "metadata": {},
   "outputs": [
    {
     "data": {
      "text/plain": [
       "array([1., 1., 1., 1., 1., 1., 1., 1., 1., 1., 1., 1., 1., 1., 1., 1., 1.,\n",
       "       1., 1., 1., 1., 1., 1., 1.])"
      ]
     },
     "execution_count": 33,
     "metadata": {},
     "output_type": "execute_result"
    }
   ],
   "source": [
    "arr1.reshape(24)"
   ]
  },
  {
   "cell_type": "code",
   "execution_count": null,
   "id": "5c8a4e7c",
   "metadata": {},
   "outputs": [],
   "source": []
  },
  {
   "cell_type": "markdown",
   "id": "2e03edd1",
   "metadata": {},
   "source": [
    "# INDEXING"
   ]
  },
  {
   "cell_type": "code",
   "execution_count": 34,
   "id": "561ce9e7",
   "metadata": {},
   "outputs": [
    {
     "data": {
      "text/plain": [
       "3"
      ]
     },
     "execution_count": 34,
     "metadata": {},
     "output_type": "execute_result"
    }
   ],
   "source": [
    "lists=[1,2,3]\n",
    "lists[2]"
   ]
  },
  {
   "cell_type": "code",
   "execution_count": 35,
   "id": "5b77ac01",
   "metadata": {},
   "outputs": [
    {
     "data": {
      "text/plain": [
       "2"
      ]
     },
     "execution_count": 35,
     "metadata": {},
     "output_type": "execute_result"
    }
   ],
   "source": [
    "lists=[[1,2,3],[4,5,6]]\n",
    "lists[0][1]"
   ]
  },
  {
   "cell_type": "code",
   "execution_count": 36,
   "id": "ce68bf79",
   "metadata": {},
   "outputs": [],
   "source": [
    "arr1=np.array(lists)"
   ]
  },
  {
   "cell_type": "code",
   "execution_count": 37,
   "id": "709a80e7",
   "metadata": {},
   "outputs": [
    {
     "data": {
      "text/plain": [
       "2"
      ]
     },
     "execution_count": 37,
     "metadata": {},
     "output_type": "execute_result"
    }
   ],
   "source": [
    "arr1[0][1]"
   ]
  },
  {
   "cell_type": "code",
   "execution_count": 38,
   "id": "5e551108",
   "metadata": {},
   "outputs": [
    {
     "data": {
      "text/plain": [
       "2"
      ]
     },
     "execution_count": 38,
     "metadata": {},
     "output_type": "execute_result"
    }
   ],
   "source": [
    "arr1[0,1]"
   ]
  },
  {
   "cell_type": "code",
   "execution_count": null,
   "id": "8b403b5c",
   "metadata": {},
   "outputs": [],
   "source": []
  }
 ],
 "metadata": {
  "kernelspec": {
   "display_name": "Python 3 (ipykernel)",
   "language": "python",
   "name": "python3"
  },
  "language_info": {
   "codemirror_mode": {
    "name": "ipython",
    "version": 3
   },
   "file_extension": ".py",
   "mimetype": "text/x-python",
   "name": "python",
   "nbconvert_exporter": "python",
   "pygments_lexer": "ipython3",
   "version": "3.11.2"
  }
 },
 "nbformat": 4,
 "nbformat_minor": 5
}
