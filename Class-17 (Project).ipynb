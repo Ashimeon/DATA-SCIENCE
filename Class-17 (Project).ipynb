{
 "cells": [
  {
   "cell_type": "markdown",
   "id": "c5d08e70",
   "metadata": {},
   "source": [
    "# Problem Statement:\n",
    "Shopping cart:\n",
    "- adding products to the cart\n",
    "- remove products from the cart\n",
    "- calculate total cost\n",
    "- apply discount based on user\n",
    "- generate invoice"
   ]
  },
  {
   "cell_type": "code",
   "execution_count": 1,
   "id": "06a97d9f",
   "metadata": {},
   "outputs": [],
   "source": [
    "class user:\n",
    "    def __init__(self,name,premium=False):\n",
    "        self.name=name\n",
    "        self.premium=premium\n",
    "class Product:                   \n",
    "    def __init__(self,name,price):\n",
    "        self.name=name\n",
    "        self.price=price"
   ]
  },
  {
   "cell_type": "code",
   "execution_count": 2,
   "id": "7adec5a3",
   "metadata": {},
   "outputs": [],
   "source": [
    "def discount10(func):\n",
    "    def wrapper(abc):            # why self? : cart is passed\n",
    "        total=func(abc)\n",
    "        discounted=total*0.9\n",
    "        return discounted\n",
    "    return wrapper"
   ]
  },
  {
   "cell_type": "code",
   "execution_count": 3,
   "id": "b055fa30",
   "metadata": {},
   "outputs": [],
   "source": [
    "class shoppingcart:\n",
    "    def __init__(self):\n",
    "        self.products=[]\n",
    "        \n",
    "    def addproduct(self,product):         # product is passed as value (instance value)\n",
    "        self.products.append(product)\n",
    "    \n",
    "    def removeproduct(self,product):\n",
    "        self.products.remove(product)\n",
    "    \n",
    "    def totalcost(self):\n",
    "        total=sum(product.price for product in self.products)    # product.price cannot be assecced because it is inside list eg pro1,pro2\n",
    "        return total\n",
    "    \n",
    "    @discount10\n",
    "    def discountedcost(self):\n",
    "        total=sum(product.price for product in self.products)\n",
    "        return total\n",
    "    \n",
    "    def invoice(self,user):                # user is passed as value(instance vaue) eg: u1\n",
    "        invo=f\"Invoice for {user.name}:\\n\"   # u1.name\n",
    "        invo+=\"------------------------\\n\"\n",
    "        for product in self.products:          # (not here) for i in list of product: for j in i: --->j.name and j.price\n",
    "            invo+=f\"{product.name}: ${product.price}\\n\"   # (here) for i in list (counted as number) already saved in getproducts\n",
    "        total=self.totalcost()\n",
    "        if user.premium:\n",
    "            invo+=\"---------------\\n\"\n",
    "            invo+=f\"sub-total: ${total}\\n\"\n",
    "            finalcost=self.discountedcost()\n",
    "            invo+=f\"discount(10%): ${total-finalcost}\\n\"\n",
    "            total=finalcost\n",
    "        invo+=\"------------------\\n\"\n",
    "        invo+=f\"total: ${total}\"\n",
    "        return invo\n",
    "    \n",
    "    def getproducts(self):              # separate list ( product1, product2)\n",
    "        yield from self.products\n",
    "        #for product in self.products:\n",
    "            # yeild product\n",
    "        "
   ]
  },
  {
   "cell_type": "code",
   "execution_count": 4,
   "id": "57f7ab02",
   "metadata": {},
   "outputs": [
    {
     "name": "stdout",
     "output_type": "stream",
     "text": [
      "Product: shirt, Price: 20\n",
      "Product: pants, Price: 30\n"
     ]
    }
   ],
   "source": [
    "# create some products\n",
    "product1=Product(\"shirt\",20)\n",
    "product2=Product(\"pants\",30)\n",
    "product3=Product(\"shoes\",50)\n",
    "\n",
    "#create a shopping cart\n",
    "cart=shoppingcart()\n",
    "\n",
    "#add products\n",
    "cart.addproduct(product1)\n",
    "cart.addproduct(product2)\n",
    "\n",
    "#use the generator to iterate over the products\n",
    "for product in cart.getproducts():         # separate individual product (product1 ---> product.name,product.price)\n",
    "    print(f\"Product: {product.name}, Price: {product.price}\")"
   ]
  },
  {
   "cell_type": "markdown",
   "id": "4657cbcd",
   "metadata": {},
   "source": [
    "# Non Premium or Regular Users"
   ]
  },
  {
   "cell_type": "code",
   "execution_count": 5,
   "id": "09af5eea",
   "metadata": {},
   "outputs": [
    {
     "name": "stdout",
     "output_type": "stream",
     "text": [
      "Invoice for rita:\n",
      "------------------------\n",
      "shirt: $20\n",
      "pants: $30\n",
      "------------------\n",
      "total: $50\n"
     ]
    }
   ],
   "source": [
    "# Create a user\n",
    "u1=user(\"rita\",premium=False)\n",
    "\n",
    "# Generate and print the invoice\n",
    "invoice1=cart.invoice(u1)\n",
    "print(invoice1)"
   ]
  },
  {
   "cell_type": "markdown",
   "id": "25a72a4c",
   "metadata": {},
   "source": [
    "# Premium Users"
   ]
  },
  {
   "cell_type": "code",
   "execution_count": 6,
   "id": "67c27d7e",
   "metadata": {},
   "outputs": [
    {
     "name": "stdout",
     "output_type": "stream",
     "text": [
      "Invoice for john:\n",
      "------------------------\n",
      "shirt: $20\n",
      "pants: $30\n",
      "---------------\n",
      "sub-total: $50\n",
      "discount(10%): $5.0\n",
      "------------------\n",
      "total: $45.0\n"
     ]
    }
   ],
   "source": [
    "# Create a user\n",
    "u2=user(\"john\",premium=True)\n",
    "\n",
    "# Generate and print invoice\n",
    "invoice2=cart.invoice(u2)\n",
    "print(invoice2)"
   ]
  },
  {
   "cell_type": "markdown",
   "id": "bb0d762e",
   "metadata": {},
   "source": [
    "#\n",
    "1. Cart for a user should be independent from other users\n",
    "2. Add a new admin feature is_admin that takes in boolean values [True, False], and \n",
    "   only admin should be allowed to create other admins or all is_premium=True for other users"
   ]
  },
  {
   "cell_type": "code",
   "execution_count": 7,
   "id": "7f393bce",
   "metadata": {},
   "outputs": [
    {
     "data": {
      "text/plain": [
       "['a', 'b', 'c']"
      ]
     },
     "execution_count": 7,
     "metadata": {},
     "output_type": "execute_result"
    }
   ],
   "source": [
    "l=['a','b']\n",
    "l.append(\"c\")\n",
    "l"
   ]
  },
  {
   "cell_type": "code",
   "execution_count": 8,
   "id": "56ca19e9",
   "metadata": {},
   "outputs": [
    {
     "name": "stdout",
     "output_type": "stream",
     "text": [
      "taira and f and ['kkkkkk']\n",
      "gita and f and ['kkkkkk', 'taira']\n"
     ]
    }
   ],
   "source": [
    "class Person:\n",
    "    lists=[\"kkkkkk\"]\n",
    "    def __init__(self,name,sex):\n",
    "        self.name=name\n",
    "        self.sex=sex\n",
    "    def word(self):\n",
    "        print(f\"{self.name} and {self.sex} and {self.lists}\")\n",
    "        self.lists.append(self.name)\n",
    "#     @classmethod\n",
    "#     def change(self,value):\n",
    "#         self.lists=self.name\n",
    "        \n",
    "# class Hero(Person):\n",
    "#     def __init__(self,name,age,sex):\n",
    "#         self.age=age\n",
    "#         Person.__init__(self,name,sex=\"l\")\n",
    "#     def word(self):\n",
    "#         print(f\"{self.name} and {self.sex} and {self.lone} is {self.age} old\")\n",
    "p1=Person(\"taira\",\"f\") \n",
    "p1.word()\n",
    "# p1.change(\"tr\")\n",
    "p3=Person(\"gita\",\"f\")\n",
    "p3.word()\n",
    "# p2=Hero(\"gold\",8,\"k\")\n",
    "# p2.word()"
   ]
  },
  {
   "cell_type": "code",
   "execution_count": 9,
   "id": "54330407",
   "metadata": {},
   "outputs": [
    {
     "ename": "TypeError",
     "evalue": "Hero() takes no arguments",
     "output_type": "error",
     "traceback": [
      "\u001b[1;31m---------------------------------------------------------------------------\u001b[0m",
      "\u001b[1;31mTypeError\u001b[0m                                 Traceback (most recent call last)",
      "Cell \u001b[1;32mIn[9], line 14\u001b[0m\n\u001b[0;32m     11\u001b[0m         a\u001b[38;5;241m.\u001b[39mword()\n\u001b[0;32m     13\u001b[0m a2\u001b[38;5;241m=\u001b[39mPerson(\u001b[38;5;124m\"\u001b[39m\u001b[38;5;124msita\u001b[39m\u001b[38;5;124m\"\u001b[39m,\u001b[38;5;124m\"\u001b[39m\u001b[38;5;124mf\u001b[39m\u001b[38;5;124m\"\u001b[39m)\n\u001b[1;32m---> 14\u001b[0m a1\u001b[38;5;241m=\u001b[39m\u001b[43mHero\u001b[49m\u001b[43m(\u001b[49m\u001b[43ma2\u001b[49m\u001b[43m)\u001b[49m\n\u001b[0;32m     15\u001b[0m a1\u001b[38;5;241m.\u001b[39mword2()\n",
      "\u001b[1;31mTypeError\u001b[0m: Hero() takes no arguments"
     ]
    }
   ],
   "source": [
    "class Person:\n",
    "    lists=[\"kkkkkk\"]\n",
    "    def __init__(self,name,sex):\n",
    "        self.name=name\n",
    "        self.sex=sex\n",
    "    def word(self):\n",
    "        print(f\"{self.name} and {self.sex} and {self.lists}\")\n",
    "        \n",
    "class Hero:\n",
    "    def word2(self,a):\n",
    "        a.word()\n",
    "        \n",
    "a2=Person(\"sita\",\"f\")\n",
    "a1=Hero(a2)\n",
    "a1.word2()"
   ]
  },
  {
   "cell_type": "code",
   "execution_count": null,
   "id": "acfd9d9b",
   "metadata": {},
   "outputs": [],
   "source": []
  },
  {
   "cell_type": "code",
   "execution_count": null,
   "id": "4317ddc4",
   "metadata": {},
   "outputs": [],
   "source": []
  }
 ],
 "metadata": {
  "kernelspec": {
   "display_name": "Python 3 (ipykernel)",
   "language": "python",
   "name": "python3"
  },
  "language_info": {
   "codemirror_mode": {
    "name": "ipython",
    "version": 3
   },
   "file_extension": ".py",
   "mimetype": "text/x-python",
   "name": "python",
   "nbconvert_exporter": "python",
   "pygments_lexer": "ipython3",
   "version": "3.11.2"
  }
 },
 "nbformat": 4,
 "nbformat_minor": 5
}
