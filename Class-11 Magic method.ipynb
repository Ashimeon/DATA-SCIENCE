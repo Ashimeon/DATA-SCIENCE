{
 "cells": [
  {
   "cell_type": "markdown",
   "id": "8019c2ae",
   "metadata": {},
   "source": [
    "# Class-11 Magic Method"
   ]
  },
  {
   "cell_type": "code",
   "execution_count": 29,
   "id": "be8ae7f2",
   "metadata": {},
   "outputs": [],
   "source": [
    "# __init__ :initialize itself\n",
    "# __str__ : string for normal users\n",
    "# __repr__ : string for programmer for debugging instruction\n",
    "# __len__ : for input(numeric) display mostly for length\n",
    "# __call__ : call the function"
   ]
  },
  {
   "cell_type": "code",
   "execution_count": 30,
   "id": "54586f94",
   "metadata": {},
   "outputs": [],
   "source": [
    "class Person:\n",
    "    def __init__ (self,name,age):\n",
    "        self.name=name\n",
    "        self.age=age\n",
    "    def __str__(self):\n",
    "        return f\"the person is {self.name} of {self.age} age\"\n",
    "    def __repr__(self):\n",
    "        return f\"person:({self.name}, age:{self.age})\"\n",
    "    def __len__(self):\n",
    "        return self.age\n",
    "    def __call__(self):\n",
    "        return f\"{self.name} is being called\""
   ]
  },
  {
   "cell_type": "code",
   "execution_count": 31,
   "id": "1e3c01c7",
   "metadata": {},
   "outputs": [
    {
     "name": "stdout",
     "output_type": "stream",
     "text": [
      "the person is Alice of 30 age\n",
      "the person is Alice of 30 age\n",
      "person:(Alice, age:30)\n",
      "30\n",
      "Alice is being called\n"
     ]
    }
   ],
   "source": [
    "p1 = Person(\"Alice\",30)\n",
    "\n",
    "print(p1)\n",
    "print(str(p1))\n",
    "print(repr(p1))\n",
    "print(len(p1))\n",
    "print(p1())"
   ]
  },
  {
   "cell_type": "markdown",
   "id": "5958b302",
   "metadata": {},
   "source": [
    "# Operator Overloading"
   ]
  },
  {
   "cell_type": "code",
   "execution_count": 58,
   "id": "a3541d65",
   "metadata": {},
   "outputs": [],
   "source": [
    "# a+b ---->a.__add__(b)\n",
    "# a and b are objects of same class"
   ]
  },
  {
   "cell_type": "code",
   "execution_count": 63,
   "id": "d8e39919",
   "metadata": {},
   "outputs": [
    {
     "name": "stdout",
     "output_type": "stream",
     "text": [
      "False\n",
      "True\n",
      "4,6\n",
      "-2,-2\n",
      "3,8\n",
      "0.3333333333333333,0.5\n"
     ]
    }
   ],
   "source": [
    "class Point:\n",
    "    def __init__(self,x,y):\n",
    "        self.x=x\n",
    "        self.y=y\n",
    "    def __add__(self,other):\n",
    "        x=self.x+other.x\n",
    "        y=self.y+other.y\n",
    "        return Point(x,y)\n",
    "    def __sub__(self,other):\n",
    "        x=self.x-other.x\n",
    "        y=self.y-other.y\n",
    "        return Point(x,y)\n",
    "    def __mul__(self,other):\n",
    "        x=self.x*other.x\n",
    "        y=self.y*other.y\n",
    "        return Point(x,y)\n",
    "    def __truediv__(self,other):\n",
    "        x=self.x/other.x\n",
    "        y=self.y/other.y\n",
    "        return Point(x,y)\n",
    "    def __eq__(self,other):\n",
    "        return self.x==other.x and self.y==other.y\n",
    "    def __lt__(self,other):\n",
    "        return self.x<other.x and self.y<other.y\n",
    "    def __repr__(self):\n",
    "        return f\"{self.x},{self.y}\"    ### takes all the return value\n",
    "n1=Point(1,2)\n",
    "n2=Point(3,4)\n",
    "print(n1==n2)\n",
    "print(n1<n2)\n",
    "print(n1+n2)\n",
    "print(n1-n2)\n",
    "print(n1*n2)\n",
    "print(n1/n2)"
   ]
  },
  {
   "cell_type": "code",
   "execution_count": null,
   "id": "9f4d35f4",
   "metadata": {},
   "outputs": [],
   "source": []
  },
  {
   "cell_type": "code",
   "execution_count": 5,
   "id": "9d632c3c",
   "metadata": {},
   "outputs": [
    {
     "name": "stdout",
     "output_type": "stream",
     "text": [
      "name is ram and age is 10\n",
      "name:ram, age: 10\n",
      "10\n",
      "ram is being called\n"
     ]
    }
   ],
   "source": [
    "class clau:\n",
    "    def __init__(self,a,b):\n",
    "        self.name=a\n",
    "        self.age=b\n",
    "    def __str__(self):\n",
    "        return f\"name is {self.name} and age is {self.age}\"\n",
    "    def __repr__(self):\n",
    "        return f\"name:{self.name}, age: {self.age}\"\n",
    "    def __len__(self):\n",
    "        return self.age\n",
    "    def __call__(self):\n",
    "        return f\"{self.name} is being called\"\n",
    "c1=clau(\"ram\",10)\n",
    "print(str(c1))\n",
    "print(repr(c1))\n",
    "print(len(c1))\n",
    "print(c1())"
   ]
  },
  {
   "cell_type": "code",
   "execution_count": 9,
   "id": "e2c3ecc8",
   "metadata": {},
   "outputs": [
    {
     "name": "stdout",
     "output_type": "stream",
     "text": [
      "6,8\n",
      "-2,-2\n",
      "8,15\n",
      "0.5,0.6\n",
      "False\n",
      "True\n"
     ]
    }
   ],
   "source": [
    "# Operator overloading\n",
    "class ope:\n",
    "    def __init__(self,a,b):\n",
    "        self.x=a\n",
    "        self.y=b\n",
    "    def __add__(self,other):\n",
    "        x=self.x+other.x\n",
    "        y=self.y+other.y\n",
    "        return ope(x,y)\n",
    "    def __sub__(self,other):\n",
    "        x=self.x-other.x\n",
    "        y=self.y-other.y\n",
    "        return ope(x,y)\n",
    "    def __mul__(self,other):\n",
    "        x=self.x*other.x\n",
    "        y=self.y*other.y\n",
    "        return ope(x,y)\n",
    "    def __truediv__(self,other):\n",
    "        x=self.x/other.x\n",
    "        y=self.y/other.y\n",
    "        return ope(x,y)\n",
    "    def __eq__(self,other):\n",
    "        return self.x==self.y and other.x==other.y\n",
    "    def __lt__(self,other):\n",
    "        return self.x<other.x and self.y<other.y\n",
    "    def __repr__(self):\n",
    "        return f\"{self.x},{self.y}\"\n",
    "c1=ope(2,3)\n",
    "c2=ope(4,5)\n",
    "print(c1+c2)\n",
    "print(c1-c2)\n",
    "print(c1*c2)\n",
    "print(c1/c2)\n",
    "print(c1==c2)\n",
    "print(c1<c2)"
   ]
  },
  {
   "cell_type": "code",
   "execution_count": null,
   "id": "43d65baf",
   "metadata": {},
   "outputs": [],
   "source": []
  }
 ],
 "metadata": {
  "kernelspec": {
   "display_name": "Python 3 (ipykernel)",
   "language": "python",
   "name": "python3"
  },
  "language_info": {
   "codemirror_mode": {
    "name": "ipython",
    "version": 3
   },
   "file_extension": ".py",
   "mimetype": "text/x-python",
   "name": "python",
   "nbconvert_exporter": "python",
   "pygments_lexer": "ipython3",
   "version": "3.11.2"
  }
 },
 "nbformat": 4,
 "nbformat_minor": 5
}
