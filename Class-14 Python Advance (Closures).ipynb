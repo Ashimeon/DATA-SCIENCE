{
 "cells": [
  {
   "cell_type": "code",
   "execution_count": 1,
   "id": "5af03aa8",
   "metadata": {},
   "outputs": [],
   "source": [
    "def so(a,b):\n",
    "    return a+b"
   ]
  },
  {
   "cell_type": "code",
   "execution_count": 2,
   "id": "25021518",
   "metadata": {},
   "outputs": [
    {
     "data": {
      "text/plain": [
       "5"
      ]
     },
     "execution_count": 2,
     "metadata": {},
     "output_type": "execute_result"
    }
   ],
   "source": [
    "so(2,3)"
   ]
  },
  {
   "cell_type": "code",
   "execution_count": 1,
   "id": "9d02acbc",
   "metadata": {},
   "outputs": [],
   "source": [
    "def outer(x):\n",
    "    def inner(y):\n",
    "        return x+y\n",
    "    return inner"
   ]
  },
  {
   "cell_type": "code",
   "execution_count": 7,
   "id": "85cb8344",
   "metadata": {},
   "outputs": [
    {
     "name": "stdout",
     "output_type": "stream",
     "text": [
      "<function outer.<locals>.inner at 0x000000EFDA5E76A0>\n",
      "<class 'function'>\n"
     ]
    },
    {
     "data": {
      "text/plain": [
       "7"
      ]
     },
     "execution_count": 7,
     "metadata": {},
     "output_type": "execute_result"
    }
   ],
   "source": [
    "a=outer(5)\n",
    "print(a)\n",
    "print(type(a))\n",
    "b=a(2)\n",
    "b"
   ]
  },
  {
   "cell_type": "code",
   "execution_count": 8,
   "id": "cfd18875",
   "metadata": {},
   "outputs": [
    {
     "name": "stdout",
     "output_type": "stream",
     "text": [
      "6\n"
     ]
    }
   ],
   "source": [
    "def outer(a):\n",
    "    def inner(b):\n",
    "        def core(c):\n",
    "            return a+b+c\n",
    "        return core\n",
    "    return inner\n",
    "x=outer(1)\n",
    "y=x(2)\n",
    "z=y(3)\n",
    "print(z)"
   ]
  },
  {
   "cell_type": "code",
   "execution_count": 9,
   "id": "83694b27",
   "metadata": {},
   "outputs": [
    {
     "name": "stdout",
     "output_type": "stream",
     "text": [
      "5\n",
      "7\n"
     ]
    }
   ],
   "source": [
    "def outer(x):\n",
    "    def inner(y):\n",
    "        return y+x\n",
    "    def inner2(z):\n",
    "        return z+x\n",
    "    return inner,inner2\n",
    "a,b=outer(2)\n",
    "print(a(3))\n",
    "print(b(5))\n",
    "# print(a,b)"
   ]
  },
  {
   "cell_type": "code",
   "execution_count": 9,
   "id": "fd75ce08",
   "metadata": {},
   "outputs": [],
   "source": [
    "def coun():\n",
    "    c=0\n",
    "    def inner():\n",
    "        nonlocal c\n",
    "        c += 1\n",
    "        return c\n",
    "    return inner"
   ]
  },
  {
   "cell_type": "code",
   "execution_count": 10,
   "id": "c10641e4",
   "metadata": {},
   "outputs": [
    {
     "name": "stdout",
     "output_type": "stream",
     "text": [
      "1\n",
      "2\n",
      "\n",
      "1\n",
      "2\n"
     ]
    }
   ],
   "source": [
    "c1=coun()\n",
    "print(c1())\n",
    "print(c1())\n",
    "print()\n",
    "c2=coun()\n",
    "print(c2())\n",
    "print(c2())"
   ]
  },
  {
   "cell_type": "code",
   "execution_count": 7,
   "id": "e553a0f7",
   "metadata": {},
   "outputs": [
    {
     "name": "stdout",
     "output_type": "stream",
     "text": [
      "9\n"
     ]
    }
   ],
   "source": [
    "x=2\n",
    "def af(a):\n",
    "    h=9\n",
    "    def fa(b):\n",
    "        nonlocal h\n",
    "        print(h)\n",
    "    return fa\n",
    "m=af(4)\n",
    "n=m(6)\n",
    "n"
   ]
  },
  {
   "cell_type": "code",
   "execution_count": null,
   "id": "1ff9e4b4",
   "metadata": {},
   "outputs": [],
   "source": [
    "def abc(x):\n",
    "    def ab(m):\n",
    "        return x+m\n",
    "    def bc(n):\n",
    "        return x+n\n",
    "    return ab,bc\n",
    "j,k=abc(7)"
   ]
  }
 ],
 "metadata": {
  "kernelspec": {
   "display_name": "Python 3 (ipykernel)",
   "language": "python",
   "name": "python3"
  },
  "language_info": {
   "codemirror_mode": {
    "name": "ipython",
    "version": 3
   },
   "file_extension": ".py",
   "mimetype": "text/x-python",
   "name": "python",
   "nbconvert_exporter": "python",
   "pygments_lexer": "ipython3",
   "version": "3.11.2"
  }
 },
 "nbformat": 4,
 "nbformat_minor": 5
}
