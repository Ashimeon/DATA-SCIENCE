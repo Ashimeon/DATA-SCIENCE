{
 "cells": [
  {
   "cell_type": "code",
   "execution_count": 1,
   "id": "0f432616",
   "metadata": {},
   "outputs": [],
   "source": [
    "# Assignment"
   ]
  },
  {
   "cell_type": "markdown",
   "id": "d65dcec6",
   "metadata": {},
   "source": [
    "# 1."
   ]
  },
  {
   "cell_type": "code",
   "execution_count": 2,
   "id": "7bfdf154",
   "metadata": {},
   "outputs": [
    {
     "data": {
      "text/latex": [
       "$\\displaystyle \\frac{n x^{n}}{x}$"
      ],
      "text/plain": [
       "n*x**n/x"
      ]
     },
     "execution_count": 2,
     "metadata": {},
     "output_type": "execute_result"
    }
   ],
   "source": [
    "import sympy as sp\n",
    "x=sp.symbols('x')\n",
    "n=sp.symbols('n')\n",
    "f=x**n\n",
    "dfdx=sp.diff(f,x)\n",
    "dfdx"
   ]
  },
  {
   "cell_type": "code",
   "execution_count": 32,
   "id": "f7edb702",
   "metadata": {},
   "outputs": [
    {
     "name": "stdout",
     "output_type": "stream",
     "text": [
      "x**n\n"
     ]
    },
    {
     "data": {
      "text/latex": [
       "$\\displaystyle n x^{n - 1}$"
      ],
      "text/plain": [
       "n*x**(n - 1)"
      ]
     },
     "execution_count": 32,
     "metadata": {},
     "output_type": "execute_result"
    }
   ],
   "source": [
    "import numpy as np\n",
    "def func(x,n):\n",
    "    return x**n\n",
    "\n",
    "def deri(x,n):\n",
    "    dfdx=n*(x**(n-1))\n",
    "    return dfdx\n",
    "\n",
    "print(func(x,n))\n",
    "deri(x,n)"
   ]
  },
  {
   "cell_type": "markdown",
   "id": "9a8ad8c1",
   "metadata": {},
   "source": [
    "# 2."
   ]
  },
  {
   "cell_type": "code",
   "execution_count": 4,
   "id": "0e388ab0",
   "metadata": {},
   "outputs": [
    {
     "data": {
      "text/latex": [
       "$\\displaystyle \\cos{\\left(x \\right)}$"
      ],
      "text/plain": [
       "cos(x)"
      ]
     },
     "execution_count": 4,
     "metadata": {},
     "output_type": "execute_result"
    }
   ],
   "source": [
    "x=sp.symbols(\"x\")\n",
    "f=sp.sin(x)\n",
    "dfdx=sp.diff(f,x)\n",
    "dfdx"
   ]
  },
  {
   "cell_type": "code",
   "execution_count": 5,
   "id": "0a05d5a1",
   "metadata": {},
   "outputs": [
    {
     "name": "stdout",
     "output_type": "stream",
     "text": [
      "-0.9880316240928618\n"
     ]
    },
    {
     "data": {
      "text/plain": [
       "8.837957062332283"
      ]
     },
     "execution_count": 5,
     "metadata": {},
     "output_type": "execute_result"
    }
   ],
   "source": [
    "import math\n",
    "\n",
    "def func(x):\n",
    "    return math.sin(x)\n",
    "def dfdx(x):\n",
    "    a=math.cos(x)\n",
    "    return math.degrees(a)\n",
    "\n",
    "print(func(30))\n",
    "dfdx(30)"
   ]
  },
  {
   "cell_type": "code",
   "execution_count": 6,
   "id": "82f37e7b",
   "metadata": {},
   "outputs": [
    {
     "data": {
      "text/latex": [
       "$\\displaystyle \\tan^{2}{\\left(x \\right)} + 1$"
      ],
      "text/plain": [
       "tan(x)**2 + 1"
      ]
     },
     "execution_count": 6,
     "metadata": {},
     "output_type": "execute_result"
    }
   ],
   "source": [
    "x=sp.symbols(\"x\")\n",
    "f=sp.tan(x)\n",
    "dfdx=sp.diff(f,x)\n",
    "dfdx"
   ]
  },
  {
   "cell_type": "code",
   "execution_count": 7,
   "id": "fa6e6e3e",
   "metadata": {},
   "outputs": [
    {
     "name": "stdout",
     "output_type": "stream",
     "text": [
      "1.6197751905438615\n"
     ]
    },
    {
     "data": {
      "text/plain": [
       "207.62109291188204"
      ]
     },
     "execution_count": 7,
     "metadata": {},
     "output_type": "execute_result"
    }
   ],
   "source": [
    "def func(x):\n",
    "    return math.tan(x)\n",
    "def dfdx(x):\n",
    "    return math.degrees(math.tan(x)**2+1)\n",
    "print(func(45))\n",
    "dfdx(45)"
   ]
  },
  {
   "cell_type": "markdown",
   "id": "1f66e375",
   "metadata": {},
   "source": [
    "# 3."
   ]
  },
  {
   "cell_type": "code",
   "execution_count": 21,
   "id": "2dfe51b7",
   "metadata": {},
   "outputs": [
    {
     "data": {
      "text/latex": [
       "$\\displaystyle \\frac{1}{x}$"
      ],
      "text/plain": [
       "1/x"
      ]
     },
     "execution_count": 21,
     "metadata": {},
     "output_type": "execute_result"
    }
   ],
   "source": [
    "a,x=sp.symbols('a x') # a=sp.symbols('a', positive=True, real= True)\n",
    "f= sp.ln(a*x)\n",
    "dfdx=sp.diff(f,x)\n",
    "dfdx"
   ]
  },
  {
   "cell_type": "code",
   "execution_count": 25,
   "id": "c6eb3d25",
   "metadata": {},
   "outputs": [
    {
     "name": "stdout",
     "output_type": "stream",
     "text": [
      "1.791759469228055\n"
     ]
    },
    {
     "data": {
      "text/plain": [
       "0.6666666666666666"
      ]
     },
     "execution_count": 25,
     "metadata": {},
     "output_type": "execute_result"
    }
   ],
   "source": [
    "def func(a,x):\n",
    "    return math.log(a*x)\n",
    "def dfdx(a,x):\n",
    "    return a*(1/x)\n",
    "print(func(2,3))\n",
    "dfdx(2,3)"
   ]
  },
  {
   "cell_type": "code",
   "execution_count": 19,
   "id": "de65f970",
   "metadata": {},
   "outputs": [
    {
     "data": {
      "text/latex": [
       "$\\displaystyle a e^{a x}$"
      ],
      "text/plain": [
       "a*exp(a*x)"
      ]
     },
     "execution_count": 19,
     "metadata": {},
     "output_type": "execute_result"
    }
   ],
   "source": [
    "a,x =sp.symbols('a x')\n",
    "f=sp.exp(a*x)\n",
    "dfdx=sp.diff(f,x)\n",
    "dfdx"
   ]
  },
  {
   "cell_type": "code",
   "execution_count": 28,
   "id": "7e39a178",
   "metadata": {},
   "outputs": [
    {
     "name": "stdout",
     "output_type": "stream",
     "text": [
      "403.4287934927351\n"
     ]
    },
    {
     "data": {
      "text/plain": [
       "806.8575869854702"
      ]
     },
     "execution_count": 28,
     "metadata": {},
     "output_type": "execute_result"
    }
   ],
   "source": [
    "def func(a,x):\n",
    "    return math.exp(a*x)\n",
    "def dfdx(a,x):\n",
    "    return a*math.exp(a*x)\n",
    "print(func(2,3))\n",
    "dfdx(2,3)"
   ]
  },
  {
   "cell_type": "code",
   "execution_count": 20,
   "id": "76e1cf67",
   "metadata": {},
   "outputs": [
    {
     "data": {
      "text/latex": [
       "$\\displaystyle a e^{a x} \\log{\\left(a x \\right)} + \\frac{e^{a x}}{x}$"
      ],
      "text/plain": [
       "a*exp(a*x)*log(a*x) + exp(a*x)/x"
      ]
     },
     "execution_count": 20,
     "metadata": {},
     "output_type": "execute_result"
    }
   ],
   "source": [
    "a,x =sp.symbols('a x')\n",
    "f=sp.ln(a*x)*sp.exp(a*x)\n",
    "dfdx=sp.diff(f,x)\n",
    "dfdx"
   ]
  },
  {
   "cell_type": "code",
   "execution_count": 29,
   "id": "e369ebb7",
   "metadata": {},
   "outputs": [
    {
     "name": "stdout",
     "output_type": "stream",
     "text": [
      "722.8473608998577\n"
     ]
    },
    {
     "data": {
      "text/plain": [
       "1580.1709862972937"
      ]
     },
     "execution_count": 29,
     "metadata": {},
     "output_type": "execute_result"
    }
   ],
   "source": [
    "def func(a,x):\n",
    "    return math.log(a*x)*math.exp(a*x)\n",
    "def dfdx(a,x):\n",
    "    return (math.exp(a*x))/x+a*math.exp(a*x)*math.log(a*x)\n",
    "print(func(2,3))\n",
    "dfdx(2,3)"
   ]
  },
  {
   "cell_type": "markdown",
   "id": "2988fa95",
   "metadata": {},
   "source": [
    "# 4."
   ]
  },
  {
   "cell_type": "code",
   "execution_count": 34,
   "id": "935d9868",
   "metadata": {},
   "outputs": [
    {
     "data": {
      "text/latex": [
       "$\\displaystyle \\frac{d}{d x} g{\\left(x \\right)} + \\frac{d}{d x} h{\\left(x \\right)}$"
      ],
      "text/plain": [
       "Derivative(g(x), x) + Derivative(h(x), x)"
      ]
     },
     "execution_count": 34,
     "metadata": {},
     "output_type": "execute_result"
    }
   ],
   "source": [
    "# Functions:\n",
    "g=sp.Function('g')(x)\n",
    "h=sp.Function('h')(x)\n",
    "f=g+h\n",
    "dfdx=sp.diff(f,x)\n",
    "dfdx"
   ]
  },
  {
   "cell_type": "code",
   "execution_count": 35,
   "id": "8c693bf9",
   "metadata": {},
   "outputs": [
    {
     "data": {
      "text/plain": [
       "395"
      ]
     },
     "execution_count": 35,
     "metadata": {},
     "output_type": "execute_result"
    }
   ],
   "source": [
    "def func1(x):\n",
    "    return 2*x**2\n",
    "def func2(x):\n",
    "    return 5*x**3\n",
    "def dfdx(x):\n",
    "    return 4*x+15*x**2\n",
    "dfdx(5)"
   ]
  },
  {
   "cell_type": "code",
   "execution_count": 36,
   "id": "a11661b5",
   "metadata": {},
   "outputs": [
    {
     "data": {
      "text/latex": [
       "$\\displaystyle g{\\left(x \\right)} \\frac{d}{d x} h{\\left(x \\right)} + h{\\left(x \\right)} \\frac{d}{d x} g{\\left(x \\right)}$"
      ],
      "text/plain": [
       "g(x)*Derivative(h(x), x) + h(x)*Derivative(g(x), x)"
      ]
     },
     "execution_count": 36,
     "metadata": {},
     "output_type": "execute_result"
    }
   ],
   "source": [
    "# Functions:\n",
    "g=sp.Function('g')(x)\n",
    "h=sp.Function('h')(x)\n",
    "f=g*h\n",
    "dfdx=sp.diff(f,x)\n",
    "dfdx"
   ]
  },
  {
   "cell_type": "code",
   "execution_count": 37,
   "id": "14b92f18",
   "metadata": {},
   "outputs": [
    {
     "data": {
      "text/plain": [
       "31250"
      ]
     },
     "execution_count": 37,
     "metadata": {},
     "output_type": "execute_result"
    }
   ],
   "source": [
    "def func1(x):\n",
    "    return 2*x**2\n",
    "def func2(x):\n",
    "    return 5*x**3\n",
    "def dfdx(x):\n",
    "    return 2*x**2*(15*x**2)+5*x**3*(4*x)\n",
    "dfdx(5)"
   ]
  },
  {
   "cell_type": "code",
   "execution_count": 38,
   "id": "d5a9de5e",
   "metadata": {},
   "outputs": [
    {
     "data": {
      "text/latex": [
       "$\\displaystyle - \\frac{g{\\left(x \\right)} \\frac{d}{d x} h{\\left(x \\right)}}{h^{2}{\\left(x \\right)}} + \\frac{\\frac{d}{d x} g{\\left(x \\right)}}{h{\\left(x \\right)}}$"
      ],
      "text/plain": [
       "-g(x)*Derivative(h(x), x)/h(x)**2 + Derivative(g(x), x)/h(x)"
      ]
     },
     "execution_count": 38,
     "metadata": {},
     "output_type": "execute_result"
    }
   ],
   "source": [
    "# Functions:\n",
    "g=sp.Function('g')(x)\n",
    "h=sp.Function('h')(x)\n",
    "f=g/h\n",
    "dfdx=sp.diff(f,x)\n",
    "dfdx"
   ]
  },
  {
   "cell_type": "code",
   "execution_count": 39,
   "id": "1e407c75",
   "metadata": {},
   "outputs": [
    {
     "data": {
      "text/plain": [
       "-0.016"
      ]
     },
     "execution_count": 39,
     "metadata": {},
     "output_type": "execute_result"
    }
   ],
   "source": [
    "def func1(x):\n",
    "    return 2*x**2\n",
    "def func2(x):\n",
    "    return 5*x**3\n",
    "def dfdx(x):\n",
    "    return ((5*x**3*(4*x))-(2*x**2*(15*x**2)))/((5*x**3)**2)\n",
    "dfdx(5)"
   ]
  },
  {
   "cell_type": "markdown",
   "id": "a208e787",
   "metadata": {},
   "source": [
    "# 5."
   ]
  },
  {
   "cell_type": "code",
   "execution_count": 41,
   "id": "81bb5a8d",
   "metadata": {},
   "outputs": [
    {
     "data": {
      "text/latex": [
       "$\\displaystyle \\frac{d}{d h{\\left(x \\right)}} g{\\left(h{\\left(x \\right)} \\right)} \\frac{d}{d x} h{\\left(x \\right)}$"
      ],
      "text/plain": [
       "Derivative(g(h(x)), h(x))*Derivative(h(x), x)"
      ]
     },
     "execution_count": 41,
     "metadata": {},
     "output_type": "execute_result"
    }
   ],
   "source": [
    "# Functions:\n",
    "g=sp.Function('g')(x)\n",
    "h=sp.Function('h')(x)\n",
    "f=g.subs(x,h)\n",
    "dfdx=sp.diff(f,x)\n",
    "dfdx"
   ]
  },
  {
   "cell_type": "code",
   "execution_count": 42,
   "id": "0554943b",
   "metadata": {},
   "outputs": [
    {
     "data": {
      "text/plain": [
       "150"
      ]
     },
     "execution_count": 42,
     "metadata": {},
     "output_type": "execute_result"
    }
   ],
   "source": [
    "def func1(x):\n",
    "    return 2*x**3\n",
    "def func2(x):\n",
    "    return x**3\n",
    "def dfdx(x):\n",
    "    return 2*(3*x**2)\n",
    "dfdx(5)"
   ]
  },
  {
   "cell_type": "code",
   "execution_count": null,
   "id": "4cbf366a",
   "metadata": {},
   "outputs": [],
   "source": []
  }
 ],
 "metadata": {
  "kernelspec": {
   "display_name": "Python 3 (ipykernel)",
   "language": "python",
   "name": "python3"
  },
  "language_info": {
   "codemirror_mode": {
    "name": "ipython",
    "version": 3
   },
   "file_extension": ".py",
   "mimetype": "text/x-python",
   "name": "python",
   "nbconvert_exporter": "python",
   "pygments_lexer": "ipython3",
   "version": "3.11.2"
  }
 },
 "nbformat": 4,
 "nbformat_minor": 5
}
