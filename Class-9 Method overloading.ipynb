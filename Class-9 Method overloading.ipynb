{
 "cells": [
  {
   "cell_type": "markdown",
   "id": "2a688cef",
   "metadata": {},
   "source": [
    "# Method Overloading"
   ]
  },
  {
   "cell_type": "code",
   "execution_count": 1,
   "id": "8213c7b5",
   "metadata": {},
   "outputs": [],
   "source": [
    "# within same class if multiple method of same name is used for more data types or \n",
    "# more attributes then called method overloading which is avoided in python"
   ]
  },
  {
   "cell_type": "code",
   "execution_count": 20,
   "id": "d60090e2",
   "metadata": {},
   "outputs": [],
   "source": [
    "class example:\n",
    "    def add(self,*args):\n",
    "        if len(args)==1:\n",
    "            return args[0]\n",
    "        elif len(args)==2:\n",
    "            return args[0]+args[1]\n",
    "        elif len(args)==3:\n",
    "            return args[0]+args[1]+args[2]\n"
   ]
  },
  {
   "cell_type": "code",
   "execution_count": 22,
   "id": "d6309956",
   "metadata": {},
   "outputs": [
    {
     "name": "stdout",
     "output_type": "stream",
     "text": [
      "None\n"
     ]
    }
   ],
   "source": [
    "e1=example()\n",
    "b=e1.add(1,2,3,4)\n",
    "print(b)"
   ]
  },
  {
   "cell_type": "code",
   "execution_count": 15,
   "id": "ba99d37d",
   "metadata": {},
   "outputs": [],
   "source": [
    "class exa:      #Static method if removed self\n",
    "    def add(self,a,b=None,c=None):\n",
    "        if b is not None and c is not None:\n",
    "            return a+b+c\n",
    "        elif b is not None:\n",
    "            return a+b\n",
    "        else:\n",
    "            return a"
   ]
  },
  {
   "cell_type": "code",
   "execution_count": 19,
   "id": "83c1c03d",
   "metadata": {},
   "outputs": [
    {
     "data": {
      "text/plain": [
       "6"
      ]
     },
     "execution_count": 19,
     "metadata": {},
     "output_type": "execute_result"
    }
   ],
   "source": [
    "e2=exa()\n",
    "e2.add(1,2,3)"
   ]
  },
  {
   "cell_type": "markdown",
   "id": "c38fe92b",
   "metadata": {},
   "source": [
    "# Inheritance"
   ]
  },
  {
   "cell_type": "code",
   "execution_count": 35,
   "id": "bece98fa",
   "metadata": {},
   "outputs": [
    {
     "name": "stdout",
     "output_type": "stream",
     "text": [
      "animal type is reptile\n"
     ]
    }
   ],
   "source": [
    "class animal:\n",
    "    def __init__(self,typee):\n",
    "        self.type=typee\n",
    "    def word(self):\n",
    "        print(f\"animal type is {self.type}\")\n",
    "\n",
    "class cat(animal):\n",
    "    def __init__(self,name,typee):\n",
    "        super().__init__(typee)\n",
    "        self.name=name\n",
    "    def word2(self):\n",
    "        print(f\"{self.type} has {self.name}\")\n",
    "\n",
    "a1=animal(\"reptile\")\n",
    "a1.word()"
   ]
  },
  {
   "cell_type": "code",
   "execution_count": 37,
   "id": "a80dd05e",
   "metadata": {},
   "outputs": [
    {
     "name": "stdout",
     "output_type": "stream",
     "text": [
      "leo has mammal\n"
     ]
    }
   ],
   "source": [
    "a2=cat(\"mammal\",\"leo\")\n",
    "a2.word2()"
   ]
  },
  {
   "cell_type": "code",
   "execution_count": 82,
   "id": "eaee8ed8",
   "metadata": {},
   "outputs": [],
   "source": [
    "class animal:\n",
    "    def __init__(self,name=\"ramu\",age=8):\n",
    "        self.name=name\n",
    "        self.age=age\n",
    "        \n",
    "    def intro(self):\n",
    "        print(f\"animal type is {self.name} of age {self.age}\")\n",
    "\n",
    "class cat(animal):\n",
    "    def __init__(self,name,age,color):     # if called in init function value is input\n",
    "        super().__init__(name,age=88)      # if called in super, takes value of super as default than input because its the recent call\n",
    "        self.color=color\n",
    "    def speak(self):\n",
    "        print(f\"{self.name} has {self.color}\")"
   ]
  },
  {
   "cell_type": "code",
   "execution_count": 83,
   "id": "f9b7adee",
   "metadata": {},
   "outputs": [
    {
     "name": "stdout",
     "output_type": "stream",
     "text": [
      "hary\n",
      "88\n",
      "black\n",
      "hary has black\n",
      "animal type is hary of age 88\n"
     ]
    }
   ],
   "source": [
    "a1=cat(\"hary\",3,\"black\")\n",
    "print(a1.name)\n",
    "print(a1.age)\n",
    "print(a1.color)\n",
    "a1.speak()\n",
    "a1.intro()"
   ]
  },
  {
   "cell_type": "code",
   "execution_count": null,
   "id": "9a55a001",
   "metadata": {},
   "outputs": [],
   "source": []
  },
  {
   "cell_type": "code",
   "execution_count": 73,
   "id": "21992644",
   "metadata": {},
   "outputs": [],
   "source": [
    "def fucn(a,b=4):   #function call takes input value rather than default\n",
    "    return a,b"
   ]
  },
  {
   "cell_type": "code",
   "execution_count": 74,
   "id": "0ffc7af8",
   "metadata": {},
   "outputs": [
    {
     "data": {
      "text/plain": [
       "(2, 3)"
      ]
     },
     "execution_count": 74,
     "metadata": {},
     "output_type": "execute_result"
    }
   ],
   "source": [
    "fucn(2,3)"
   ]
  },
  {
   "cell_type": "markdown",
   "id": "420fd7c0",
   "metadata": {},
   "source": [
    "# Multiple Inheritance"
   ]
  },
  {
   "cell_type": "code",
   "execution_count": 91,
   "id": "ce94119d",
   "metadata": {},
   "outputs": [],
   "source": [
    "class parent1:\n",
    "    def func1(self):\n",
    "        print(\"this is parent one\")\n",
    "class parent2:\n",
    "    def func2(self):\n",
    "        print(\"this is parent two\")\n",
    "class child(parent1,parent2):\n",
    "    def func3(self):\n",
    "        print (\"this is child\")"
   ]
  },
  {
   "cell_type": "code",
   "execution_count": 93,
   "id": "f6796507",
   "metadata": {},
   "outputs": [
    {
     "name": "stdout",
     "output_type": "stream",
     "text": [
      "this is child\n",
      "this is parent two\n",
      "this is parent one\n",
      "this is child\n"
     ]
    }
   ],
   "source": [
    "h1=child()\n",
    "h1.func3()\n",
    "h1.func2()\n",
    "h1.func1()\n",
    "child().func3()"
   ]
  },
  {
   "cell_type": "markdown",
   "id": "d75b47fa",
   "metadata": {},
   "source": [
    "# Multi-level Inheritance"
   ]
  },
  {
   "cell_type": "code",
   "execution_count": 97,
   "id": "64ef7ffd",
   "metadata": {},
   "outputs": [],
   "source": [
    "class grand:\n",
    "    def word1(self):\n",
    "        print(\"this is grand\")\n",
    "class fath(grand):\n",
    "    def word2(self):\n",
    "        print(\"this is fath\")\n",
    "class child(fath):\n",
    "    def word3(self):\n",
    "        print(\"this is child\")"
   ]
  },
  {
   "cell_type": "code",
   "execution_count": 98,
   "id": "9281694f",
   "metadata": {},
   "outputs": [
    {
     "name": "stdout",
     "output_type": "stream",
     "text": [
      "this is grand\n",
      "this is fath\n",
      "this is child\n"
     ]
    }
   ],
   "source": [
    "h1=child()\n",
    "h1.word1()\n",
    "h1.word2()\n",
    "h1.word3()"
   ]
  },
  {
   "cell_type": "markdown",
   "id": "1eb6a694",
   "metadata": {},
   "source": [
    "# Hierarchical Inheritance"
   ]
  },
  {
   "cell_type": "code",
   "execution_count": 105,
   "id": "d1dbca06",
   "metadata": {},
   "outputs": [],
   "source": [
    "class animal():\n",
    "    def __init__(self,name):\n",
    "        self.name=name\n",
    "    def word(self):\n",
    "        print(f\"animal name is {self.name}\")\n",
    "    def intro(self):\n",
    "        pass\n",
    "class cat(animal):\n",
    "    def word1(self):\n",
    "        print(f\"animal is cat of name {self.name}\")\n",
    "class dog(animal):\n",
    "    def word2(self):\n",
    "        print(f\"animal is dog of name {self.name}\")"
   ]
  },
  {
   "cell_type": "code",
   "execution_count": 106,
   "id": "d861638f",
   "metadata": {},
   "outputs": [
    {
     "name": "stdout",
     "output_type": "stream",
     "text": [
      "animal name is hary\n",
      "animal is dog of name hary\n",
      "animal name is yelo\n",
      "animal is cat of name yelo\n"
     ]
    }
   ],
   "source": [
    "a1=dog(\"hary\")\n",
    "a1.word()\n",
    "a1.word2()\n",
    "a2=cat(\"yelo\")\n",
    "a2.word()\n",
    "a2.word1()"
   ]
  },
  {
   "cell_type": "markdown",
   "id": "b7e7bbf0",
   "metadata": {},
   "source": [
    "# Hybrid Inheritance"
   ]
  },
  {
   "cell_type": "code",
   "execution_count": 109,
   "id": "7198e355",
   "metadata": {},
   "outputs": [],
   "source": [
    "class animal:\n",
    "    def __init__(self,name):\n",
    "        self.name=name\n",
    "    def speak(self):\n",
    "        print(f\"{self.name} is speaking\")\n",
    "class mammal(animal):\n",
    "    def __init__(self,name):\n",
    "        super().__init__(name)\n",
    "    def feed_milk(self):\n",
    "        print(f\"{self.name} is feeding milk\")\n",
    "class bird(animal):\n",
    "    def __init__(self,name):\n",
    "        super().__init__(name)\n",
    "    def fly(self):\n",
    "        print(f\"{self.name} is flying\")\n",
    "class bat(mammal,bird):\n",
    "    def __init__(self,name):\n",
    "        super().__init__(name)\n",
    "#     def word(self):\n",
    "#         print(f\"{self.name} is both\")"
   ]
  },
  {
   "cell_type": "code",
   "execution_count": 112,
   "id": "324ecd87",
   "metadata": {},
   "outputs": [
    {
     "name": "stdout",
     "output_type": "stream",
     "text": [
      "ramu is feeding milk\n",
      "ramu is flying\n",
      "ramu is speaking\n"
     ]
    }
   ],
   "source": [
    "a1=bat(\"ramu\")\n",
    "a1.feed_milk()\n",
    "a1.fly()\n",
    "a1.speak()"
   ]
  },
  {
   "cell_type": "code",
   "execution_count": null,
   "id": "09c539d0",
   "metadata": {},
   "outputs": [],
   "source": []
  }
 ],
 "metadata": {
  "kernelspec": {
   "display_name": "Python 3 (ipykernel)",
   "language": "python",
   "name": "python3"
  },
  "language_info": {
   "codemirror_mode": {
    "name": "ipython",
    "version": 3
   },
   "file_extension": ".py",
   "mimetype": "text/x-python",
   "name": "python",
   "nbconvert_exporter": "python",
   "pygments_lexer": "ipython3",
   "version": "3.11.2"
  }
 },
 "nbformat": 4,
 "nbformat_minor": 5
}
