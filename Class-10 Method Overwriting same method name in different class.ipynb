{
 "cells": [
  {
   "cell_type": "markdown",
   "id": "6fbdf2eb",
   "metadata": {},
   "source": [
    "# Class-10\n",
    "Method Overwriting\n",
    "same method name in different class"
   ]
  },
  {
   "cell_type": "code",
   "execution_count": 1,
   "id": "3bf85465",
   "metadata": {},
   "outputs": [
    {
     "name": "stdout",
     "output_type": "stream",
     "text": [
      "animal making sound\n",
      "cat making sound\n",
      "dog making sound\n"
     ]
    }
   ],
   "source": [
    "class animal:\n",
    "    def sound(self):\n",
    "        print(\"animal making sound\")\n",
    "class cat(animal):\n",
    "    def sound(self):\n",
    "        print(\"cat making sound\")\n",
    "class dog(animal):\n",
    "    def sound(self):\n",
    "        print(\"dog making sound\")\n",
    "a1=animal()\n",
    "a2=cat()\n",
    "a3=dog()\n",
    "\n",
    "a1.sound()\n",
    "a2.sound()\n",
    "a3.sound()"
   ]
  },
  {
   "cell_type": "code",
   "execution_count": 2,
   "id": "18c97f8f",
   "metadata": {},
   "outputs": [
    {
     "name": "stdout",
     "output_type": "stream",
     "text": [
      "animal making sound\n",
      "cat making sound\n",
      "dog making sound\n",
      "animal making sound\n"
     ]
    }
   ],
   "source": [
    "class animal:\n",
    "    def sound(self):\n",
    "        print(\"animal making sound\")\n",
    "class cat:\n",
    "    def sound(self):\n",
    "        print(\"cat making sound\")\n",
    "class dog(animal,cat):\n",
    "    def speak(self):\n",
    "        print(\"dog making sound\")\n",
    "a1=animal()\n",
    "a2=cat()\n",
    "a3=dog()\n",
    "\n",
    "a1.sound()\n",
    "a2.sound()\n",
    "a3.speak()\n",
    "a3.sound()"
   ]
  },
  {
   "cell_type": "code",
   "execution_count": 3,
   "id": "fa6d8c41",
   "metadata": {},
   "outputs": [],
   "source": [
    "class parent:\n",
    "    def say(self):\n",
    "        print(\"helo from parent\")\n",
    "class child(parent):\n",
    "    def say(self):\n",
    "        print(\"helo from child\")\n",
    "        super().say()   #calls the overridden method in the parent class"
   ]
  },
  {
   "cell_type": "code",
   "execution_count": 4,
   "id": "cb8bad88",
   "metadata": {},
   "outputs": [
    {
     "name": "stdout",
     "output_type": "stream",
     "text": [
      "helo from child\n",
      "helo from parent\n"
     ]
    }
   ],
   "source": [
    "o1=child()\n",
    "o1.say()"
   ]
  },
  {
   "cell_type": "markdown",
   "id": "3cffc894",
   "metadata": {},
   "source": [
    "# Encapsulation"
   ]
  },
  {
   "cell_type": "code",
   "execution_count": 15,
   "id": "6ba820c3",
   "metadata": {},
   "outputs": [],
   "source": [
    "# public/Protected method: after function definition method can be called in function call\n",
    "# private method: after function definition method cannot be called in function call \n",
    "# -(function can be called in function definition)"
   ]
  },
  {
   "cell_type": "code",
   "execution_count": 20,
   "id": "125c82b6",
   "metadata": {},
   "outputs": [],
   "source": [
    "class example:\n",
    "    def __init__(self):\n",
    "        self.public=3\n",
    "        self._protected=88\n",
    "        self.__private=7\n",
    "    def publicm(self):\n",
    "        print(\"public method\")\n",
    "        print(self.__private) #can be accessed when called within function definition\n",
    "    def _protectedm(self):\n",
    "        print(\"protected method\")\n",
    "    def __privatem(self):\n",
    "        print(\"private method\")"
   ]
  },
  {
   "cell_type": "code",
   "execution_count": 21,
   "id": "5e092982",
   "metadata": {},
   "outputs": [],
   "source": [
    "class subclass(example):\n",
    "    def __init__(self):\n",
    "        super().__init__()\n",
    "    def getpublic(self):\n",
    "        print(self.public)\n",
    "    def getprotected(self):\n",
    "        print(self._protected)\n",
    "    def getprivate(self):\n",
    "        print(self.__private)"
   ]
  },
  {
   "cell_type": "code",
   "execution_count": 22,
   "id": "ec72644c",
   "metadata": {},
   "outputs": [
    {
     "name": "stdout",
     "output_type": "stream",
     "text": [
      "3\n",
      "88\n"
     ]
    },
    {
     "ename": "AttributeError",
     "evalue": "'subclass' object has no attribute '_subclass__private'",
     "output_type": "error",
     "traceback": [
      "\u001b[1;31m---------------------------------------------------------------------------\u001b[0m",
      "\u001b[1;31mAttributeError\u001b[0m                            Traceback (most recent call last)",
      "Cell \u001b[1;32mIn[22], line 4\u001b[0m\n\u001b[0;32m      2\u001b[0m sub\u001b[38;5;241m.\u001b[39mgetpublic()\n\u001b[0;32m      3\u001b[0m sub\u001b[38;5;241m.\u001b[39mgetprotected()\n\u001b[1;32m----> 4\u001b[0m \u001b[43msub\u001b[49m\u001b[38;5;241;43m.\u001b[39;49m\u001b[43mgetprivate\u001b[49m\u001b[43m(\u001b[49m\u001b[43m)\u001b[49m \u001b[38;5;66;03m#cannot be called in child class because of \"__\"\u001b[39;00m\n",
      "Cell \u001b[1;32mIn[21], line 9\u001b[0m, in \u001b[0;36msubclass.getprivate\u001b[1;34m(self)\u001b[0m\n\u001b[0;32m      8\u001b[0m \u001b[38;5;28;01mdef\u001b[39;00m \u001b[38;5;21mgetprivate\u001b[39m(\u001b[38;5;28mself\u001b[39m):\n\u001b[1;32m----> 9\u001b[0m     \u001b[38;5;28mprint\u001b[39m(\u001b[38;5;28;43mself\u001b[39;49m\u001b[38;5;241;43m.\u001b[39;49m\u001b[43m__private\u001b[49m)\n",
      "\u001b[1;31mAttributeError\u001b[0m: 'subclass' object has no attribute '_subclass__private'"
     ]
    }
   ],
   "source": [
    "sub =subclass()\n",
    "sub.getpublic()\n",
    "sub.getprotected()\n",
    "sub.getprivate() #cannot be called in child class because of \"__\""
   ]
  },
  {
   "cell_type": "code",
   "execution_count": 23,
   "id": "ae76c7e1",
   "metadata": {},
   "outputs": [
    {
     "name": "stdout",
     "output_type": "stream",
     "text": [
      "public method\n",
      "7\n",
      "protected method\n"
     ]
    },
    {
     "ename": "AttributeError",
     "evalue": "'example' object has no attribute '__privatem'",
     "output_type": "error",
     "traceback": [
      "\u001b[1;31m---------------------------------------------------------------------------\u001b[0m",
      "\u001b[1;31mAttributeError\u001b[0m                            Traceback (most recent call last)",
      "Cell \u001b[1;32mIn[23], line 4\u001b[0m\n\u001b[0;32m      2\u001b[0m ex\u001b[38;5;241m.\u001b[39mpublicm()\n\u001b[0;32m      3\u001b[0m ex\u001b[38;5;241m.\u001b[39m_protectedm()\n\u001b[1;32m----> 4\u001b[0m \u001b[43mex\u001b[49m\u001b[38;5;241;43m.\u001b[39;49m\u001b[43m__privatem\u001b[49m() \u001b[38;5;66;03m# cannot be called in parent class\u001b[39;00m\n",
      "\u001b[1;31mAttributeError\u001b[0m: 'example' object has no attribute '__privatem'"
     ]
    }
   ],
   "source": [
    "ex=example()\n",
    "ex.publicm()\n",
    "ex._protectedm()\n",
    "ex.__privatem() # cannot be called in parent class"
   ]
  },
  {
   "cell_type": "markdown",
   "id": "5bf4bb6e",
   "metadata": {},
   "source": [
    "# Polymorphism"
   ]
  },
  {
   "cell_type": "markdown",
   "id": "f611eb22",
   "metadata": {},
   "source": [
    "### Duck Typing method"
   ]
  },
  {
   "cell_type": "code",
   "execution_count": 3,
   "id": "debd15e2",
   "metadata": {},
   "outputs": [
    {
     "name": "stdout",
     "output_type": "stream",
     "text": [
      "this is car\n",
      "this is jeep\n"
     ]
    }
   ],
   "source": [
    "class car:\n",
    "    def word(self):\n",
    "        print(\"this is car\")\n",
    "class jeep:\n",
    "    def word(self):\n",
    "        print(\"this is jeep\")\n",
    "\n",
    "def vehicle(x):\n",
    "    x.word()\n",
    "\n",
    "car=car()\n",
    "jeep=jeep()\n",
    "vehicle(car)\n",
    "vehicle(jeep)"
   ]
  },
  {
   "cell_type": "markdown",
   "id": "86e699c7",
   "metadata": {},
   "source": [
    "# Abstrction\n",
    "just a parent class that makes rule to include certain methods(area,perimeter) in child class to override"
   ]
  },
  {
   "cell_type": "code",
   "execution_count": 11,
   "id": "ad76b633",
   "metadata": {},
   "outputs": [],
   "source": [
    "from abc import ABC, abstractmethod\n",
    "\n",
    "class Shape(ABC):\n",
    "    @abstractmethod\n",
    "    def area(self):\n",
    "        pass\n",
    "    \n",
    "    @abstractmethod\n",
    "    def perimeter(self):\n",
    "        pass"
   ]
  },
  {
   "cell_type": "code",
   "execution_count": 12,
   "id": "de2bc075",
   "metadata": {},
   "outputs": [],
   "source": [
    "class Rectangle(Shape):\n",
    "    def __init__(self,width,height):\n",
    "        self.width=width\n",
    "        self.height=height\n",
    "    def area(self):\n",
    "        return self.width*self.height\n",
    "    def perimeter(self):\n",
    "        return 2*(self.width+self.height)"
   ]
  },
  {
   "cell_type": "code",
   "execution_count": 13,
   "id": "f7f2a911",
   "metadata": {},
   "outputs": [
    {
     "data": {
      "text/plain": [
       "6"
      ]
     },
     "execution_count": 13,
     "metadata": {},
     "output_type": "execute_result"
    }
   ],
   "source": [
    "rec=Rectangle(2,3)\n",
    "rec.area()\n"
   ]
  },
  {
   "cell_type": "code",
   "execution_count": 14,
   "id": "fa22b1a5",
   "metadata": {},
   "outputs": [
    {
     "data": {
      "text/plain": [
       "10"
      ]
     },
     "execution_count": 14,
     "metadata": {},
     "output_type": "execute_result"
    }
   ],
   "source": [
    "rec.perimeter()"
   ]
  },
  {
   "cell_type": "markdown",
   "id": "957997d7",
   "metadata": {},
   "source": [
    "# Design a program to control speed of a car and a bike independently. Also consider the turning phenomenon of each using stering if its a car and handle if its a bike.\n",
    "Parent Class Vehicle:\n",
    "- child 1:bike\n",
    "- child 2:car"
   ]
  },
  {
   "cell_type": "code",
   "execution_count": 15,
   "id": "176e0afc",
   "metadata": {},
   "outputs": [],
   "source": [
    "from abc import ABC, abstractmethod\n",
    "\n",
    "class Control(ABC):\n",
    "    @abstractmethod\n",
    "    def speed(self):\n",
    "        pass\n",
    "    \n",
    "    @abstractmethod\n",
    "    def steering(self):\n",
    "        pass"
   ]
  },
  {
   "cell_type": "code",
   "execution_count": 16,
   "id": "5891b397",
   "metadata": {},
   "outputs": [
    {
     "ename": "IndentationError",
     "evalue": "expected an indented block after function definition on line 13 (1736235456.py, line 15)",
     "output_type": "error",
     "traceback": [
      "\u001b[1;36m  Cell \u001b[1;32mIn[16], line 15\u001b[1;36m\u001b[0m\n\u001b[1;33m    pass\u001b[0m\n\u001b[1;37m    ^\u001b[0m\n\u001b[1;31mIndentationError\u001b[0m\u001b[1;31m:\u001b[0m expected an indented block after function definition on line 13\n"
     ]
    }
   ],
   "source": [
    "class Vehicle(Control):\n",
    "    def __init__(self,speed,steeringangle):\n",
    "        self.speed=speed\n",
    "        self.sa=steeringangle\n",
    "    def speed(self):\n",
    "        if self.speed>40:\n",
    "            print(\"drive slow\")\n",
    "    def steeringangle(self):\n",
    "        if self.sa>10 or self.sa<10:\n",
    "            print(\"control your steering\")\n",
    "\n",
    "class bike(Vehicle):\n",
    "    def __init__(self,x,y):\n",
    "        \n",
    "    pass\n",
    "class car(Vehicle):\n",
    "    pass\n",
    "\n",
    "x=input(\"enter speed\")\n",
    "y=input(\"enter steering angle\")\n",
    "b1=bike(x,y)\n",
    "c1=car(x,y)"
   ]
  },
  {
   "cell_type": "code",
   "execution_count": 17,
   "id": "bc9c8c8a",
   "metadata": {},
   "outputs": [
    {
     "name": "stdout",
     "output_type": "stream",
     "text": [
      "helo\n"
     ]
    }
   ],
   "source": [
    "print(\"helo\")"
   ]
  },
  {
   "cell_type": "code",
   "execution_count": 19,
   "id": "07e3cfa5",
   "metadata": {},
   "outputs": [
    {
     "name": "stdout",
     "output_type": "stream",
     "text": [
      "enter the vehicle type (car:c or bike:b)c\n",
      "enter car speed: 60\n",
      "enter steering angle: 29\n",
      "you are overspeed. Caution: drive slow!\n",
      "steering is good\n"
     ]
    }
   ],
   "source": [
    "class Vehicle:\n",
    "    def __init__(self,speed):\n",
    "        self.speed=speed\n",
    "class car(Vehicle):\n",
    "    def __init__(self,speed,steering):\n",
    "        super().__init__(speed)\n",
    "        self.steering=steering\n",
    "    def fast(self):\n",
    "        if self.speed>=80:\n",
    "            print(\"you are overspeed. Caution: drive slow!\")\n",
    "        else:\n",
    "            print(\"Speed is good\")\n",
    "    def turn(self):\n",
    "        if self.speed>=80 and self.steering>=360:\n",
    "            print(\"you are oversteering\")\n",
    "        elif self.speed>=80 and self.steering<=90:\n",
    "            print(\"you are understeering\")\n",
    "        else:\n",
    "            print(\"steering is good\")\n",
    "class bike(Vehicle):\n",
    "    def __init__(self,speed,handle):\n",
    "        super().__init__(speed)\n",
    "        self.handle=handle\n",
    "    def fast(self):\n",
    "        if self.speed>=40:\n",
    "            print(\"you are overspeed. Caution: drive slow!\")\n",
    "        else:\n",
    "            print(\"speed is good\")\n",
    "    def turn(self):\n",
    "        if self.speed>=40 and self.handle>=40:\n",
    "            print(\"you are oversteering\")\n",
    "        elif self.speed>=40 and self.handle<=10:\n",
    "            print(\"you are understeering\")\n",
    "        else:\n",
    "            print(\"handling is good\")\n",
    "def carr():\n",
    "    x=int(input(\"enter car speed(km/hr): \"))\n",
    "    y=int(input(\"enter steering angle: \"))\n",
    "    c=car(x,y)\n",
    "    c.fast()\n",
    "    c.turn()\n",
    "def bikee():\n",
    "    x=int(input(\"enter bike speed(km/hr): \"))\n",
    "    y=int(input(\"enter handle angle: \"))\n",
    "    b=bike(x,y)\n",
    "    b.fast()\n",
    "    b.turn()\n",
    "a=input(\"enter the vehicle type (car:c or bike:b)\")\n",
    "if a=='c':\n",
    "    carr()\n",
    "if a==\"b\":\n",
    "    bikee()\n"
   ]
  },
  {
   "cell_type": "code",
   "execution_count": null,
   "id": "8a31a08a",
   "metadata": {},
   "outputs": [],
   "source": []
  },
  {
   "cell_type": "code",
   "execution_count": null,
   "id": "053a3a0a",
   "metadata": {},
   "outputs": [],
   "source": []
  }
 ],
 "metadata": {
  "kernelspec": {
   "display_name": "Python 3 (ipykernel)",
   "language": "python",
   "name": "python3"
  },
  "language_info": {
   "codemirror_mode": {
    "name": "ipython",
    "version": 3
   },
   "file_extension": ".py",
   "mimetype": "text/x-python",
   "name": "python",
   "nbconvert_exporter": "python",
   "pygments_lexer": "ipython3",
   "version": "3.11.2"
  }
 },
 "nbformat": 4,
 "nbformat_minor": 5
}
