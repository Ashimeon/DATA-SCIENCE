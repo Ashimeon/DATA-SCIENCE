{
 "cells": [
  {
   "cell_type": "markdown",
   "id": "b9e697f3",
   "metadata": {},
   "source": [
    "# Function\n",
    "\n",
    "''' python\n",
    "def name(arg1, arg2, ...):\n",
    "    do x=(arg1+arg2)\n",
    "    return x '''\n"
   ]
  },
  {
   "cell_type": "code",
   "execution_count": 1,
   "id": "1a0c4881",
   "metadata": {},
   "outputs": [],
   "source": [
    "def square(x):\n",
    "    y=x**2\n",
    "    return y\n"
   ]
  },
  {
   "cell_type": "code",
   "execution_count": 2,
   "id": "0843471c",
   "metadata": {},
   "outputs": [
    {
     "name": "stdout",
     "output_type": "stream",
     "text": [
      "4\n"
     ]
    }
   ],
   "source": [
    "print(square(2))"
   ]
  },
  {
   "cell_type": "code",
   "execution_count": 3,
   "id": "a686fded",
   "metadata": {},
   "outputs": [],
   "source": [
    "# global variable: define outside the function\n",
    "# local variable: define inside the function"
   ]
  },
  {
   "cell_type": "code",
   "execution_count": 4,
   "id": "f7536e03",
   "metadata": {},
   "outputs": [],
   "source": [
    "def power(x,y):\n",
    "    z=x**y\n",
    "    return x,y,z\n"
   ]
  },
  {
   "cell_type": "code",
   "execution_count": 5,
   "id": "688887f4",
   "metadata": {},
   "outputs": [
    {
     "data": {
      "text/plain": [
       "(2, 3, 8)"
      ]
     },
     "execution_count": 5,
     "metadata": {},
     "output_type": "execute_result"
    }
   ],
   "source": [
    "x,y,z=power(2,3)\n",
    "x,y,z"
   ]
  },
  {
   "cell_type": "code",
   "execution_count": 6,
   "id": "5ab7ebaf",
   "metadata": {},
   "outputs": [],
   "source": [
    "def power(x=1,y=2):\n",
    "    z=x**y\n",
    "    return x,y,z"
   ]
  },
  {
   "cell_type": "code",
   "execution_count": 7,
   "id": "e2d3ead5",
   "metadata": {},
   "outputs": [
    {
     "data": {
      "text/plain": [
       "(1, 3, 1)"
      ]
     },
     "execution_count": 7,
     "metadata": {},
     "output_type": "execute_result"
    }
   ],
   "source": [
    "x,y,z=power(y=3)\n",
    "x,y,z"
   ]
  },
  {
   "cell_type": "code",
   "execution_count": 8,
   "id": "e6be9dd5",
   "metadata": {},
   "outputs": [],
   "source": [
    "def power(x=1,y=2):\n",
    "    z=x**y\n",
    "    return {'x':x,'y':y,'z':z}"
   ]
  },
  {
   "cell_type": "code",
   "execution_count": 9,
   "id": "4621384d",
   "metadata": {},
   "outputs": [
    {
     "data": {
      "text/plain": [
       "{'x': 1, 'y': 2, 'z': 1}"
      ]
     },
     "execution_count": 9,
     "metadata": {},
     "output_type": "execute_result"
    }
   ],
   "source": [
    "a=power()\n",
    "a"
   ]
  },
  {
   "cell_type": "code",
   "execution_count": 10,
   "id": "01304212",
   "metadata": {},
   "outputs": [
    {
     "data": {
      "text/plain": [
       "1"
      ]
     },
     "execution_count": 10,
     "metadata": {},
     "output_type": "execute_result"
    }
   ],
   "source": [
    "a['x']"
   ]
  },
  {
   "cell_type": "code",
   "execution_count": 11,
   "id": "8f65df41",
   "metadata": {},
   "outputs": [
    {
     "name": "stdout",
     "output_type": "stream",
     "text": [
      "x:1\n",
      "y:2\n",
      "z:1\n"
     ]
    }
   ],
   "source": [
    "for i in a:\n",
    "    print (f\"{i}:{a[i]}\")"
   ]
  },
  {
   "cell_type": "markdown",
   "id": "8e0b97ec",
   "metadata": {},
   "source": [
    "# args and kwargs"
   ]
  },
  {
   "cell_type": "code",
   "execution_count": 12,
   "id": "fde5b61e",
   "metadata": {},
   "outputs": [],
   "source": [
    "def fun(*args, **kwargs):\n",
    "    for i in args:\n",
    "        print(i)\n",
    "    for key,val in kwargs.items():\n",
    "        print (key,val)"
   ]
  },
  {
   "cell_type": "code",
   "execution_count": 23,
   "id": "6a545545",
   "metadata": {},
   "outputs": [
    {
     "name": "stdout",
     "output_type": "stream",
     "text": [
      "1\n",
      "abc\n",
      "name vrit\n",
      "address lalitpur\n"
     ]
    }
   ],
   "source": [
    "fun(1,'abc',name='vrit', address='lalitpur') \n",
    "#1 and abc are positional argument...later defined...called positional because value based on position\n",
    "#name and adress are key arguement...instant defined...called key arguement because value based on key\n"
   ]
  },
  {
   "cell_type": "code",
   "execution_count": 3,
   "id": "5c2dc1db",
   "metadata": {},
   "outputs": [],
   "source": [
    "def fun2(*args):\n",
    "    sum=0\n",
    "    for i in args:\n",
    "        for j in i:\n",
    "            sum=sum+j\n",
    "        print(sum)"
   ]
  },
  {
   "cell_type": "code",
   "execution_count": 4,
   "id": "b1b0e7b0",
   "metadata": {},
   "outputs": [
    {
     "name": "stdout",
     "output_type": "stream",
     "text": [
      "6\n",
      "28\n",
      "34\n",
      "1008\n"
     ]
    }
   ],
   "source": [
    "fun2([1,2,3],(4,5,6,7),[1,1,1,1,1,1],[45,7,895,23,4])"
   ]
  },
  {
   "cell_type": "code",
   "execution_count": 5,
   "id": "22adeec1",
   "metadata": {},
   "outputs": [],
   "source": [
    "a=[1,2,3]\n",
    "b=[4,5,6,4]"
   ]
  },
  {
   "cell_type": "code",
   "execution_count": 6,
   "id": "ffa33063",
   "metadata": {},
   "outputs": [
    {
     "name": "stdout",
     "output_type": "stream",
     "text": [
      "6\n",
      "25\n"
     ]
    }
   ],
   "source": [
    "fun2(a,b)"
   ]
  },
  {
   "cell_type": "markdown",
   "id": "2b43d0ec",
   "metadata": {},
   "source": [
    "# list Comprehension"
   ]
  },
  {
   "cell_type": "code",
   "execution_count": 24,
   "id": "130b5bb0",
   "metadata": {},
   "outputs": [
    {
     "data": {
      "text/plain": [
       "[1, 4, 9]"
      ]
     },
     "execution_count": 24,
     "metadata": {},
     "output_type": "execute_result"
    }
   ],
   "source": [
    "a=[1,2,3]\n",
    "b=[i**2 for i in a]\n",
    "b"
   ]
  },
  {
   "cell_type": "code",
   "execution_count": 30,
   "id": "2fa07f13",
   "metadata": {},
   "outputs": [
    {
     "data": {
      "text/plain": [
       "[4]"
      ]
     },
     "execution_count": 30,
     "metadata": {},
     "output_type": "execute_result"
    }
   ],
   "source": [
    "b=[i**2 for i in a if i%2==0]\n",
    "b"
   ]
  },
  {
   "cell_type": "code",
   "execution_count": null,
   "id": "091e7212",
   "metadata": {},
   "outputs": [],
   "source": []
  }
 ],
 "metadata": {
  "kernelspec": {
   "display_name": "Python 3 (ipykernel)",
   "language": "python",
   "name": "python3"
  },
  "language_info": {
   "codemirror_mode": {
    "name": "ipython",
    "version": 3
   },
   "file_extension": ".py",
   "mimetype": "text/x-python",
   "name": "python",
   "nbconvert_exporter": "python",
   "pygments_lexer": "ipython3",
   "version": "3.11.2"
  }
 },
 "nbformat": 4,
 "nbformat_minor": 5
}
