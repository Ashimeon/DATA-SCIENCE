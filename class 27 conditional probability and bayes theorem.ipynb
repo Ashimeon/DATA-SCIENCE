{
 "cells": [
  {
   "cell_type": "markdown",
   "id": "05d344c0",
   "metadata": {},
   "source": [
    "# Conditional Probability"
   ]
  },
  {
   "cell_type": "code",
   "execution_count": 3,
   "id": "4c344a93",
   "metadata": {},
   "outputs": [
    {
     "name": "stdout",
     "output_type": "stream",
     "text": [
      "P(A|B)=  0.05714285714285714\n"
     ]
    }
   ],
   "source": [
    "# probability of the ball bring one of the first two balls drawn\n",
    "pa=(2/8*1/7)+(6/8*2/7)\n",
    "# probability of ball being red\n",
    "pb=5/8\n",
    "# probability of both events A and B occuring together\n",
    "pAB=1/28\n",
    "\n",
    "# Conditional probability of A given B\n",
    "p_A_given_B=pAB/pb\n",
    "\n",
    "print(\"P(A|B)= \",p_A_given_B)"
   ]
  },
  {
   "cell_type": "markdown",
   "id": "f1503a35",
   "metadata": {},
   "source": [
    "# Bayes's Theroem"
   ]
  },
  {
   "cell_type": "code",
   "execution_count": 1,
   "id": "278efd58",
   "metadata": {},
   "outputs": [
    {
     "name": "stdout",
     "output_type": "stream",
     "text": [
      "Probability of having the disease given a positive test result:  0.3242320819112628\n"
     ]
    }
   ],
   "source": [
    "# probability of having the disease\n",
    "pa=0.01\n",
    "# Sensitivity of the test\n",
    "pb_given_a=0.95\n",
    "\n",
    "# False positive rate of the test\n",
    "pb_given_not_a=0.02\n",
    "\n",
    "# Probability of a positive test result\n",
    "p_b=(pb_given_a * pa) + (pb_given_not_a * (1-pa))\n",
    "\n",
    "# Probability of having the disease given a positive test result\n",
    "p_a_given_b=(pb_given_a * pa)/p_b\n",
    "\n",
    "print(\"Probability of having the disease given a positive test result: \",p_a_given_b)"
   ]
  },
  {
   "cell_type": "code",
   "execution_count": null,
   "id": "fcc59301",
   "metadata": {},
   "outputs": [],
   "source": []
  }
 ],
 "metadata": {
  "kernelspec": {
   "display_name": "Python 3 (ipykernel)",
   "language": "python",
   "name": "python3"
  },
  "language_info": {
   "codemirror_mode": {
    "name": "ipython",
    "version": 3
   },
   "file_extension": ".py",
   "mimetype": "text/x-python",
   "name": "python",
   "nbconvert_exporter": "python",
   "pygments_lexer": "ipython3",
   "version": "3.11.2"
  }
 },
 "nbformat": 4,
 "nbformat_minor": 5
}
