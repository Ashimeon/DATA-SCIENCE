{
 "cells": [
  {
   "cell_type": "code",
   "execution_count": 1,
   "id": "97109534",
   "metadata": {},
   "outputs": [],
   "source": [
    "import sympy as sp"
   ]
  },
  {
   "cell_type": "code",
   "execution_count": 2,
   "id": "84e890c5",
   "metadata": {},
   "outputs": [
    {
     "data": {
      "text/latex": [
       "$\\displaystyle \\cos{\\left(x \\right)}$"
      ],
      "text/plain": [
       "cos(x)"
      ]
     },
     "execution_count": 2,
     "metadata": {},
     "output_type": "execute_result"
    }
   ],
   "source": [
    "x=sp.symbols('x')\n",
    "f=sp.sin(x)\n",
    "dfdx=sp.diff(f,x)\n",
    "dfdx"
   ]
  },
  {
   "cell_type": "code",
   "execution_count": 3,
   "id": "b14fd0a6",
   "metadata": {},
   "outputs": [
    {
     "name": "stdout",
     "output_type": "stream",
     "text": [
      "-sin(x)\n"
     ]
    }
   ],
   "source": [
    "dfdx2=sp.diff(f,x,2)\n",
    "print(dfdx2)"
   ]
  },
  {
   "cell_type": "code",
   "execution_count": 4,
   "id": "1ef0f778",
   "metadata": {},
   "outputs": [
    {
     "data": {
      "text/latex": [
       "$\\displaystyle - \\sin{\\left(x \\right)}$"
      ],
      "text/plain": [
       "-sin(x)"
      ]
     },
     "execution_count": 4,
     "metadata": {},
     "output_type": "execute_result"
    }
   ],
   "source": [
    "dfdx2=sp.diff(dfdx,x)\n",
    "dfdx2"
   ]
  },
  {
   "cell_type": "markdown",
   "id": "e58048e9",
   "metadata": {},
   "source": [
    "# Implicit Differentiation"
   ]
  },
  {
   "cell_type": "code",
   "execution_count": 5,
   "id": "7e3a735c",
   "metadata": {},
   "outputs": [
    {
     "name": "stdout",
     "output_type": "stream",
     "text": [
      "-x/y\n"
     ]
    }
   ],
   "source": [
    "x,y=sp.symbols('x y')\n",
    "f=x**2 + y**2 -4\n",
    "dfdx= sp.diff(f, x)\n",
    "dfdy= sp.diff(f, y)\n",
    "dydx=-dfdx/dfdy\n",
    "print(dydx)"
   ]
  },
  {
   "cell_type": "markdown",
   "id": "cb53b050",
   "metadata": {},
   "source": [
    "# Partial Differentiation"
   ]
  },
  {
   "cell_type": "code",
   "execution_count": 6,
   "id": "b51becff",
   "metadata": {},
   "outputs": [
    {
     "name": "stdout",
     "output_type": "stream",
     "text": [
      "2*x + 3*y\n",
      "3*x + 2*y\n",
      "Partial differentiation wrt x: 8\n",
      "Partial differentiation wrt x: 7\n"
     ]
    }
   ],
   "source": [
    "x,y = sp.symbols('x y')\n",
    "# Define the function\n",
    "f=x**2 + 3*x*y +y**2\n",
    "\n",
    "# Find the partial derivatives\n",
    "dfdx=sp.diff(f,x)\n",
    "dfdy=sp.diff(f,y)\n",
    "print(dfdx)\n",
    "print(dfdy)\n",
    "\n",
    "#Evaluate the partial derivatives at a point\n",
    "point= {x:1, y:2}\n",
    "dfdxatpoint=dfdx.subs(point)\n",
    "dfdyatpoint=dfdy.subs(point)\n",
    "\n",
    "print(\"Partial differentiation wrt x:\", dfdxatpoint)\n",
    "print(\"Partial differentiation wrt x:\", dfdyatpoint)"
   ]
  },
  {
   "cell_type": "markdown",
   "id": "3e8b6a08",
   "metadata": {},
   "source": [
    "# Gradients\n",
    "slope with direction: for vectors"
   ]
  },
  {
   "cell_type": "code",
   "execution_count": 7,
   "id": "77b764f2",
   "metadata": {},
   "outputs": [],
   "source": [
    "# define function\n",
    "import numpy as np\n",
    "def f(x,y):\n",
    "    return x**2 + 2*y\n",
    "\n",
    "# Compute the gradients\n",
    "def gradient (x,y):\n",
    "    dfdx=2*x\n",
    "    dfdy=2\n",
    "    return np.array([dfdx,dfdy])"
   ]
  },
  {
   "cell_type": "code",
   "execution_count": 8,
   "id": "82ff132e",
   "metadata": {},
   "outputs": [
    {
     "name": "stdout",
     "output_type": "stream",
     "text": [
      "[4 2]\n"
     ]
    }
   ],
   "source": [
    "# Test the gradients\n",
    "x=2\n",
    "y=3\n",
    "grads=gradient(x,y)\n",
    "\n",
    "print(grads)"
   ]
  },
  {
   "cell_type": "code",
   "execution_count": null,
   "id": "833e284f",
   "metadata": {},
   "outputs": [],
   "source": []
  },
  {
   "cell_type": "code",
   "execution_count": 9,
   "id": "7467a4d1",
   "metadata": {},
   "outputs": [],
   "source": [
    "def gradientdescent(startingpoint,learnrate,iteration):\n",
    "    # Initialize the parameters\n",
    "    point = startingpoint\n",
    "    \n",
    "    #Iterate\n",
    "    for i in range(iteration):\n",
    "        #compute the gradient\n",
    "        grad=gradient(point[0],point[1])\n",
    "        \n",
    "        #Update the parameters\n",
    "        point=point - learnrate * grad\n",
    "    \n",
    "    return point"
   ]
  },
  {
   "cell_type": "code",
   "execution_count": 10,
   "id": "366e06d8",
   "metadata": {},
   "outputs": [
    {
     "name": "stdout",
     "output_type": "stream",
     "text": [
      "optimal point:  [ 4.07407195e-10 -1.70000000e+01]\n",
      "optimal value:  -33.99999999999995\n"
     ]
    }
   ],
   "source": [
    "# Test the gradient descent function\n",
    "startingpoint= np.array([2,3])\n",
    "learnrate=0.1\n",
    "iteration=100\n",
    "optimum=gradientdescent(startingpoint,learnrate,iteration)\n",
    "print(\"optimal point: \",optimum)\n",
    "print(\"optimal value: \", f(optimum[0],optimum[1]))"
   ]
  },
  {
   "cell_type": "code",
   "execution_count": null,
   "id": "5e9d87e2",
   "metadata": {},
   "outputs": [],
   "source": []
  }
 ],
 "metadata": {
  "kernelspec": {
   "display_name": "Python 3 (ipykernel)",
   "language": "python",
   "name": "python3"
  },
  "language_info": {
   "codemirror_mode": {
    "name": "ipython",
    "version": 3
   },
   "file_extension": ".py",
   "mimetype": "text/x-python",
   "name": "python",
   "nbconvert_exporter": "python",
   "pygments_lexer": "ipython3",
   "version": "3.11.2"
  }
 },
 "nbformat": 4,
 "nbformat_minor": 5
}
