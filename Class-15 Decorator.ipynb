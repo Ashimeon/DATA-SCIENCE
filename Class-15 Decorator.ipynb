{
 "cells": [
  {
   "cell_type": "code",
   "execution_count": 1,
   "id": "d5e9fdc2",
   "metadata": {},
   "outputs": [],
   "source": [
    "def decorator(function):\n",
    "    def wrapper():\n",
    "        print(\"first\")\n",
    "        function()\n",
    "        print(\"done\")\n",
    "    return wrapper\n",
    "@decorator\n",
    "def word():\n",
    "    print(\"hey there\")"
   ]
  },
  {
   "cell_type": "code",
   "execution_count": 2,
   "id": "9f506d0e",
   "metadata": {},
   "outputs": [
    {
     "name": "stdout",
     "output_type": "stream",
     "text": [
      "first\n",
      "hey there\n",
      "done\n"
     ]
    }
   ],
   "source": [
    "word()"
   ]
  },
  {
   "cell_type": "code",
   "execution_count": 3,
   "id": "98721556",
   "metadata": {},
   "outputs": [],
   "source": [
    "def decorator(function):\n",
    "    def wrapper():\n",
    "        print(\"first\")\n",
    "        function()\n",
    "        print(\"done\")\n",
    "        return \"finish\"\n",
    "    return wrapper\n",
    "\n",
    "@decorator\n",
    "def word():\n",
    "    print(\"hey there\")"
   ]
  },
  {
   "cell_type": "code",
   "execution_count": 4,
   "id": "9c08c4fa",
   "metadata": {},
   "outputs": [],
   "source": [
    "a=decorator(word)"
   ]
  },
  {
   "cell_type": "code",
   "execution_count": 5,
   "id": "fe812055",
   "metadata": {},
   "outputs": [
    {
     "name": "stdout",
     "output_type": "stream",
     "text": [
      "first\n",
      "first\n",
      "hey there\n",
      "done\n",
      "done\n",
      "finish\n"
     ]
    }
   ],
   "source": [
    "print(a())"
   ]
  },
  {
   "cell_type": "code",
   "execution_count": 6,
   "id": "f50ab6af",
   "metadata": {},
   "outputs": [],
   "source": [
    "# no need to pass function in decorator"
   ]
  },
  {
   "cell_type": "code",
   "execution_count": 4,
   "id": "db4f55c7",
   "metadata": {},
   "outputs": [
    {
     "name": "stdout",
     "output_type": "stream",
     "text": [
      "first\n",
      "helo hero\n",
      "done\n",
      "first\n",
      "helo hero\n",
      "done\n",
      "first\n",
      "helo hero\n",
      "done\n"
     ]
    }
   ],
   "source": [
    "def decorator(x):\n",
    "    def fun1(function):\n",
    "        def wrapper(*args,**kwargs):\n",
    "            for i in range(x):\n",
    "                print(\"first\")\n",
    "                function(*args)        # *args=:hero\n",
    "                print(\"done\")\n",
    "        return wrapper\n",
    "    return fun1\n",
    "    \n",
    "@decorator(3)\n",
    "def word(name):\n",
    "    print(f\"helo {name}\")\n",
    "word(\"hero\")"
   ]
  },
  {
   "cell_type": "markdown",
   "id": "62a28f57",
   "metadata": {},
   "source": [
    "# Property decorator"
   ]
  },
  {
   "cell_type": "markdown",
   "id": "428c3cda",
   "metadata": {},
   "source": [
    "## getter\n",
    "change method of class to attribute (person.word() -> person.word)"
   ]
  },
  {
   "cell_type": "code",
   "execution_count": 8,
   "id": "b40ba4fe",
   "metadata": {},
   "outputs": [
    {
     "name": "stdout",
     "output_type": "stream",
     "text": [
      "name is: \n",
      "don\n"
     ]
    }
   ],
   "source": [
    "class Person:\n",
    "    def __init__(self,name):\n",
    "        self.name=name\n",
    "    @property\n",
    "    def names(self):\n",
    "        print(\"name is: \")\n",
    "        return self.name\n",
    "p1=Person(\"don\")\n",
    "print(p1.names)"
   ]
  },
  {
   "cell_type": "markdown",
   "id": "46b3edcc",
   "metadata": {},
   "source": [
    "# setter"
   ]
  },
  {
   "cell_type": "code",
   "execution_count": 9,
   "id": "4625126c",
   "metadata": {},
   "outputs": [
    {
     "name": "stdout",
     "output_type": "stream",
     "text": [
      "getting name is: \n",
      "don\n",
      "setting name:\n",
      "getting name is: \n",
      "hero\n"
     ]
    }
   ],
   "source": [
    "class Person:\n",
    "    def __init__(self,name):\n",
    "        self.name=name\n",
    "    @property\n",
    "    def names(self):\n",
    "        print(\"getting name is: \")\n",
    "        return self.name\n",
    "    @names.setter\n",
    "    def names(self,value):\n",
    "        print(\"setting name:\")\n",
    "        self.name=value\n",
    "p1=Person(\"don\")\n",
    "print(p1.names)\n",
    "p1.names=\"hero\"\n",
    "print(p1.names)"
   ]
  },
  {
   "cell_type": "markdown",
   "id": "6dc7cc3d",
   "metadata": {},
   "source": [
    "# Deleter"
   ]
  },
  {
   "cell_type": "code",
   "execution_count": 10,
   "id": "d13f37ce",
   "metadata": {},
   "outputs": [
    {
     "name": "stdout",
     "output_type": "stream",
     "text": [
      "getting name is: \n",
      "don\n",
      "deleting name:\n",
      "getting name is: \n"
     ]
    },
    {
     "ename": "AttributeError",
     "evalue": "'Person' object has no attribute 'name'",
     "output_type": "error",
     "traceback": [
      "\u001b[1;31m----------------------------------------------------------------\u001b[0m",
      "\u001b[1;31mAttributeError\u001b[0m                 Traceback (most recent call last)",
      "Cell \u001b[1;32mIn[10], line 19\u001b[0m\n\u001b[0;32m     17\u001b[0m \u001b[38;5;28mprint\u001b[39m(p1\u001b[38;5;241m.\u001b[39mnames)\n\u001b[0;32m     18\u001b[0m \u001b[38;5;28;01mdel\u001b[39;00m p1\u001b[38;5;241m.\u001b[39mnames\n\u001b[1;32m---> 19\u001b[0m \u001b[38;5;28mprint\u001b[39m(\u001b[43mp1\u001b[49m\u001b[38;5;241;43m.\u001b[39;49m\u001b[43mnames\u001b[49m)\n\u001b[0;32m     20\u001b[0m \u001b[38;5;66;03m# del p1                        #destructor\u001b[39;00m\n\u001b[0;32m     21\u001b[0m \u001b[38;5;66;03m# print(p1.names)\u001b[39;00m\n",
      "Cell \u001b[1;32mIn[10], line 7\u001b[0m, in \u001b[0;36mPerson.names\u001b[1;34m(self)\u001b[0m\n\u001b[0;32m      4\u001b[0m \u001b[38;5;129m@property\u001b[39m\n\u001b[0;32m      5\u001b[0m \u001b[38;5;28;01mdef\u001b[39;00m \u001b[38;5;21mnames\u001b[39m(\u001b[38;5;28mself\u001b[39m):\n\u001b[0;32m      6\u001b[0m     \u001b[38;5;28mprint\u001b[39m(\u001b[38;5;124m\"\u001b[39m\u001b[38;5;124mgetting name is: \u001b[39m\u001b[38;5;124m\"\u001b[39m)\n\u001b[1;32m----> 7\u001b[0m     \u001b[38;5;28;01mreturn\u001b[39;00m \u001b[38;5;28;43mself\u001b[39;49m\u001b[38;5;241;43m.\u001b[39;49m\u001b[43mname\u001b[49m\n",
      "\u001b[1;31mAttributeError\u001b[0m: 'Person' object has no attribute 'name'"
     ]
    }
   ],
   "source": [
    "class Person:\n",
    "    def __init__(self,name):\n",
    "        self.name=name\n",
    "    @property\n",
    "    def names(self):\n",
    "        print(\"getting name is: \")\n",
    "        return self.name\n",
    "    @names.setter\n",
    "    def names(self,value):\n",
    "        print(\"setting name:\")\n",
    "        self.name=value\n",
    "    @names.deleter\n",
    "    def names(self):\n",
    "        print(\"deleting name:\")\n",
    "        del self.name   \n",
    "p1=Person(\"don\")\n",
    "print(p1.names)\n",
    "del p1.names\n",
    "print(p1.names)\n",
    "# del p1                        #destructor\n",
    "# print(p1.names)"
   ]
  },
  {
   "cell_type": "markdown",
   "id": "ebbfda20",
   "metadata": {},
   "source": [
    "# itterator"
   ]
  },
  {
   "cell_type": "code",
   "execution_count": 15,
   "id": "38f6c50a",
   "metadata": {},
   "outputs": [],
   "source": [
    "class Fibonacci:\n",
    "    def __init__(self,limit):\n",
    "        self.limit=limit\n",
    "        self.current=0\n",
    "        self.next=1\n",
    "    def __iter__(self):\n",
    "        return self\n",
    "    def __next__(self):\n",
    "        if self.current>=self.limit:\n",
    "            raise StopIteration\n",
    "        \n",
    "        result=self.current\n",
    "        self.current,self.next=self.next,self.current + self.next\n",
    "        return result"
   ]
  },
  {
   "cell_type": "code",
   "execution_count": 16,
   "id": "39aea136",
   "metadata": {},
   "outputs": [
    {
     "name": "stdout",
     "output_type": "stream",
     "text": [
      "0\n",
      "1\n",
      "1\n",
      "2\n",
      "3\n",
      "5\n",
      "8\n",
      "13\n",
      "21\n"
     ]
    }
   ],
   "source": [
    "fib = Fibonacci(30)\n",
    "for num in fib:\n",
    "    print(num)"
   ]
  },
  {
   "cell_type": "code",
   "execution_count": null,
   "id": "5142648b",
   "metadata": {},
   "outputs": [],
   "source": []
  }
 ],
 "metadata": {
  "kernelspec": {
   "display_name": "Python 3 (ipykernel)",
   "language": "python",
   "name": "python3"
  },
  "language_info": {
   "codemirror_mode": {
    "name": "ipython",
    "version": 3
   },
   "file_extension": ".py",
   "mimetype": "text/x-python",
   "name": "python",
   "nbconvert_exporter": "python",
   "pygments_lexer": "ipython3",
   "version": "3.11.2"
  }
 },
 "nbformat": 4,
 "nbformat_minor": 5
}
