{
 "cells": [
  {
   "cell_type": "code",
   "execution_count": 1,
   "id": "a2735c18",
   "metadata": {},
   "outputs": [],
   "source": [
    "# Difference between likelihood and probability"
   ]
  },
  {
   "cell_type": "code",
   "execution_count": 4,
   "id": "ffd93068",
   "metadata": {},
   "outputs": [],
   "source": [
    "import random\n",
    "\n",
    "# 1. random.randint(a to b)\n",
    "# 2. random.choice(list)\n",
    "# 3. random.sample(list,no.)"
   ]
  },
  {
   "cell_type": "code",
   "execution_count": 5,
   "id": "1c92eb34",
   "metadata": {},
   "outputs": [
    {
     "name": "stdout",
     "output_type": "stream",
     "text": [
      "coin flip result:  Heads\n"
     ]
    }
   ],
   "source": [
    "#Elementary events\n",
    "coin_flip=random.choice(['Heads','Tails'])\n",
    "print(\"coin flip result: \",coin_flip)"
   ]
  },
  {
   "cell_type": "code",
   "execution_count": 7,
   "id": "44e2cf5e",
   "metadata": {},
   "outputs": [
    {
     "name": "stdout",
     "output_type": "stream",
     "text": [
      "dice roll result:  6\n"
     ]
    }
   ],
   "source": [
    "dice_roll=random.randint(1,6)\n",
    "# dice_roll=random.choice([1,2,3,4,5,6])\n",
    "print(\"dice roll result: \",dice_roll)"
   ]
  },
  {
   "cell_type": "code",
   "execution_count": 12,
   "id": "fdcd2969",
   "metadata": {},
   "outputs": [
    {
     "name": "stdout",
     "output_type": "stream",
     "text": [
      "dice sum result 11\n",
      "cards drawn:  ['Ace of hearts', '7 of hearts', 'King of hearts']\n"
     ]
    }
   ],
   "source": [
    "# Compound events\n",
    "dice_sum=random.randint(1,6)+random.randint(1,6)\n",
    "print(\"dice sum result\",dice_sum)\n",
    "\n",
    "cards=['2 of hearts', '3 of hearts', '4 of hearts','5 of hearts','6 of hearts','7 of hearts','8 of hearts','9 of hearts','10 of hearts','Jack of hearts','Queen of hearts','King of hearts','Ace of hearts']\n",
    "cards_drawn=random.sample(cards,3)\n",
    "print(\"cards drawn: \",cards_drawn)"
   ]
  },
  {
   "cell_type": "code",
   "execution_count": 16,
   "id": "616439df",
   "metadata": {},
   "outputs": [
    {
     "name": "stdout",
     "output_type": "stream",
     "text": [
      "even number rolled\n"
     ]
    }
   ],
   "source": [
    "# Multually exclusive events\n",
    "dice_number=random.randint(1,6)\n",
    "if dice_number%2==0:\n",
    "    print(\"even number rolled\")\n",
    "else:\n",
    "    print(\"odd number rolled\")"
   ]
  },
  {
   "cell_type": "code",
   "execution_count": 19,
   "id": "3d3827c4",
   "metadata": {},
   "outputs": [
    {
     "name": "stdout",
     "output_type": "stream",
     "text": [
      "coin flip 1 result:  Heads\n",
      "coin flip 2 result:  Tails\n"
     ]
    }
   ],
   "source": [
    "# Independent events\n",
    "coin_flip_1=random.choice(['Heads','Tails'])\n",
    "coin_flip_2=random.choice(['Heads','Tails'])\n",
    "print(\"coin flip 1 result: \",coin_flip_1)\n",
    "print(\"coin flip 2 result: \",coin_flip_2)"
   ]
  },
  {
   "cell_type": "code",
   "execution_count": 20,
   "id": "9f38f43f",
   "metadata": {},
   "outputs": [],
   "source": [
    "# Conditional Probability"
   ]
  },
  {
   "cell_type": "code",
   "execution_count": 24,
   "id": "94928ccb",
   "metadata": {},
   "outputs": [
    {
     "name": "stdout",
     "output_type": "stream",
     "text": [
      "The selected ball is red and urn A was selected\n",
      "Probability of occuring red ball from urn a:  0.6\n",
      "Probability of occuring urn a: 1/2\n",
      "true conditional probability:  0.6\n"
     ]
    }
   ],
   "source": [
    "#Defne the urns\n",
    "urn_a=['red','red','red','blue','blue']\n",
    "urn_b=['red','blue','blue','blue','blue']\n",
    "\n",
    "#Randomly select an urn\n",
    "selected_urn=random.choice([urn_a, urn_b])\n",
    "\n",
    "# Randomly select a ball from the selected urn\n",
    "selected_ball=random.choice(selected_urn)\n",
    "\n",
    "# Check if the selected ball is red and the elected urn is urn a\n",
    "if selected_ball == 'red' and selected_urn == urn_a:\n",
    "    print(\"The selected ball is red and urn A was selected\")\n",
    "    prob=urn_a.count('red')/len(urn_a)\n",
    "    cod2=(prob*(1/2))/(1/2 )\n",
    "    print(\"Probability of occuring red ball from urn a: \",prob)\n",
    "    print(\"Probability of occuring urn a: 1/2\")\n",
    "    print(\"true conditional probability: \",cod2)\n",
    "else:\n",
    "    print(\"The selected ball is not red or urn A was not selected\")"
   ]
  },
  {
   "cell_type": "code",
   "execution_count": null,
   "id": "8bc2ef32",
   "metadata": {},
   "outputs": [],
   "source": []
  }
 ],
 "metadata": {
  "kernelspec": {
   "display_name": "Python 3 (ipykernel)",
   "language": "python",
   "name": "python3"
  },
  "language_info": {
   "codemirror_mode": {
    "name": "ipython",
    "version": 3
   },
   "file_extension": ".py",
   "mimetype": "text/x-python",
   "name": "python",
   "nbconvert_exporter": "python",
   "pygments_lexer": "ipython3",
   "version": "3.11.2"
  }
 },
 "nbformat": 4,
 "nbformat_minor": 5
}
