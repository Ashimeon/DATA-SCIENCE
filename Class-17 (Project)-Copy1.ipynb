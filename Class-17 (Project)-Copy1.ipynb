{
 "cells": [
  {
   "cell_type": "markdown",
   "id": "c5d08e70",
   "metadata": {},
   "source": [
    "# Problem Statement:\n",
    "Shopping cart:\n",
    "- adding products to the cart\n",
    "- remove products from the cart\n",
    "- calculate total cost\n",
    "- apply discount based on user\n",
    "- generate invoice"
   ]
  },
  {
   "cell_type": "code",
   "execution_count": 1,
   "id": "06a97d9f",
   "metadata": {},
   "outputs": [],
   "source": [
    "class User:\n",
    "    def __init__(self,name,premium=False):\n",
    "        self.name=name\n",
    "        self.premium=premium\n",
    "class Product:                   # how product.price is called?\n",
    "    def __init__(self,name,price):\n",
    "        self.name=name\n",
    "        self.price=price"
   ]
  },
  {
   "cell_type": "code",
   "execution_count": 2,
   "id": "7adec5a3",
   "metadata": {},
   "outputs": [],
   "source": [
    "def discount10(func):\n",
    "    def wrapper(self):            # why self?\n",
    "        total=func(self)\n",
    "        discounted=total*0.9\n",
    "        return discounted\n",
    "    return wrapper"
   ]
  },
  {
   "cell_type": "code",
   "execution_count": 3,
   "id": "b055fa30",
   "metadata": {},
   "outputs": [],
   "source": [
    "class shoppingcart:\n",
    "    def __init__(self):\n",
    "        self.products=[]\n",
    "        \n",
    "    def addproduct(self,product):\n",
    "        self.products.append(product)\n",
    "    \n",
    "    def removeproduct(self,product):\n",
    "        self.products.remove(product)\n",
    "    \n",
    "    def totalcost(self):\n",
    "        total=sum(product.price for i in self.products)\n",
    "        return total\n",
    "    \n",
    "    @discount10\n",
    "    def discountedcost(self):\n",
    "        total=sum(product.price for i in self.products)\n",
    "        return total\n",
    "    \n",
    "    def invoice(self,userr):\n",
    "        invo=f\"Invoice for {userr.name}:\\n\"\n",
    "        invo+=\"------------------------\\n\"\n",
    "        for product in self.products:\n",
    "            invo+=f\"{product.name}: ${product.price}\\n\"\n",
    "        total=self.totalcost()\n",
    "        if userr.premium:\n",
    "            invo+=\"---------------\\n\"\n",
    "            invo+=f\"sub-total: ${total}\\n\"\n",
    "            finalcost=self.discountedcost()\n",
    "            invo+=f\"discount(10%): ${total-finalcost}\\n\"\n",
    "            total=finalcost\n",
    "        invo+=\"------------------\\n\"\n",
    "        invo+=f\"total: ${total}\"\n",
    "        return invo\n",
    "    \n",
    "    def getproducts(self):\n",
    "        yield from self.products\n",
    "        #for product in self.products:\n",
    "            # yeild product\n",
    "        "
   ]
  },
  {
   "cell_type": "code",
   "execution_count": 4,
   "id": "57f7ab02",
   "metadata": {},
   "outputs": [
    {
     "name": "stdout",
     "output_type": "stream",
     "text": [
      "Product: shirt, Price: 20\n",
      "Product: pants, Price: 30\n",
      "Product: shoes, Price: 50\n"
     ]
    }
   ],
   "source": [
    "# create some products\n",
    "product1=Product(\"shirt\",20)\n",
    "product2=Product(\"pants\",30)\n",
    "product3=Product(\"shoes\",50)\n",
    "\n",
    "#create a shopping cart\n",
    "cart1=shoppingcart()\n",
    "\n",
    "#add products\n",
    "cart1.addproduct(product1)\n",
    "cart1.addproduct(product2)\n",
    "cart1.addproduct(product3)\n",
    "\n",
    "\n",
    "#use the enerator to iterate over the products\n",
    "for product in cart1.getproducts():\n",
    "    print(f\"Product: {product.name}, Price: {product.price}\")"
   ]
  },
  {
   "cell_type": "code",
   "execution_count": 5,
   "id": "cbe5a6d0",
   "metadata": {},
   "outputs": [
    {
     "name": "stdout",
     "output_type": "stream",
     "text": [
      "Product: shoe, Price: 90\n",
      "Product: glasses, Price: 80\n"
     ]
    }
   ],
   "source": [
    "# create some products\n",
    "product1=Product(\"shoe\",90)\n",
    "product2=Product(\"glasses\",80)\n",
    "\n",
    "\n",
    "#create a shopping cart\n",
    "cart2=shoppingcart()\n",
    "\n",
    "#add products\n",
    "cart2.addproduct(product1)\n",
    "cart2.addproduct(product2)\n",
    "\n",
    "#use the enerator to iterate over the products\n",
    "for product in cart2.getproducts():\n",
    "    print(f\"Product: {product.name}, Price: {product.price}\")"
   ]
  },
  {
   "cell_type": "markdown",
   "id": "4657cbcd",
   "metadata": {},
   "source": [
    "# Non Premium or Regular Users"
   ]
  },
  {
   "cell_type": "code",
   "execution_count": 6,
   "id": "09af5eea",
   "metadata": {},
   "outputs": [
    {
     "name": "stdout",
     "output_type": "stream",
     "text": [
      "Invoice for rita:\n",
      "------------------------\n",
      "shirt: $20\n",
      "pants: $30\n",
      "shoes: $50\n",
      "------------------\n",
      "total: $240\n"
     ]
    }
   ],
   "source": [
    "# Create a user\n",
    "u1=User(\"rita\",premium=False)\n",
    "\n",
    "# Generate and print the invoice\n",
    "invoice1=cart1.invoice(u1)\n",
    "print(invoice1)"
   ]
  },
  {
   "cell_type": "markdown",
   "id": "25a72a4c",
   "metadata": {},
   "source": [
    "# Premium Users"
   ]
  },
  {
   "cell_type": "code",
   "execution_count": 7,
   "id": "67c27d7e",
   "metadata": {},
   "outputs": [
    {
     "name": "stdout",
     "output_type": "stream",
     "text": [
      "Invoice for john:\n",
      "------------------------\n",
      "shoe: $90\n",
      "glasses: $80\n",
      "---------------\n",
      "sub-total: $160\n",
      "discount(10%): $16.0\n",
      "------------------\n",
      "total: $144.0\n"
     ]
    }
   ],
   "source": [
    "# Create a user\n",
    "u2=User(\"john\",premium=True)\n",
    "\n",
    "# Generate and print invoice\n",
    "invoice2=cart2.invoice(u2)\n",
    "print(invoice2)"
   ]
  },
  {
   "cell_type": "code",
   "execution_count": null,
   "id": "d7ddbb7b",
   "metadata": {},
   "outputs": [],
   "source": []
  }
 ],
 "metadata": {
  "kernelspec": {
   "display_name": "Python 3 (ipykernel)",
   "language": "python",
   "name": "python3"
  },
  "language_info": {
   "codemirror_mode": {
    "name": "ipython",
    "version": 3
   },
   "file_extension": ".py",
   "mimetype": "text/x-python",
   "name": "python",
   "nbconvert_exporter": "python",
   "pygments_lexer": "ipython3",
   "version": "3.11.2"
  }
 },
 "nbformat": 4,
 "nbformat_minor": 5
}
