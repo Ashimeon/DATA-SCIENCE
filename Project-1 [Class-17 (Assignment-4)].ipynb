{
 "cells": [
  {
   "cell_type": "markdown",
   "id": "c5d08e70",
   "metadata": {},
   "source": [
    "# Problem Statement:\n",
    "Shopping cart:\n",
    "- adding products to the cart\n",
    "- remove products from the cart\n",
    "- calculate total cost\n",
    "- apply discount based on user\n",
    "- generate invoice\n",
    "# Additional update\n",
    "1. Cart for a user should be independent from other users\n",
    "2. Add a new admin feature is_admin that takes in boolean values [True, False], and \n",
    "   only admin should be allowed to create other admins or all is_premium=True for other users"
   ]
  },
  {
   "cell_type": "code",
   "execution_count": 1,
   "id": "06a97d9f",
   "metadata": {},
   "outputs": [],
   "source": [
    "class User:\n",
    "    lists=['rita']              # initial admin\n",
    "    def __init__(self,name):\n",
    "        self.name=name\n",
    "        if self.name in self.lists:\n",
    "            self.premium=True\n",
    "        else:\n",
    "            self.premium=False\n",
    "            \n",
    "    def adding(self):\n",
    "         while 1:\n",
    "                new=input(\"want to add new admin? (y/n): \")\n",
    "                if new==\"y\":\n",
    "                    self.lists.append(input(\"enter new admin name: \"))\n",
    "                else:\n",
    "                    break\n",
    "            \n",
    "class Product:                   \n",
    "    def __init__(self,name,price):\n",
    "        self.name=name\n",
    "        self.price=price"
   ]
  },
  {
   "cell_type": "code",
   "execution_count": 2,
   "id": "7adec5a3",
   "metadata": {},
   "outputs": [],
   "source": [
    "def discount10(func):\n",
    "    def wrapper(self):            \n",
    "        total=func(self)\n",
    "        discounted=total*0.9\n",
    "        return discounted\n",
    "    return wrapper"
   ]
  },
  {
   "cell_type": "code",
   "execution_count": 3,
   "id": "b055fa30",
   "metadata": {},
   "outputs": [],
   "source": [
    "class shoppingcart:\n",
    "    def __init__(self):\n",
    "        self.products=[]\n",
    "        \n",
    "    def addproduct(self,product):\n",
    "        self.products.append(product)\n",
    "    \n",
    "    def removeproduct(self,product):\n",
    "        self.products.remove(product)\n",
    "    \n",
    "    def totalcost(self):\n",
    "        total=sum(product.price for product in self.products)\n",
    "        return total\n",
    "    \n",
    "    @discount10\n",
    "    def discountedcost(self):\n",
    "        total=sum(product.price for product in self.products)\n",
    "        return total\n",
    "    \n",
    "    def invoice(self,a):\n",
    "        invo=f\"Invoice for {a.name}:\\n\"\n",
    "        invo+=\"------------------------\\n\"\n",
    "        for product in self.products:\n",
    "            invo+=f\"{product.name}: ${product.price}\\n\"\n",
    "        total=self.totalcost()\n",
    "        if a.premium:\n",
    "            invo+=\"---------------\\n\"\n",
    "            invo+=f\"sub-total: ${total}\\n\"\n",
    "            finalcost=self.discountedcost()\n",
    "            invo+=f\"discount(10%): ${total-finalcost}\\n\"\n",
    "            total=finalcost\n",
    "            a.adding()\n",
    "        invo+=\"------------------\\n\"\n",
    "        invo+=f\"total: ${total}\"\n",
    "        return invo\n",
    "    \n",
    "    def getproducts(self):\n",
    "        yield from self.products\n",
    "        #for product in self.products:\n",
    "            # yeild product\n",
    "        "
   ]
  },
  {
   "cell_type": "code",
   "execution_count": 4,
   "id": "57f7ab02",
   "metadata": {},
   "outputs": [],
   "source": [
    "# Products available\n",
    "product1=Product(\"shirt\",20)\n",
    "product2=Product(\"pants\",30)\n",
    "product3=Product(\"shoes\",50)\n",
    "product4=Product(\"shoe\",90)\n",
    "product5=Product(\"glasses\",80)\n"
   ]
  },
  {
   "cell_type": "markdown",
   "id": "4657cbcd",
   "metadata": {},
   "source": [
    "# Admin"
   ]
  },
  {
   "cell_type": "code",
   "execution_count": 5,
   "id": "09af5eea",
   "metadata": {},
   "outputs": [
    {
     "name": "stdout",
     "output_type": "stream",
     "text": [
      "for cart1:\n",
      "\n",
      "Product: shirt, Price: 20\n",
      "Product: pants, Price: 30\n",
      "Product: shoes, Price: 50\n",
      "want to add new admin? (y/n): y\n",
      "enter new admin name: ram\n",
      "want to add new admin? (y/n): n\n",
      "Invoice for rita:\n",
      "------------------------\n",
      "shirt: $20\n",
      "pants: $30\n",
      "shoes: $50\n",
      "---------------\n",
      "sub-total: $100\n",
      "discount(10%): $10.0\n",
      "------------------\n",
      "total: $90.0\n"
     ]
    }
   ],
   "source": [
    "#created a first shopping cart\n",
    "cart1=shoppingcart()\n",
    "\n",
    "#added products\n",
    "cart1.addproduct(product1)\n",
    "cart1.addproduct(product2)\n",
    "cart1.addproduct(product3)\n",
    "\n",
    "print(\"for cart1:\\n\")\n",
    "for product in cart1.getproducts():\n",
    "    print(f\"Product: {product.name}, Price: {product.price}\")\n",
    "\n",
    "# User\n",
    "u1=User(\"rita\")\n",
    "\n",
    "# Generate and print the invoice\n",
    "invoice1=cart1.invoice(u1)\n",
    "print(invoice1)"
   ]
  },
  {
   "cell_type": "markdown",
   "id": "25a72a4c",
   "metadata": {},
   "source": [
    "# Added admin"
   ]
  },
  {
   "cell_type": "code",
   "execution_count": 6,
   "id": "67c27d7e",
   "metadata": {},
   "outputs": [
    {
     "name": "stdout",
     "output_type": "stream",
     "text": [
      "\n",
      "\n",
      "for cart2:\n",
      "\n",
      "Product: shoe, Price: 90\n",
      "Product: glasses, Price: 80\n",
      "Invoice for john:\n",
      "------------------------\n",
      "shoe: $90\n",
      "glasses: $80\n",
      "------------------\n",
      "total: $170\n"
     ]
    }
   ],
   "source": [
    "#created a second shopping cart\n",
    "cart2=shoppingcart()\n",
    "\n",
    "#added products\n",
    "cart2.addproduct(product4)\n",
    "cart2.addproduct(product5)\n",
    "\n",
    "print(\"\\n\\nfor cart2:\\n\")\n",
    "for product in cart2.getproducts():\n",
    "    print(f\"Product: {product.name}, Price: {product.price}\")\n",
    "\n",
    "# User\n",
    "u2=User(\"john\")\n",
    "\n",
    "# Generate and print invoice\n",
    "invoice2=cart2.invoice(u2)\n",
    "print(invoice2)"
   ]
  },
  {
   "cell_type": "markdown",
   "id": "8a78a2fe",
   "metadata": {},
   "source": [
    "# Ordinary customer"
   ]
  },
  {
   "cell_type": "code",
   "execution_count": 7,
   "id": "bc87fd5c",
   "metadata": {},
   "outputs": [
    {
     "name": "stdout",
     "output_type": "stream",
     "text": [
      "\n",
      "\n",
      "for cart3:\n",
      "\n",
      "Product: shirt, Price: 20\n",
      "Product: shoes, Price: 50\n",
      "Product: shoe, Price: 90\n",
      "Invoice for gita:\n",
      "------------------------\n",
      "shirt: $20\n",
      "shoes: $50\n",
      "shoe: $90\n",
      "------------------\n",
      "total: $160\n"
     ]
    }
   ],
   "source": [
    "#created a third shopping cart\n",
    "cart3=shoppingcart()\n",
    "\n",
    "#added products\n",
    "cart3.addproduct(product1)\n",
    "cart3.addproduct(product3)\n",
    "cart3.addproduct(product4)\n",
    "\n",
    "print(\"\\n\\nfor cart3:\\n\")\n",
    "for product in cart3.getproducts():\n",
    "    print(f\"Product: {product.name}, Price: {product.price}\")\n",
    "\n",
    "# User\n",
    "u2=User(\"gita\")\n",
    "\n",
    "# Generate and print invoice\n",
    "invoice3=cart3.invoice(u2)\n",
    "print(invoice3)"
   ]
  }
 ],
 "metadata": {
  "kernelspec": {
   "display_name": "Python 3 (ipykernel)",
   "language": "python",
   "name": "python3"
  },
  "language_info": {
   "codemirror_mode": {
    "name": "ipython",
    "version": 3
   },
   "file_extension": ".py",
   "mimetype": "text/x-python",
   "name": "python",
   "nbconvert_exporter": "python",
   "pygments_lexer": "ipython3",
   "version": "3.11.2"
  }
 },
 "nbformat": 4,
 "nbformat_minor": 5
}
