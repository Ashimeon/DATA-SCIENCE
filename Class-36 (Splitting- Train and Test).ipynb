{
 "cells": [
  {
   "cell_type": "markdown",
   "id": "481f88a0",
   "metadata": {},
   "source": [
    "# Feature selection based on accuracy"
   ]
  },
  {
   "cell_type": "code",
   "execution_count": 1,
   "id": "a7e8fc19",
   "metadata": {},
   "outputs": [],
   "source": [
    "from sklearn.linear_model import LogisticRegression\n",
    "from sklearn.model_selection import train_test_split\n",
    "from sklearn.datasets import make_classification"
   ]
  },
  {
   "cell_type": "code",
   "execution_count": 2,
   "id": "a5c38b61",
   "metadata": {},
   "outputs": [],
   "source": [
    "# Create custom dataset\n",
    "X, y = make_classification(n_samples=800, n_features=10, n_informative=5, n_redundant=0, random_state=90)\n",
    "\n",
    "# Split dataset into training and testing sets\n",
    "X_train, X_test, y_train, y_test = train_test_split(X, y, test_size=0.2, random_state=42)"
   ]
  },
  {
   "cell_type": "code",
   "execution_count": 3,
   "id": "bda66c90",
   "metadata": {},
   "outputs": [],
   "source": [
    "# Forward Feature Selection"
   ]
  },
  {
   "cell_type": "code",
   "execution_count": 4,
   "id": "c7dac803",
   "metadata": {},
   "outputs": [
    {
     "data": {
      "text/plain": [
       "10"
      ]
     },
     "execution_count": 4,
     "metadata": {},
     "output_type": "execute_result"
    }
   ],
   "source": [
    "X_train.shape[1]"
   ]
  },
  {
   "cell_type": "code",
   "execution_count": 5,
   "id": "91b33ba3",
   "metadata": {},
   "outputs": [
    {
     "data": {
      "text/plain": [
       "array([0, 1, 1, 0, 1, 0, 1, 1, 0, 0, 0, 1, 1, 1, 0, 0, 1, 0, 0, 0, 1, 0,\n",
       "       0, 0, 1, 0, 0, 0, 0, 1, 1, 1, 0, 1, 1, 1, 0, 0, 1, 0, 1, 1, 0, 1,\n",
       "       0, 0, 0, 0, 0, 0, 0, 1, 1, 0, 0, 0, 0, 0, 0, 0, 1, 1, 0, 0, 1, 1,\n",
       "       1, 0, 1, 0, 0, 1, 1, 1, 0, 1, 1, 0, 1, 0, 0, 0, 1, 1, 0, 1, 1, 0,\n",
       "       0, 0, 0, 1, 0, 0, 1, 0, 0, 0, 1, 1, 0, 0, 0, 1, 0, 1, 1, 1, 1, 0,\n",
       "       0, 0, 0, 0, 0, 0, 1, 1, 1, 1, 0, 1, 0, 1, 0, 1, 0, 0, 1, 0, 1, 0,\n",
       "       1, 0, 0, 1, 1, 0, 0, 0, 1, 1, 0, 1, 0, 0, 1, 1, 0, 1, 1, 1, 0, 0,\n",
       "       0, 1, 1, 0, 1, 0, 1, 0, 1, 1, 0, 0, 1, 1, 1, 0, 0, 0, 0, 1, 0, 1,\n",
       "       1, 0, 1, 1, 1, 0, 1, 1, 1, 0, 1, 1, 1, 1, 1, 0, 1, 0, 0, 0, 1, 0,\n",
       "       1, 1, 1, 1, 0, 1, 0, 1, 1, 0, 0, 1, 1, 0, 0, 1, 1, 1, 1, 1, 1, 1,\n",
       "       1, 1, 1, 1, 1, 0, 0, 0, 0, 1, 0, 0, 0, 0, 0, 1, 0, 1, 1, 1, 1, 0,\n",
       "       1, 1, 1, 1, 0, 1, 1, 0, 0, 1, 1, 1, 0, 1, 1, 1, 1, 1, 1, 0, 0, 0,\n",
       "       1, 0, 0, 1, 1, 0, 1, 0, 0, 1, 0, 0, 1, 1, 0, 0, 1, 1, 1, 1, 0, 1,\n",
       "       1, 1, 1, 0, 0, 0, 0, 0, 0, 0, 1, 1, 1, 1, 1, 0, 1, 0, 1, 1, 0, 1,\n",
       "       0, 0, 1, 0, 1, 0, 0, 1, 1, 1, 1, 0, 1, 1, 1, 0, 1, 0, 0, 1, 1, 1,\n",
       "       1, 1, 0, 0, 1, 1, 0, 1, 0, 1, 1, 1, 0, 1, 0, 1, 0, 1, 1, 1, 1, 1,\n",
       "       1, 1, 1, 0, 0, 1, 0, 1, 1, 1, 1, 0, 1, 0, 0, 1, 1, 0, 1, 1, 1, 0,\n",
       "       1, 1, 1, 0, 0, 0, 1, 0, 0, 1, 1, 0, 0, 0, 1, 1, 0, 1, 1, 1, 1, 1,\n",
       "       0, 0, 0, 0, 1, 1, 0, 1, 1, 1, 0, 1, 0, 1, 0, 1, 0, 0, 1, 1, 0, 1,\n",
       "       0, 0, 0, 1, 1, 0, 1, 0, 0, 0, 0, 1, 1, 1, 0, 0, 1, 1, 1, 0, 1, 0,\n",
       "       0, 1, 1, 0, 0, 1, 0, 1, 0, 0, 1, 0, 0, 0, 1, 1, 0, 1, 1, 0, 0, 1,\n",
       "       0, 1, 1, 1, 1, 0, 1, 1, 1, 0, 0, 1, 0, 0, 0, 0, 1, 1, 0, 1, 1, 0,\n",
       "       1, 0, 0, 0, 1, 0, 1, 0, 1, 1, 0, 0, 1, 0, 0, 1, 1, 0, 1, 1, 1, 0,\n",
       "       1, 0, 1, 0, 1, 0, 1, 1, 0, 0, 1, 0, 0, 1, 0, 0, 1, 0, 1, 1, 1, 1,\n",
       "       1, 0, 0, 0, 1, 0, 0, 1, 0, 0, 0, 1, 0, 0, 0, 0, 1, 1, 1, 1, 0, 0,\n",
       "       1, 0, 1, 1, 1, 0, 0, 0, 0, 0, 1, 0, 0, 0, 1, 0, 1, 0, 1, 0, 1, 1,\n",
       "       0, 1, 1, 1, 0, 0, 1, 1, 0, 0, 0, 0, 0, 0, 0, 0, 0, 0, 1, 1, 0, 0,\n",
       "       1, 0, 0, 0, 0, 1, 0, 0, 1, 1, 1, 0, 0, 1, 0, 0, 1, 0, 1, 1, 0, 1,\n",
       "       1, 0, 0, 1, 0, 1, 0, 0, 0, 1, 1, 0, 0, 0, 1, 0, 0, 1, 0, 1, 0, 1,\n",
       "       1, 1, 0, 0, 1, 1, 1, 1, 1, 1, 0, 0, 1, 0, 0, 1, 0, 0, 0, 1, 1, 0,\n",
       "       1, 0, 1, 0, 0, 0, 1, 0, 1, 1, 1, 0, 0, 1, 1, 1, 0, 1, 1, 0, 0, 1,\n",
       "       0, 0, 1, 1, 1, 0, 0, 1, 1, 0, 0, 0, 0, 0, 0, 1, 1, 0, 0, 0, 0, 0,\n",
       "       1, 0, 0, 1, 0, 0, 0, 0, 0, 1, 0, 1, 0, 0, 0, 0, 0, 0, 1, 0, 1, 1,\n",
       "       1, 1, 1, 0, 1, 1, 0, 1, 0, 1, 0, 0, 0, 1, 0, 1, 1, 1, 0, 0, 1, 0,\n",
       "       0, 1, 0, 1, 1, 0, 1, 1, 1, 1, 1, 1, 0, 0, 0, 0, 0, 0, 0, 1, 0, 1,\n",
       "       1, 1, 1, 0, 0, 1, 1, 1, 0, 1, 1, 0, 0, 0, 1, 0, 1, 0, 0, 1, 1, 1,\n",
       "       1, 0, 0, 0, 1, 0, 1, 0])"
      ]
     },
     "execution_count": 5,
     "metadata": {},
     "output_type": "execute_result"
    }
   ],
   "source": [
    "y"
   ]
  },
  {
   "cell_type": "code",
   "execution_count": 6,
   "id": "6f9dc0eb",
   "metadata": {},
   "outputs": [
    {
     "data": {
      "text/plain": [
       "10"
      ]
     },
     "execution_count": 6,
     "metadata": {},
     "output_type": "execute_result"
    }
   ],
   "source": [
    "X_train.shape[1]"
   ]
  },
  {
   "cell_type": "code",
   "execution_count": 7,
   "id": "46b25a6e",
   "metadata": {
    "scrolled": false
   },
   "outputs": [
    {
     "name": "stdout",
     "output_type": "stream",
     "text": [
      "Selected Features (Forward): [0] Score: 0.70625\n",
      "Selected Features (Forward): [0, 6] Score: 0.7375\n",
      "Selected Features (Forward): [0, 6, 5] Score: 0.80625\n",
      "Selected Features (Forward): [0, 6, 5, 8] Score: 0.81875\n",
      "Selected Features (Forward): [0, 6, 5, 8, 1] Score: 0.81875\n",
      "Selected Features (Forward): [0, 6, 5, 8, 1, 7] Score: 0.81875\n",
      "Selected Features (Forward): [0, 6, 5, 8, 1, 7, 2] Score: 0.81875\n",
      "Selected Features (Forward): [0, 6, 5, 8, 1, 7, 2, 3] Score: 0.81875\n",
      "Selected Features (Forward): [0, 6, 5, 8, 1, 7, 2, 3, 4] Score: 0.81875\n",
      "Selected Features (Forward): [0, 6, 5, 8, 1, 7, 2, 3, 4, 9] Score: 0.81875\n"
     ]
    }
   ],
   "source": [
    "# Implement forward feature selection\n",
    "selected_features = []\n",
    "for i in range(X_train.shape[1]):\n",
    "    best_accuracy = 0\n",
    "    best_feature = None\n",
    "    for j in range(X_train.shape[1]):\n",
    "#         print(j)\n",
    "        if j not in selected_features:\n",
    "            features = selected_features + [j] # \"+\" for temporary append\n",
    "#             print(features)\n",
    "            model = LogisticRegression()\n",
    "            model.fit(X_train[:, features], y_train)\n",
    "            accuracy = model.score(X_test[:, features], y_test)\n",
    "#             print(accuracy)\n",
    "            if accuracy > best_accuracy:\n",
    "                best_accuracy = accuracy\n",
    "                best_feature = j\n",
    "    selected_features.append(best_feature)\n",
    "    print(\"Selected Features (Forward):\", selected_features, \"Score:\", best_accuracy)"
   ]
  },
  {
   "cell_type": "code",
   "execution_count": 8,
   "id": "f7fb3b00",
   "metadata": {},
   "outputs": [],
   "source": [
    "# Backward Feature Selection"
   ]
  },
  {
   "cell_type": "code",
   "execution_count": 9,
   "id": "cc643d40",
   "metadata": {},
   "outputs": [
    {
     "data": {
      "text/plain": [
       "range(0, 10)"
      ]
     },
     "execution_count": 9,
     "metadata": {},
     "output_type": "execute_result"
    }
   ],
   "source": [
    "range(X_train.shape[1])"
   ]
  },
  {
   "cell_type": "code",
   "execution_count": 10,
   "id": "ae1156ea",
   "metadata": {},
   "outputs": [
    {
     "data": {
      "text/plain": [
       "[0, 1, 2, 3, 4, 5, 6, 7, 8, 9]"
      ]
     },
     "execution_count": 10,
     "metadata": {},
     "output_type": "execute_result"
    }
   ],
   "source": [
    "list(range(0,10))"
   ]
  },
  {
   "cell_type": "code",
   "execution_count": 11,
   "id": "c05b2cb4",
   "metadata": {},
   "outputs": [
    {
     "name": "stdout",
     "output_type": "stream",
     "text": [
      "Selected Features (Backward): [0, 1, 2, 3, 4, 5, 6, 7, 8, 9] Score: 0.81875\n",
      "Selected Features (Backward): [1, 2, 3, 4, 5, 6, 7, 8, 9] Score: 0.725\n",
      "Selected Features (Backward): [1, 2, 3, 4, 5, 6, 8, 9] Score: 0.6625\n",
      "Selected Features (Backward): [1, 2, 3, 4, 6, 8, 9] Score: 0.525\n",
      "Selected Features (Backward): [1, 2, 3, 4, 6, 9] Score: 0.4375\n",
      "Selected Features (Backward): [1, 3, 4, 6, 9] Score: 0.3875\n",
      "Selected Features (Backward): [3, 4, 6, 9] Score: 0.38125\n",
      "Selected Features (Backward): [3, 4, 6] Score: 0.39375\n",
      "Selected Features (Backward): [4, 6] Score: 0.41875\n",
      "Selected Features (Backward): [4] Score: 0.4125\n"
     ]
    }
   ],
   "source": [
    "# Implement backward feature elimination\n",
    "selected_features = list(range(X_train.shape[1]))\n",
    "model = LogisticRegression()\n",
    "model.fit(X_train[:, selected_features], y_train)\n",
    "accuracy = model.score(X_test[:, selected_features], y_test)\n",
    "print(\"Selected Features (Backward):\", selected_features, \"Score:\", accuracy)\n",
    "\n",
    "for i in range(X_train.shape[1] - 1):\n",
    "    worst_accuracy = 1\n",
    "    worst_feature = None\n",
    "    for j in selected_features:\n",
    "#         print(j)\n",
    "        features = selected_features.copy()\n",
    "#         print(features)\n",
    "        features.remove(j)\n",
    "        model = LogisticRegression()\n",
    "        model.fit(X_train[:, features], y_train)\n",
    "        accuracy = model.score(X_test[:, features], y_test)\n",
    "#         print(accuracy)\n",
    "        if accuracy < worst_accuracy:\n",
    "            worst_accuracy = accuracy\n",
    "            worst_feature = j\n",
    "    selected_features.remove(worst_feature)\n",
    "    print(\"Selected Features (Backward):\", selected_features, \"Score:\", worst_accuracy)"
   ]
  },
  {
   "cell_type": "code",
   "execution_count": null,
   "id": "9810b5e9",
   "metadata": {},
   "outputs": [],
   "source": []
  }
 ],
 "metadata": {
  "kernelspec": {
   "display_name": "Python 3 (ipykernel)",
   "language": "python",
   "name": "python3"
  },
  "language_info": {
   "codemirror_mode": {
    "name": "ipython",
    "version": 3
   },
   "file_extension": ".py",
   "mimetype": "text/x-python",
   "name": "python",
   "nbconvert_exporter": "python",
   "pygments_lexer": "ipython3",
   "version": "3.11.2"
  }
 },
 "nbformat": 4,
 "nbformat_minor": 5
}
