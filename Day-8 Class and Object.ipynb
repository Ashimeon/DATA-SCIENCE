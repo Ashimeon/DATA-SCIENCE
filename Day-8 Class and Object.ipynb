{
 "cells": [
  {
   "cell_type": "markdown",
   "id": "dd8ca4ff",
   "metadata": {},
   "source": [
    "# Classes and Objects"
   ]
  },
  {
   "cell_type": "code",
   "execution_count": 2,
   "id": "31a0b5c4",
   "metadata": {},
   "outputs": [
    {
     "name": "stdout",
     "output_type": "stream",
     "text": [
      "<class 'int'>\n"
     ]
    }
   ],
   "source": [
    "a=1\n",
    "print(type(a))"
   ]
  },
  {
   "cell_type": "code",
   "execution_count": 1,
   "id": "62f49242",
   "metadata": {},
   "outputs": [
    {
     "name": "stdout",
     "output_type": "stream",
     "text": [
      "tata is 7 years old\n"
     ]
    }
   ],
   "source": [
    "class company:\n",
    "    def __init__(self):\n",
    "        self.name=\"tata\"\n",
    "        self.age=7\n",
    "    def check(self):\n",
    "        print(f\"{self.name} is {self.age} years old\")\n",
    "c1=company()\n",
    "c1.check()"
   ]
  },
  {
   "cell_type": "code",
   "execution_count": 22,
   "id": "92176ca9",
   "metadata": {},
   "outputs": [
    {
     "name": "stdout",
     "output_type": "stream",
     "text": [
      "tata is 7 years old\n",
      "a1 is 40 years old\n"
     ]
    }
   ],
   "source": [
    "class company:\n",
    "    def __init__(self,name,age):\n",
    "        self.name=name\n",
    "        self.age=age\n",
    "    def check(self):\n",
    "        print(f\"{self.name} is {self.age} years old\")\n",
    "c1=company(\"tata\",7)\n",
    "c2=company(\"a1\",40)\n",
    "c1.check()\n",
    "c2.check()\n",
    "# print(type(c1))"
   ]
  },
  {
   "cell_type": "code",
   "execution_count": 15,
   "id": "b74ca6c3",
   "metadata": {},
   "outputs": [
    {
     "name": "stdout",
     "output_type": "stream",
     "text": [
      "['__class__', '__delattr__', '__dict__', '__dir__', '__doc__', '__eq__', '__format__', '__ge__', '__getattribute__', '__getstate__', '__gt__', '__hash__', '__init__', '__init_subclass__', '__le__', '__lt__', '__module__', '__ne__', '__new__', '__reduce__', '__reduce_ex__', '__repr__', '__setattr__', '__sizeof__', '__str__', '__subclasshook__', '__weakref__', 'age', 'check', 'name']\n"
     ]
    }
   ],
   "source": [
    "print(dir(c1))"
   ]
  },
  {
   "cell_type": "code",
   "execution_count": 32,
   "id": "a3f75369",
   "metadata": {},
   "outputs": [
    {
     "name": "stdout",
     "output_type": "stream",
     "text": [
      "ram works on tata\n"
     ]
    }
   ],
   "source": [
    "class employe():\n",
    "    company=\"tata\"\n",
    "    def __init__(self,name):\n",
    "        self.name=name\n",
    "    def word(self):\n",
    "        print(f\"{self.name} works on {self.company}\")\n",
    "\n",
    "e1=employe(\"ram\")\n",
    "e1.word()"
   ]
  },
  {
   "cell_type": "code",
   "execution_count": 45,
   "id": "b0ff9563",
   "metadata": {},
   "outputs": [
    {
     "name": "stdout",
     "output_type": "stream",
     "text": [
      "ram works on tata\n"
     ]
    }
   ],
   "source": [
    "class employe():\n",
    "    company=\"tata\"\n",
    "    def __init__(self,name):\n",
    "        self.name=name\n",
    "        self.word()\n",
    "    def word(self):\n",
    "        print(f\"{self.name} works on {self.company}\")\n",
    "\n",
    "e1=employe(\"ram\")\n",
    "# e1.word()"
   ]
  },
  {
   "cell_type": "code",
   "execution_count": 2,
   "id": "28e18b28",
   "metadata": {},
   "outputs": [
    {
     "name": "stdout",
     "output_type": "stream",
     "text": [
      "ram works on tata has 7\n",
      "sita works on tata has 8\n"
     ]
    }
   ],
   "source": [
    "class employe():\n",
    "    company=\"tata\"\n",
    "    def __init__(self,name):\n",
    "        self.name=name\n",
    "    def word(self,value):\n",
    "        self.value=value\n",
    "        print(f\"{self.name} works on {self.company} has {self.value}\")\n",
    "\n",
    "e1=employe(\"ram\")\n",
    "e1.word(7)\n",
    "e2=employe(\"sita\")\n",
    "e2.word(8)\n"
   ]
  },
  {
   "cell_type": "code",
   "execution_count": 48,
   "id": "3fd090fe",
   "metadata": {},
   "outputs": [
    {
     "name": "stdout",
     "output_type": "stream",
     "text": [
      "let's start\n",
      "7 is the value\n"
     ]
    }
   ],
   "source": [
    "class name:\n",
    "    def __init__(self,value):\n",
    "        self.value=value\n",
    "        self.word()\n",
    "    def make(self):\n",
    "        print(\"let's start\")\n",
    "    def word(self):\n",
    "        self.make()\n",
    "        print(f\"{self.value} is the value\")\n",
    "\n",
    "p1=name(7)\n",
    "        "
   ]
  },
  {
   "cell_type": "code",
   "execution_count": 49,
   "id": "d1aee949",
   "metadata": {},
   "outputs": [
    {
     "name": "stdout",
     "output_type": "stream",
     "text": [
      "hey\n"
     ]
    }
   ],
   "source": [
    "print(\"hey\")"
   ]
  },
  {
   "cell_type": "code",
   "execution_count": 50,
   "id": "d5a14134",
   "metadata": {},
   "outputs": [],
   "source": [
    "# attributes: instance and class (input value)"
   ]
  },
  {
   "cell_type": "code",
   "execution_count": 51,
   "id": "5f7cdfff",
   "metadata": {},
   "outputs": [],
   "source": [
    "# method: instance menthod (takes self attriute(value)), class method (takes class attributes), \n",
    "#static method (takes neither class nor instance attribute)"
   ]
  },
  {
   "cell_type": "code",
   "execution_count": 76,
   "id": "e740c123",
   "metadata": {},
   "outputs": [],
   "source": [
    "class person:\n",
    "    count=0 # class attribute\n",
    "    \n",
    "    def __init__(self,name):\n",
    "        self.name=name\n",
    "        person.count+=1\n",
    "    \n",
    "    @classmethod\n",
    "    def get_count(cls): #define class method\n",
    "        return cls.count\n",
    "    \n",
    "    @staticmethod\n",
    "    def get_full_name(firstname,secondname):\n",
    "        return f\"{firstname} {secondname}\""
   ]
  },
  {
   "cell_type": "code",
   "execution_count": 77,
   "id": "f26d9214",
   "metadata": {},
   "outputs": [
    {
     "data": {
      "text/plain": [
       "0"
      ]
     },
     "execution_count": 77,
     "metadata": {},
     "output_type": "execute_result"
    }
   ],
   "source": [
    "person.get_count()"
   ]
  },
  {
   "cell_type": "code",
   "execution_count": 78,
   "id": "c2935c57",
   "metadata": {},
   "outputs": [],
   "source": [
    "p1=person(\"ram\")"
   ]
  },
  {
   "cell_type": "code",
   "execution_count": 79,
   "id": "3f282abc",
   "metadata": {},
   "outputs": [
    {
     "data": {
      "text/plain": [
       "1"
      ]
     },
     "execution_count": 79,
     "metadata": {},
     "output_type": "execute_result"
    }
   ],
   "source": [
    "person.get_count()"
   ]
  },
  {
   "cell_type": "code",
   "execution_count": 80,
   "id": "784da113",
   "metadata": {},
   "outputs": [
    {
     "data": {
      "text/plain": [
       "2"
      ]
     },
     "execution_count": 80,
     "metadata": {},
     "output_type": "execute_result"
    }
   ],
   "source": [
    "p2=person(\"sita\")\n",
    "p2.get_count()"
   ]
  },
  {
   "cell_type": "code",
   "execution_count": 81,
   "id": "0f8cd030",
   "metadata": {},
   "outputs": [
    {
     "data": {
      "text/plain": [
       "3"
      ]
     },
     "execution_count": 81,
     "metadata": {},
     "output_type": "execute_result"
    }
   ],
   "source": [
    "p2=person(\"sita\")\n",
    "person.get_count()"
   ]
  },
  {
   "cell_type": "code",
   "execution_count": 82,
   "id": "da6772a6",
   "metadata": {},
   "outputs": [
    {
     "data": {
      "text/plain": [
       "3"
      ]
     },
     "execution_count": 82,
     "metadata": {},
     "output_type": "execute_result"
    }
   ],
   "source": [
    "person.get_count()"
   ]
  },
  {
   "cell_type": "code",
   "execution_count": 62,
   "id": "7be65264",
   "metadata": {},
   "outputs": [
    {
     "data": {
      "text/plain": [
       "'harry portter'"
      ]
     },
     "execution_count": 62,
     "metadata": {},
     "output_type": "execute_result"
    }
   ],
   "source": [
    "person.get_full_name(\"harry\",\"portter\")"
   ]
  },
  {
   "cell_type": "code",
   "execution_count": null,
   "id": "b0dc3f1e",
   "metadata": {},
   "outputs": [],
   "source": []
  },
  {
   "cell_type": "code",
   "execution_count": 14,
   "id": "3858595a",
   "metadata": {},
   "outputs": [
    {
     "data": {
      "text/plain": [
       "0"
      ]
     },
     "execution_count": 14,
     "metadata": {},
     "output_type": "execute_result"
    }
   ],
   "source": [
    "class met:\n",
    "    count=0\n",
    "    def __init__(self,no):\n",
    "        self.no=no\n",
    "        met.count+=1\n",
    "    @classmethod\n",
    "    def co(cls):\n",
    "        return cls.count\n",
    "    @staticmethod\n",
    "    def word(name,place):\n",
    "        return f\"{name} lives in {place}\"\n",
    "\n",
    "met.co()"
   ]
  },
  {
   "cell_type": "code",
   "execution_count": 15,
   "id": "b5ba8f0c",
   "metadata": {},
   "outputs": [],
   "source": [
    "p1=met(7)"
   ]
  },
  {
   "cell_type": "code",
   "execution_count": 16,
   "id": "6de206c3",
   "metadata": {},
   "outputs": [
    {
     "data": {
      "text/plain": [
       "1"
      ]
     },
     "execution_count": 16,
     "metadata": {},
     "output_type": "execute_result"
    }
   ],
   "source": [
    "met.co()"
   ]
  },
  {
   "cell_type": "code",
   "execution_count": 17,
   "id": "349146f2",
   "metadata": {},
   "outputs": [
    {
     "data": {
      "text/plain": [
       "1"
      ]
     },
     "execution_count": 17,
     "metadata": {},
     "output_type": "execute_result"
    }
   ],
   "source": [
    "p1.co()"
   ]
  },
  {
   "cell_type": "code",
   "execution_count": 18,
   "id": "56cf164f",
   "metadata": {},
   "outputs": [
    {
     "data": {
      "text/plain": [
       "'good lives in boy'"
      ]
     },
     "execution_count": 18,
     "metadata": {},
     "output_type": "execute_result"
    }
   ],
   "source": [
    "p1.word(\"good\",\"boy\")"
   ]
  },
  {
   "cell_type": "code",
   "execution_count": null,
   "id": "a964d0cc",
   "metadata": {},
   "outputs": [],
   "source": []
  }
 ],
 "metadata": {
  "kernelspec": {
   "display_name": "Python 3 (ipykernel)",
   "language": "python",
   "name": "python3"
  },
  "language_info": {
   "codemirror_mode": {
    "name": "ipython",
    "version": 3
   },
   "file_extension": ".py",
   "mimetype": "text/x-python",
   "name": "python",
   "nbconvert_exporter": "python",
   "pygments_lexer": "ipython3",
   "version": "3.11.2"
  }
 },
 "nbformat": 4,
 "nbformat_minor": 5
}
